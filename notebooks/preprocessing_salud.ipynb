{
 "cells": [
  {
   "cell_type": "markdown",
   "id": "3ce70b42",
   "metadata": {},
   "source": [
    "## Preprocessing for ENSANUT 2012 - Componente de SALUD \n",
    "\n",
    "https://ensanut.insp.mx/encuestas/ensanut2012/descargas.php"
   ]
  },
  {
   "cell_type": "markdown",
   "id": "7f4ca771",
   "metadata": {},
   "source": [
    "- Información sobre el hogar\n",
    "- Información sobre los integrantes del hogar\n",
    "- Relación entre folio de hogar y folio de vivenda\n",
    "- Cuestionario individual: Menores de 0 a 9 años de edad"
   ]
  },
  {
   "cell_type": "code",
   "execution_count": 1,
   "id": "8d62d059",
   "metadata": {},
   "outputs": [],
   "source": [
    "import pandas as pd\n",
    "import numpy as np\n",
    "import matplotlib.pyplot as plt\n",
    "import seaborn as sns\n",
    "\n",
    "import sys\n",
    "import os\n"
   ]
  },
  {
   "cell_type": "markdown",
   "id": "814bc645",
   "metadata": {},
   "source": [
    "## Limpieza folio_vivienda\n"
   ]
  },
  {
   "cell_type": "code",
   "execution_count": 2,
   "id": "efd298b3",
   "metadata": {},
   "outputs": [],
   "source": [
    "# read csv\n",
    "folio_vivienda= pd.read_csv(\"../data/raw_salud/folio_vivienda.csv\")"
   ]
  },
  {
   "cell_type": "code",
   "execution_count": 3,
   "id": "f65b2390",
   "metadata": {},
   "outputs": [
    {
     "data": {
      "text/plain": [
       "Index(['folio_c', 'folio_v'], dtype='object')"
      ]
     },
     "execution_count": 3,
     "metadata": {},
     "output_type": "execute_result"
    }
   ],
   "source": [
    "folio_vivienda.columns"
   ]
  },
  {
   "cell_type": "markdown",
   "id": "3244ce1e",
   "metadata": {},
   "source": [
    "Vars: \n",
    "- folio_c = folio consecutivo\n",
    "- folio_v = folio de vivienda"
   ]
  },
  {
   "cell_type": "code",
   "execution_count": 4,
   "id": "0415ee0c",
   "metadata": {},
   "outputs": [
    {
     "data": {
      "application/vnd.microsoft.datawrangler.viewer.v0+json": {
       "columns": [
        {
         "name": "index",
         "rawType": "object",
         "type": "string"
        },
        {
         "name": "0",
         "rawType": "int64",
         "type": "integer"
        }
       ],
       "ref": "35f3d872-16c3-4a6b-9871-6a35b3c90edf",
       "rows": [
        [
         "folio_c",
         "0"
        ],
        [
         "folio_v",
         "0"
        ]
       ],
       "shape": {
        "columns": 1,
        "rows": 2
       }
      },
      "text/plain": [
       "folio_c    0\n",
       "folio_v    0\n",
       "dtype: int64"
      ]
     },
     "execution_count": 4,
     "metadata": {},
     "output_type": "execute_result"
    }
   ],
   "source": [
    "folio_vivienda.isna().sum()"
   ]
  },
  {
   "cell_type": "code",
   "execution_count": 5,
   "id": "662a6290",
   "metadata": {},
   "outputs": [
    {
     "data": {
      "application/vnd.microsoft.datawrangler.viewer.v0+json": {
       "columns": [
        {
         "name": "index",
         "rawType": "int64",
         "type": "integer"
        },
        {
         "name": "folio_consecutivo",
         "rawType": "int64",
         "type": "integer"
        },
        {
         "name": "folio_vivienda",
         "rawType": "object",
         "type": "string"
        }
       ],
       "ref": "4414968d-a42b-41ae-8d79-3d1e939cf4ab",
       "rows": [
        [
         "0",
         "10321",
         "010321M"
        ],
        [
         "1",
         "10322",
         "010321M"
        ],
        [
         "2",
         "10800",
         "010800M"
        ],
        [
         "3",
         "10801",
         "010800M"
        ],
        [
         "4",
         "10842",
         "010842M"
        ],
        [
         "5",
         "10843",
         "010842M"
        ],
        [
         "6",
         "11286",
         "011286M"
        ],
        [
         "7",
         "11287",
         "011286M"
        ],
        [
         "8",
         "11685",
         "011685M"
        ],
        [
         "9",
         "11686",
         "011685M"
        ],
        [
         "10",
         "20188",
         "020188M"
        ],
        [
         "11",
         "20189",
         "020188M"
        ],
        [
         "12",
         "21124",
         "021124M"
        ],
        [
         "13",
         "21125",
         "021124M"
        ],
        [
         "14",
         "21182",
         "021182M"
        ],
        [
         "15",
         "21183",
         "021182M"
        ],
        [
         "16",
         "21189",
         "021189M"
        ],
        [
         "17",
         "21190",
         "021189M"
        ],
        [
         "18",
         "21280",
         "021280M"
        ],
        [
         "19",
         "21281",
         "021280M"
        ],
        [
         "20",
         "21314",
         "021314M"
        ],
        [
         "21",
         "21315",
         "021314M"
        ],
        [
         "22",
         "21316",
         "021314M"
        ],
        [
         "23",
         "21339",
         "021339M"
        ],
        [
         "24",
         "21340",
         "021339M"
        ],
        [
         "25",
         "21670",
         "021670M"
        ],
        [
         "26",
         "21671",
         "021670M"
        ],
        [
         "27",
         "21737",
         "021737M"
        ],
        [
         "28",
         "21738",
         "021737M"
        ],
        [
         "29",
         "21745",
         "021745M"
        ],
        [
         "30",
         "21746",
         "021745M"
        ],
        [
         "31",
         "21981",
         "021981M"
        ],
        [
         "32",
         "21982",
         "021981M"
        ],
        [
         "33",
         "22229",
         "022229M"
        ],
        [
         "34",
         "22230",
         "022229M"
        ],
        [
         "35",
         "22231",
         "022231M"
        ],
        [
         "36",
         "22232",
         "022231M"
        ],
        [
         "37",
         "22523",
         "022523M"
        ],
        [
         "38",
         "22524",
         "022523M"
        ],
        [
         "39",
         "22568",
         "022568M"
        ],
        [
         "40",
         "22569",
         "022568M"
        ],
        [
         "41",
         "22586",
         "022586M"
        ],
        [
         "42",
         "22587",
         "022586M"
        ],
        [
         "43",
         "32149",
         "032149M"
        ],
        [
         "44",
         "32150",
         "032149M"
        ],
        [
         "45",
         "40024",
         "040024M"
        ],
        [
         "46",
         "40025",
         "040024M"
        ],
        [
         "47",
         "40103",
         "040103M"
        ],
        [
         "48",
         "40104",
         "040103M"
        ],
        [
         "49",
         "40105",
         "040103M"
        ]
       ],
       "shape": {
        "columns": 2,
        "rows": 50528
       }
      },
      "text/html": [
       "<div>\n",
       "<style scoped>\n",
       "    .dataframe tbody tr th:only-of-type {\n",
       "        vertical-align: middle;\n",
       "    }\n",
       "\n",
       "    .dataframe tbody tr th {\n",
       "        vertical-align: top;\n",
       "    }\n",
       "\n",
       "    .dataframe thead th {\n",
       "        text-align: right;\n",
       "    }\n",
       "</style>\n",
       "<table border=\"1\" class=\"dataframe\">\n",
       "  <thead>\n",
       "    <tr style=\"text-align: right;\">\n",
       "      <th></th>\n",
       "      <th>folio_consecutivo</th>\n",
       "      <th>folio_vivienda</th>\n",
       "    </tr>\n",
       "  </thead>\n",
       "  <tbody>\n",
       "    <tr>\n",
       "      <th>0</th>\n",
       "      <td>10321</td>\n",
       "      <td>010321M</td>\n",
       "    </tr>\n",
       "    <tr>\n",
       "      <th>1</th>\n",
       "      <td>10322</td>\n",
       "      <td>010321M</td>\n",
       "    </tr>\n",
       "    <tr>\n",
       "      <th>2</th>\n",
       "      <td>10800</td>\n",
       "      <td>010800M</td>\n",
       "    </tr>\n",
       "    <tr>\n",
       "      <th>3</th>\n",
       "      <td>10801</td>\n",
       "      <td>010800M</td>\n",
       "    </tr>\n",
       "    <tr>\n",
       "      <th>4</th>\n",
       "      <td>10842</td>\n",
       "      <td>010842M</td>\n",
       "    </tr>\n",
       "    <tr>\n",
       "      <th>...</th>\n",
       "      <td>...</td>\n",
       "      <td>...</td>\n",
       "    </tr>\n",
       "    <tr>\n",
       "      <th>50523</th>\n",
       "      <td>321855</td>\n",
       "      <td>321855</td>\n",
       "    </tr>\n",
       "    <tr>\n",
       "      <th>50524</th>\n",
       "      <td>321857</td>\n",
       "      <td>321857</td>\n",
       "    </tr>\n",
       "    <tr>\n",
       "      <th>50525</th>\n",
       "      <td>321858</td>\n",
       "      <td>321858</td>\n",
       "    </tr>\n",
       "    <tr>\n",
       "      <th>50526</th>\n",
       "      <td>321860</td>\n",
       "      <td>321860</td>\n",
       "    </tr>\n",
       "    <tr>\n",
       "      <th>50527</th>\n",
       "      <td>321861</td>\n",
       "      <td>321861</td>\n",
       "    </tr>\n",
       "  </tbody>\n",
       "</table>\n",
       "<p>50528 rows × 2 columns</p>\n",
       "</div>"
      ],
      "text/plain": [
       "       folio_consecutivo folio_vivienda\n",
       "0                  10321        010321M\n",
       "1                  10322        010321M\n",
       "2                  10800        010800M\n",
       "3                  10801        010800M\n",
       "4                  10842        010842M\n",
       "...                  ...            ...\n",
       "50523             321855         321855\n",
       "50524             321857         321857\n",
       "50525             321858         321858\n",
       "50526             321860         321860\n",
       "50527             321861         321861\n",
       "\n",
       "[50528 rows x 2 columns]"
      ]
     },
     "execution_count": 5,
     "metadata": {},
     "output_type": "execute_result"
    }
   ],
   "source": [
    "folio_vivienda = folio_vivienda.rename(columns={\n",
    "    \"folio_c\": \"folio_consecutivo\",\n",
    "    \"folio_v\": \"folio_vivienda\"\n",
    "})\n",
    "\n",
    "folio_vivienda"
   ]
  },
  {
   "cell_type": "code",
   "execution_count": 6,
   "id": "0353e68d",
   "metadata": {},
   "outputs": [
    {
     "data": {
      "application/vnd.microsoft.datawrangler.viewer.v0+json": {
       "columns": [
        {
         "name": "index",
         "rawType": "object",
         "type": "string"
        },
        {
         "name": "0",
         "rawType": "object",
         "type": "unknown"
        }
       ],
       "ref": "8a1fb58f-255f-4909-8eee-17e5a61b9579",
       "rows": [
        [
         "folio_consecutivo",
         "int64"
        ],
        [
         "folio_vivienda",
         "object"
        ]
       ],
       "shape": {
        "columns": 1,
        "rows": 2
       }
      },
      "text/plain": [
       "folio_consecutivo     int64\n",
       "folio_vivienda       object\n",
       "dtype: object"
      ]
     },
     "execution_count": 6,
     "metadata": {},
     "output_type": "execute_result"
    }
   ],
   "source": [
    "folio_vivienda.dtypes"
   ]
  },
  {
   "cell_type": "code",
   "execution_count": 7,
   "id": "1889c547",
   "metadata": {},
   "outputs": [
    {
     "name": "stdout",
     "output_type": "stream",
     "text": [
      "folio_consecutivo    object\n",
      "folio_vivienda       object\n",
      "dtype: object\n"
     ]
    }
   ],
   "source": [
    "folio_vivienda[\"folio_consecutivo\"] = folio_vivienda[\"folio_consecutivo\"].astype(str)\n",
    "folio_vivienda[\"folio_vivienda\"] = folio_vivienda[\"folio_vivienda\"].astype(str)\n",
    "\n",
    "print(folio_vivienda.dtypes)"
   ]
  },
  {
   "cell_type": "markdown",
   "id": "410af7d0",
   "metadata": {},
   "source": [
    "---"
   ]
  },
  {
   "cell_type": "markdown",
   "id": "b5faa7a4",
   "metadata": {},
   "source": [
    "### Limpieza Hogar_hogar"
   ]
  },
  {
   "cell_type": "code",
   "execution_count": 14,
   "id": "f91bc678",
   "metadata": {},
   "outputs": [],
   "source": [
    "Hogar_hogar = pd.read_csv(\n",
    "    \"../data/raw_salud/Hogar_hogar.csv\",\n",
    "    encoding=\"latin1\",  # ← este sí lo lee completo sin error\n",
    "    na_values=[\"\", \" \", \"NA\"],\n",
    "    low_memory=False\n",
    ")\n"
   ]
  },
  {
   "cell_type": "code",
   "execution_count": 15,
   "id": "24533edd",
   "metadata": {},
   "outputs": [],
   "source": [
    "Hogar_hogar.columns = hogar.columns.str.replace(\"ï»¿\", \"\")\n"
   ]
  },
  {
   "cell_type": "code",
   "execution_count": 17,
   "id": "255f3a3e",
   "metadata": {},
   "outputs": [],
   "source": [
    "# Filtra columnas tipo texto\n",
    "cols_obj = Hogar_hogar.select_dtypes(include=\"object\").columns\n",
    "\n",
    "# Buscar valores con caracteres extraños\n",
    "for col in cols_obj:\n",
    "    raros = Hogar_hogar[col].dropna().astype(str).str.contains(\"�\", regex=False).sum()\n",
    "    if raros > 0:\n",
    "        print(f\"{col}: {raros} valores con caracteres extraños\")\n"
   ]
  },
  {
   "cell_type": "code",
   "execution_count": 18,
   "id": "7bd34287",
   "metadata": {},
   "outputs": [
    {
     "data": {
      "text/plain": [
       "['folio',\n",
       " 'entidad',\n",
       " 'munici',\n",
       " 'locali',\n",
       " 'deciles',\n",
       " 'quintiles',\n",
       " 'h101',\n",
       " 'h102',\n",
       " 'h103',\n",
       " 'h205',\n",
       " 'h206',\n",
       " 'h501',\n",
       " 'h502',\n",
       " 'h503',\n",
       " 'h504',\n",
       " 'h505',\n",
       " 'h506',\n",
       " 'h507',\n",
       " 'h508',\n",
       " 'h509',\n",
       " 'h510',\n",
       " 'h511',\n",
       " 'h512',\n",
       " 'h513',\n",
       " 'h514',\n",
       " 'h515',\n",
       " 'h516',\n",
       " 'h516a',\n",
       " 'h517',\n",
       " 'h518',\n",
       " 'h519',\n",
       " 'h519esp',\n",
       " 'h520',\n",
       " 'h521',\n",
       " 'h521esp',\n",
       " 'h522',\n",
       " 'h522esp',\n",
       " 'h523',\n",
       " 'h524a',\n",
       " 'h524b',\n",
       " 'h524c',\n",
       " 'h524d',\n",
       " 'h524e',\n",
       " 'h60101',\n",
       " 'h60102',\n",
       " 'h60103',\n",
       " 'h60104',\n",
       " 'h60105',\n",
       " 'h60106',\n",
       " 'h60107',\n",
       " 'h60108',\n",
       " 'h60109',\n",
       " 'h60110',\n",
       " 'h60111',\n",
       " 'h60112',\n",
       " 'h60113',\n",
       " 'h60114',\n",
       " 'h60115',\n",
       " 'h60116',\n",
       " 'h60117',\n",
       " 'h60118',\n",
       " 'h60119',\n",
       " 'h60120',\n",
       " 'h60121',\n",
       " 'h60122',\n",
       " 'h60123',\n",
       " 'h60124',\n",
       " 'h60125',\n",
       " 'h70101',\n",
       " 'h70102',\n",
       " 'h70103',\n",
       " 'h70104',\n",
       " 'h70105',\n",
       " 'h70106',\n",
       " 'h70107',\n",
       " 'h70108',\n",
       " 'h70109',\n",
       " 'h70110',\n",
       " 'h70111',\n",
       " 'h70112',\n",
       " 'h70113',\n",
       " 'h70114',\n",
       " 'h70115',\n",
       " 'h70116',\n",
       " 'h70117',\n",
       " 'h70201',\n",
       " 'h70202',\n",
       " 'h70203',\n",
       " 'h70204',\n",
       " 'h70205',\n",
       " 'h70206',\n",
       " 'h70207',\n",
       " 'h70301',\n",
       " 'h70302',\n",
       " 'h70303',\n",
       " 'h70304',\n",
       " 'h70305',\n",
       " 'h70306',\n",
       " 'h70307',\n",
       " 'h70308',\n",
       " 'h70309',\n",
       " 'h70310',\n",
       " 'h70311',\n",
       " 'h70401',\n",
       " 'h70402',\n",
       " 'h70403',\n",
       " 'h70404',\n",
       " 'h70405',\n",
       " 'h70406',\n",
       " 'h70501',\n",
       " 'h70501a',\n",
       " 'h70502',\n",
       " 'h70502a',\n",
       " 'h70503',\n",
       " 'h70503a',\n",
       " 'h70504',\n",
       " 'h70504a',\n",
       " 'h70505',\n",
       " 'h70505a',\n",
       " 'h70506',\n",
       " 'h70506sp',\n",
       " 'h70506a',\n",
       " 'h706',\n",
       " 'h707',\n",
       " 'h801',\n",
       " 'h802a',\n",
       " 'h802b',\n",
       " 'h802c',\n",
       " 'h803',\n",
       " 'h804',\n",
       " 'h805',\n",
       " 'h806',\n",
       " 'h807',\n",
       " 'h808',\n",
       " 'h809',\n",
       " 'h810',\n",
       " 'h811',\n",
       " 'h812a',\n",
       " 'h812b',\n",
       " 'h812esp',\n",
       " 'h813',\n",
       " 'code_upm',\n",
       " 'est_dis',\n",
       " 'est_urb',\n",
       " 'est_marg',\n",
       " 'pondeh',\n",
       " 'est_var']"
      ]
     },
     "execution_count": 18,
     "metadata": {},
     "output_type": "execute_result"
    }
   ],
   "source": [
    "Hogar_hogar.columns.tolist()"
   ]
  },
  {
   "cell_type": "code",
   "execution_count": 23,
   "id": "23fa3e25",
   "metadata": {},
   "outputs": [],
   "source": [
    "columnas_utiles = ['folio', 'entidad', 'munici', 'locali', 'deciles', 'est_urb', 'est_marg', 'pondeh']\n",
    "hogar_util = Hogar_hogar[columnas_utiles]\n",
    "\n",
    "hogar_util = hogar_util.rename(columns={\n",
    "    \"folio\": \"folio_consecutivo\"})"
   ]
  },
  {
   "cell_type": "markdown",
   "id": "431d8f4a",
   "metadata": {},
   "source": [
    "Vars:\n",
    "- folio_consecutivo = identificador unico del hogar\n",
    "- entidad = clave de la entidad federativa (estado)\n",
    "- munici = clave del municipio\n",
    "- locali = clave de la localidad\n",
    "- deciles = decil de ingreso del hogar\n",
    "- est_urb = indicador de zona urbana (1 si es urbano, 0 si no)\n",
    "- est_marg = indicador de marginacion de la zona\n",
    "- pondeh = ponderador del hogar (factor de expansion muestral)"
   ]
  },
  {
   "cell_type": "code",
   "execution_count": 24,
   "id": "e79be1aa",
   "metadata": {},
   "outputs": [
    {
     "data": {
      "application/vnd.microsoft.datawrangler.viewer.v0+json": {
       "columns": [
        {
         "name": "index",
         "rawType": "object",
         "type": "string"
        },
        {
         "name": "0",
         "rawType": "int64",
         "type": "integer"
        }
       ],
       "ref": "93923746-e39b-4670-965e-43e193bae71e",
       "rows": [
        [
         "deciles",
         "2"
        ],
        [
         "folio_consecutivo",
         "0"
        ],
        [
         "entidad",
         "0"
        ],
        [
         "munici",
         "0"
        ],
        [
         "locali",
         "0"
        ],
        [
         "est_urb",
         "0"
        ],
        [
         "est_marg",
         "0"
        ],
        [
         "pondeh",
         "0"
        ]
       ],
       "shape": {
        "columns": 1,
        "rows": 8
       }
      },
      "text/plain": [
       "deciles              2\n",
       "folio_consecutivo    0\n",
       "entidad              0\n",
       "munici               0\n",
       "locali               0\n",
       "est_urb              0\n",
       "est_marg             0\n",
       "pondeh               0\n",
       "dtype: int64"
      ]
     },
     "execution_count": 24,
     "metadata": {},
     "output_type": "execute_result"
    }
   ],
   "source": [
    "hogar_util.isna().sum().sort_values(ascending=False)"
   ]
  },
  {
   "cell_type": "code",
   "execution_count": 25,
   "id": "fcbbd333",
   "metadata": {},
   "outputs": [
    {
     "data": {
      "text/plain": [
       "(50528, 8)"
      ]
     },
     "execution_count": 25,
     "metadata": {},
     "output_type": "execute_result"
    }
   ],
   "source": [
    "hogar_util.shape\n"
   ]
  },
  {
   "cell_type": "code",
   "execution_count": 26,
   "id": "0f33fda3",
   "metadata": {},
   "outputs": [
    {
     "name": "stdout",
     "output_type": "stream",
     "text": [
      "folio_consecutivo: 50528 valores únicos\n",
      "entidad: 32 valores únicos\n",
      "munici: 177 valores únicos\n",
      "locali: 323 valores únicos\n",
      "deciles: 10 valores únicos\n",
      "est_urb: 3 valores únicos\n",
      "est_marg: 2 valores únicos\n",
      "pondeh: 2833 valores únicos\n"
     ]
    }
   ],
   "source": [
    "for col in hogar_util.columns:\n",
    "    print(f\"{col}: {hogar_util[col].nunique()} valores únicos\")\n"
   ]
  },
  {
   "cell_type": "code",
   "execution_count": 28,
   "id": "d0575c6d",
   "metadata": {},
   "outputs": [
    {
     "data": {
      "text/plain": [
       "0"
      ]
     },
     "execution_count": 28,
     "metadata": {},
     "output_type": "execute_result"
    }
   ],
   "source": [
    "hogar_util['folio_consecutivo'].duplicated().sum()\n"
   ]
  },
  {
   "cell_type": "markdown",
   "id": "f579c792",
   "metadata": {},
   "source": [
    "---"
   ]
  },
  {
   "cell_type": "markdown",
   "id": "2df12a4b",
   "metadata": {},
   "source": [
    "### Hogar_integrantes\n"
   ]
  },
  {
   "cell_type": "markdown",
   "id": "36188c07",
   "metadata": {},
   "source": [
    "---"
   ]
  },
  {
   "cell_type": "markdown",
   "id": "d68226fb",
   "metadata": {},
   "source": [
    "### Menores"
   ]
  }
 ],
 "metadata": {
  "kernelspec": {
   "display_name": "sandbox",
   "language": "python",
   "name": "python3"
  },
  "language_info": {
   "codemirror_mode": {
    "name": "ipython",
    "version": 3
   },
   "file_extension": ".py",
   "mimetype": "text/x-python",
   "name": "python",
   "nbconvert_exporter": "python",
   "pygments_lexer": "ipython3",
   "version": "3.11.11"
  }
 },
 "nbformat": 4,
 "nbformat_minor": 5
}
