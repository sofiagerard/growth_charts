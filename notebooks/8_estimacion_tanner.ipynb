{
 "cells": [
  {
   "cell_type": "markdown",
   "id": "816a594d",
   "metadata": {},
   "source": [
    "# Estimación del estadio puberal de Tanner para añadir al M5 y afinarlo "
   ]
  },
  {
   "cell_type": "code",
   "execution_count": 1,
   "id": "d32c3658",
   "metadata": {},
   "outputs": [],
   "source": [
    "import pandas as pd\n",
    "import pymc as pm\n",
    "import arviz as az\n",
    "import numpy as np\n",
    "import matplotlib.pyplot as plt\n",
    "import seaborn as sns\n",
    "import warnings\n",
    "import pytensor  \n",
    "from patsy import dmatrix\n"
   ]
  },
  {
   "cell_type": "code",
   "execution_count": 2,
   "id": "8486ee3d",
   "metadata": {},
   "outputs": [],
   "source": [
    "# read data\n",
    "df = pd.read_csv(\"../data/clean/clean2_final_nutricion_salud.csv\")"
   ]
  },
  {
   "cell_type": "markdown",
   "id": "70197edd",
   "metadata": {},
   "source": [
    "---"
   ]
  },
  {
   "cell_type": "code",
   "execution_count": 3,
   "id": "bb5ebda3",
   "metadata": {},
   "outputs": [
    {
     "name": "stdout",
     "output_type": "stream",
     "text": [
      "<class 'pandas.core.frame.DataFrame'>\n",
      "Index: 25355 entries, 100001_3 to 70336_4\n",
      "Data columns (total 5 columns):\n",
      " #   Column           Non-Null Count  Dtype  \n",
      "---  ------           --------------  -----  \n",
      " 0   talla_cm         25355 non-null  float64\n",
      " 1   edad_anios_calc  25355 non-null  float64\n",
      " 2   sexo             25355 non-null  int64  \n",
      " 3   peso_kg          25355 non-null  float64\n",
      " 4   municipio        25355 non-null  float64\n",
      "dtypes: float64(4), int64(1)\n",
      "memory usage: 1.2+ MB\n"
     ]
    },
    {
     "data": {
      "text/plain": [
       "177"
      ]
     },
     "execution_count": 3,
     "metadata": {},
     "output_type": "execute_result"
    }
   ],
   "source": [
    "# Filtramos observaciones con datos completos de talla, edad y sexo\n",
    "df_model = df[[\"talla_cm\", \"edad_anios_calc\", \"sexo\", \"peso_kg\", \"municipio\", \"id_persona\"]].dropna()\n",
    "\n",
    "# Establecemos 'id_persona' como índice del DataFrame\n",
    "df_model = df_model.set_index(\"id_persona\")\n",
    "\n",
    "# Codificamos correctamente sexo \n",
    "# Recodeamos sexo: 0 = mujer, 1 = hombre\n",
    "df_model[\"sexo\"] = df_model[\"sexo\"].map({2: 0, 1: 1})\n",
    "\n",
    "# Confirmamos los tipos de variables y que no haya NAs\n",
    "df_model.info()\n",
    "df_model.describe()\n",
    "df_model[\"sexo\"].value_counts()\n",
    "df_model[\"municipio\"].nunique()"
   ]
  },
  {
   "cell_type": "code",
   "execution_count": 4,
   "id": "4d04ce6e",
   "metadata": {},
   "outputs": [
    {
     "data": {
      "application/vnd.microsoft.datawrangler.viewer.v0+json": {
       "columns": [
        {
         "name": "id_persona",
         "rawType": "object",
         "type": "string"
        },
        {
         "name": "municipio",
         "rawType": "float64",
         "type": "float"
        },
        {
         "name": "municipio_idx",
         "rawType": "int16",
         "type": "integer"
        }
       ],
       "ref": "9bfd9aba-132f-4ec1-8ba7-f613f1fafb76",
       "rows": [
        [
         "100001_3",
         "1.0",
         "0"
        ],
        [
         "11276_3",
         "2.0",
         "1"
        ],
        [
         "110044_5",
         "3.0",
         "2"
        ],
        [
         "100075_5",
         "4.0",
         "3"
        ],
        [
         "100121_6",
         "5.0",
         "4"
        ]
       ],
       "shape": {
        "columns": 2,
        "rows": 5
       }
      },
      "text/html": [
       "<div>\n",
       "<style scoped>\n",
       "    .dataframe tbody tr th:only-of-type {\n",
       "        vertical-align: middle;\n",
       "    }\n",
       "\n",
       "    .dataframe tbody tr th {\n",
       "        vertical-align: top;\n",
       "    }\n",
       "\n",
       "    .dataframe thead th {\n",
       "        text-align: right;\n",
       "    }\n",
       "</style>\n",
       "<table border=\"1\" class=\"dataframe\">\n",
       "  <thead>\n",
       "    <tr style=\"text-align: right;\">\n",
       "      <th></th>\n",
       "      <th>municipio</th>\n",
       "      <th>municipio_idx</th>\n",
       "    </tr>\n",
       "    <tr>\n",
       "      <th>id_persona</th>\n",
       "      <th></th>\n",
       "      <th></th>\n",
       "    </tr>\n",
       "  </thead>\n",
       "  <tbody>\n",
       "    <tr>\n",
       "      <th>100001_3</th>\n",
       "      <td>1.0</td>\n",
       "      <td>0</td>\n",
       "    </tr>\n",
       "    <tr>\n",
       "      <th>11276_3</th>\n",
       "      <td>2.0</td>\n",
       "      <td>1</td>\n",
       "    </tr>\n",
       "    <tr>\n",
       "      <th>110044_5</th>\n",
       "      <td>3.0</td>\n",
       "      <td>2</td>\n",
       "    </tr>\n",
       "    <tr>\n",
       "      <th>100075_5</th>\n",
       "      <td>4.0</td>\n",
       "      <td>3</td>\n",
       "    </tr>\n",
       "    <tr>\n",
       "      <th>100121_6</th>\n",
       "      <td>5.0</td>\n",
       "      <td>4</td>\n",
       "    </tr>\n",
       "  </tbody>\n",
       "</table>\n",
       "</div>"
      ],
      "text/plain": [
       "            municipio  municipio_idx\n",
       "id_persona                          \n",
       "100001_3          1.0              0\n",
       "11276_3           2.0              1\n",
       "110044_5          3.0              2\n",
       "100075_5          4.0              3\n",
       "100121_6          5.0              4"
      ]
     },
     "execution_count": 4,
     "metadata": {},
     "output_type": "execute_result"
    }
   ],
   "source": [
    "# Codificamos cada municipio con un índice entero único (de 0 a n_grupos - 1)\n",
    "df_model[\"municipio_idx\"] = pd.Categorical(df_model[\"municipio\"]).codes\n",
    "\n",
    "# Verificamos que se creó correctamente\n",
    "df_model[[\"municipio\", \"municipio_idx\"]].drop_duplicates().sort_values(\"municipio_idx\").head()\n"
   ]
  },
  {
   "cell_type": "markdown",
   "id": "b154e341",
   "metadata": {},
   "source": [
    "---"
   ]
  },
  {
   "cell_type": "code",
   "execution_count": 5,
   "id": "1b097422",
   "metadata": {},
   "outputs": [
    {
     "name": "stdout",
     "output_type": "stream",
     "text": [
      "Edad media en la muestra: 6.266 años\n"
     ]
    },
    {
     "data": {
      "application/vnd.microsoft.datawrangler.viewer.v0+json": {
       "columns": [
        {
         "name": "id_persona",
         "rawType": "object",
         "type": "string"
        },
        {
         "name": "edad_anios_calc",
         "rawType": "float64",
         "type": "float"
        },
        {
         "name": "edad_c",
         "rawType": "float64",
         "type": "float"
        }
       ],
       "ref": "ebe84b0d-84b7-4923-955a-c117094921ce",
       "rows": [
        [
         "100001_3",
         "8.695414091666667",
         "2.429254067877473"
        ],
        [
         "100006_6",
         "11.211498966666667",
         "4.945338942877473"
        ],
        [
         "100008_10",
         "7.561943866666667",
         "1.2957838428774728"
        ],
        [
         "100009_3",
         "6.27789185",
         "0.011731826210805707"
        ],
        [
         "100010_7",
         "8.145106091666667",
         "1.8789460678774734"
        ]
       ],
       "shape": {
        "columns": 2,
        "rows": 5
       }
      },
      "text/html": [
       "<div>\n",
       "<style scoped>\n",
       "    .dataframe tbody tr th:only-of-type {\n",
       "        vertical-align: middle;\n",
       "    }\n",
       "\n",
       "    .dataframe tbody tr th {\n",
       "        vertical-align: top;\n",
       "    }\n",
       "\n",
       "    .dataframe thead th {\n",
       "        text-align: right;\n",
       "    }\n",
       "</style>\n",
       "<table border=\"1\" class=\"dataframe\">\n",
       "  <thead>\n",
       "    <tr style=\"text-align: right;\">\n",
       "      <th></th>\n",
       "      <th>edad_anios_calc</th>\n",
       "      <th>edad_c</th>\n",
       "    </tr>\n",
       "    <tr>\n",
       "      <th>id_persona</th>\n",
       "      <th></th>\n",
       "      <th></th>\n",
       "    </tr>\n",
       "  </thead>\n",
       "  <tbody>\n",
       "    <tr>\n",
       "      <th>100001_3</th>\n",
       "      <td>8.695414</td>\n",
       "      <td>2.429254</td>\n",
       "    </tr>\n",
       "    <tr>\n",
       "      <th>100006_6</th>\n",
       "      <td>11.211499</td>\n",
       "      <td>4.945339</td>\n",
       "    </tr>\n",
       "    <tr>\n",
       "      <th>100008_10</th>\n",
       "      <td>7.561944</td>\n",
       "      <td>1.295784</td>\n",
       "    </tr>\n",
       "    <tr>\n",
       "      <th>100009_3</th>\n",
       "      <td>6.277892</td>\n",
       "      <td>0.011732</td>\n",
       "    </tr>\n",
       "    <tr>\n",
       "      <th>100010_7</th>\n",
       "      <td>8.145106</td>\n",
       "      <td>1.878946</td>\n",
       "    </tr>\n",
       "  </tbody>\n",
       "</table>\n",
       "</div>"
      ],
      "text/plain": [
       "            edad_anios_calc    edad_c\n",
       "id_persona                           \n",
       "100001_3           8.695414  2.429254\n",
       "100006_6          11.211499  4.945339\n",
       "100008_10          7.561944  1.295784\n",
       "100009_3           6.277892  0.011732\n",
       "100010_7           8.145106  1.878946"
      ]
     },
     "execution_count": 5,
     "metadata": {},
     "output_type": "execute_result"
    }
   ],
   "source": [
    "# Centrar la edad y guardar la media: \n",
    "# Esto ayuda a que el intercepto sea interpretable (talla promedio en la edad media) y mejora la estabilidad numérica del muestreo.\n",
    "edad_mean = df_model[\"edad_anios_calc\"].mean()\n",
    "df_model[\"edad_c\"] = df_model[\"edad_anios_calc\"] - edad_mean\n",
    "\n",
    "print(f\"Edad media en la muestra: {edad_mean:.3f} años\")\n",
    "df_model[[\"edad_anios_calc\", \"edad_c\"]].head()\n"
   ]
  },
  {
   "cell_type": "markdown",
   "id": "d5710ac8",
   "metadata": {},
   "source": [
    "---"
   ]
  },
  {
   "cell_type": "markdown",
   "id": "0de7938b",
   "metadata": {},
   "source": [
    "## Modelo M5: splines "
   ]
  },
  {
   "cell_type": "code",
   "execution_count": 6,
   "id": "6d273830",
   "metadata": {},
   "outputs": [
    {
     "name": "stdout",
     "output_type": "stream",
     "text": [
      "X_s shape: (25355, 5)\n"
     ]
    }
   ],
   "source": [
    "# Construcción de B-splines cúbicos para la edad\n",
    "# (A) Hiperparámetro de flexibilidad\n",
    "df_spline = 5        # Empezamos con 5; luego probamos 6 o 7 si hace falta.\n",
    "\n",
    "# (B) Matriz de B-splines cúbicos de la edad (sin intercepto)\n",
    "X_spline = dmatrix(\n",
    "    \"bs(edad, df=df_spline, degree=3, include_intercept=False) - 1\",\n",
    "    {\"edad\": df_model[\"edad_anios_calc\"].values},\n",
    "    return_type=\"dataframe\"\n",
    ")\n",
    "\n",
    "# (C) A NumPy para PyMC\n",
    "X_s = X_spline.to_numpy()\n",
    "\n",
    "# (D) Chequeo rápido\n",
    "n_obs, n_s = X_s.shape\n",
    "print(\"X_s shape:\", X_s.shape)   # (n_obs, n_bases)\n"
   ]
  },
  {
   "cell_type": "code",
   "execution_count": 7,
   "id": "bf861c57",
   "metadata": {},
   "outputs": [
    {
     "name": "stdout",
     "output_type": "stream",
     "text": [
      "n_obs=25355 | n_s(bases)=5 | n_muni=177\n"
     ]
    }
   ],
   "source": [
    "# Variable objetivo y predictores “clásicos”\n",
    "y        = df_model[\"talla_cm\"].to_numpy()\n",
    "sexo     = df_model[\"sexo\"].to_numpy().astype(int)  # 0 = mujer, 1 = hombre\n",
    "\n",
    "# Edad centrada (importante para estabilidad y para interpretar el intercepto)\n",
    "edad_c   = (df_model[\"edad_anios_calc\"] - df_model[\"edad_anios_calc\"].mean()).to_numpy()\n",
    "\n",
    "# Índice entero de municipio por observación (0..n_muni-1)\n",
    "muni_idx = df_model[\"municipio_idx\"].to_numpy().astype(int)\n",
    "\n",
    "# Tamaños\n",
    "n_obs_chk = y.shape[0]\n",
    "n_muni    = int(muni_idx.max()) + 1\n",
    "\n",
    "# Chequeos\n",
    "assert X_s.shape[0] == n_obs_chk, \"X_s debe tener tantas filas como observaciones.\"\n",
    "print(f\"n_obs={n_obs_chk} | n_s(bases)={n_s} | n_muni={n_muni}\")\n"
   ]
  },
  {
   "cell_type": "code",
   "execution_count": 8,
   "id": "95fae0d0",
   "metadata": {},
   "outputs": [],
   "source": [
    "\n",
    "# with pm.Model() as modelo_m5:\n",
    "#     # --- Priors globales (cm) ---\n",
    "#     beta_0        = pm.Normal(\"beta_0\", 125, 10)     # talla a la edad media (sexo=0)\n",
    "#     beta_sexo     = pm.Normal(\"beta_sexo\", 3, 2)     # diferencia nivel hombre vs mujer\n",
    "#     beta_edad_sex = pm.Normal(\"beta_edad_sex\", 0, 2) # interacción lineal edad_c × sexo (opcional)\n",
    "\n",
    "#     # --- Pesos de las bases spline (regularización suave) ---\n",
    "#     # Normal(0,1) ≈ “ridge” suave; si vemos curvas muy onduladas, bajamos a 0.5\n",
    "#     w_s = pm.Normal(\"w_s\", 0, 1.0, shape=n_s)\n",
    "\n",
    "#     # --- Efectos aleatorios por municipio (no-centrados) ---\n",
    "#     sd_a0 = pm.HalfNormal(\"sd_a0\", 5)   # sd de interceptos municipales (cm)\n",
    "#     sd_a1 = pm.HalfNormal(\"sd_a1\", 2)   # sd de pendientes municipales (cm/año)\n",
    "\n",
    "#     z_a0 = pm.Normal(\"z_a0\", 0, 1, shape=n_muni) # de la centralización\n",
    "#     z_a1 = pm.Normal(\"z_a1\", 0, 1, shape=n_muni) # de la centralización\n",
    "#     a0   = pm.Deterministic(\"a0\", sd_a0 * z_a0) \n",
    "#     a1   = pm.Deterministic(\"a1\", sd_a1 * z_a1)\n",
    "\n",
    "#     # --- Curva de edad a partir de las bases ---\n",
    "#     # dot(X_s, w_s): vector (n_obs,) con la contribución no lineal de la edad\n",
    "#     f_edad = pm.Deterministic(\"f_edad\", pm.math.dot(X_s, w_s))\n",
    "\n",
    "#     # --- Media (predicción) ---\n",
    "#     mu = (\n",
    "#         beta_0\n",
    "#         + beta_sexo * sexo\n",
    "#         + f_edad                        # curva suave común por edad\n",
    "#         + a0[muni_idx]                  # nivel municipal\n",
    "#         + a1[muni_idx] * edad_c         # “tilt” lineal municipal\n",
    "#         + beta_edad_sex * (edad_c * sexo)  # opcional: diferencia de pendiente global por sexo\n",
    "#     )\n",
    "\n",
    "#     # --- Likelihood robusta ---\n",
    "#     nu    = pm.Exponential(\"nu\", 1/10)     # g.l. (media 10)\n",
    "#     sigma = pm.HalfNormal(\"sigma_obs\", 5)  # escala residual (cm)\n",
    "#     talla_obs = pm.StudentT(\"talla_obs\", nu=nu, mu=mu, sigma=sigma, observed=y)\n"
   ]
  },
  {
   "cell_type": "markdown",
   "id": "56f8abea",
   "metadata": {},
   "source": [
    "Por qué “no centrado” en a0, a1:\n",
    "\n",
    "Cuando la variación entre municipios (sd_a*) es pequeña o el muestreo está “tenso”, la forma no centrada (z ~ N(0,1); a = sd*z) mejora mucho la mezcla y reduce divergencias."
   ]
  },
  {
   "cell_type": "code",
   "execution_count": 9,
   "id": "45964614",
   "metadata": {},
   "outputs": [],
   "source": [
    "# with modelo_m5:\n",
    "#     idata_m5 = pm.sample(\n",
    "#         draws=1000, tune=1000,          # empezamos moderado; si todo OK luego subimos a 1200–1500\n",
    "#         chains=3, cores=1,            # cores=1 evita issues en notebooks/entornos limitados\n",
    "#         target_accept=0.97,           # alto = menos divergences (si hay, subimos a 0.99)\n",
    "#         init=\"jitter+adapt_diag\",\n",
    "#         random_seed=42,\n",
    "#         return_inferencedata=True,\n",
    "#         idata_kwargs={\"log_likelihood\": True}\n",
    "#     )\n",
    "\n",
    "#     # PPC (para plot_ppc y checks)\n",
    "#     ppc_m5 = pm.sample_posterior_predictive(idata_m5, return_inferencedata=True, random_seed=42)\n",
    "#     idata_m5.extend(ppc_m5)   # <- sin reasignar\n",
    "\n",
    "#     print(idata_m5.groups())\n"
   ]
  },
  {
   "cell_type": "code",
   "execution_count": 10,
   "id": "0b412ade",
   "metadata": {},
   "outputs": [],
   "source": [
    "# summ = az.summary(idata_m5, round_to=2)\n",
    "# display(summ.head(12))"
   ]
  },
  {
   "cell_type": "markdown",
   "id": "257e0591",
   "metadata": {},
   "source": [
    "---"
   ]
  },
  {
   "cell_type": "markdown",
   "id": "38f0da33",
   "metadata": {},
   "source": [
    "## Estimación estadio puberal Tanner con modelos latentes probabilísticos (LVPM)"
   ]
  },
  {
   "cell_type": "markdown",
   "id": "ccb5bed1",
   "metadata": {},
   "source": [
    "Qué son los estadios Tanner?\n",
    "\n",
    "Se usan clínicamente para evaluar el desarrollo físico en la pubertad, con 5 fases (Tanner 1 a 5), basadas en características sexuales secundarias: desarrollo mamario/genital y vello púbico. Son el “estándar de oro” en pediatría"
   ]
  },
  {
   "cell_type": "markdown",
   "id": "665439be",
   "metadata": {},
   "source": [
    "### Modelos latentes probabilísticos aplicados a Tanner\n",
    "\n",
    "Un modelo latente parte de la idea de que, además de las variables que observamos (edad, sexo, talla, IMC), existe una **variable oculta** que no se mide directamente pero que explica parte del patrón en los datos.  \n",
    "En el contexto de crecimiento infantil, esa variable oculta corresponde al **estadio puberal de Tanner (I–V)**.\n",
    "\n",
    "#### 1. Probabilidades de estadio\n",
    "El modelo no asigna a cada niño un estadio fijo, sino que estima **probabilidades** para cada uno de los cinco estadios.  \n",
    "Estas probabilidades dependen de características observadas como la edad, el sexo y el IMC.  \n",
    "Ejemplo: un niño de 13 años podría tener:  \n",
    "- 10% Tanner II  \n",
    "- 40% Tanner III  \n",
    "- 50% Tanner IV  \n",
    "\n",
    "#### 2. Distribuciones por estadio\n",
    "Cada estadio Tanner tiene su propia **distribución de talla esperada**.  \n",
    "- Tanner I: estaturas más bajas.  \n",
    "- Tanner V: estaturas más altas.  \n",
    "- Los estadios intermedios representan el crecimiento acelerado del estirón puberal.  \n",
    "\n",
    "De esta forma, si un niño está en Tanner III, se espera que su talla se distribuya alrededor de un valor típico para ese estadio, con cierta variabilidad natural.\n",
    "\n",
    "#### 3. Mezcla probabilística\n",
    "Como no sabemos en qué estadio se encuentra exactamente cada niño, el modelo combina todas las distribuciones ponderadas por las probabilidades:  \n",
    "\n",
    "**Prob(talla) = Prob(Tanner I)·Distribución I + Prob(Tanner II)·Distribución II + ... + Prob(Tanner V)·Distribución V**\n",
    "\n",
    "Esto refleja que la talla observada no proviene de una única categoría fija, sino de una mezcla que captura la **incertidumbre** del estado puberal.\n",
    "\n",
    "#### 4. Interpretación\n",
    "- Las **probabilidades** responden a: “¿Qué tan probable es que este niño esté en cada estadio Tanner?”.  \n",
    "- Las **distribuciones por estadio** responden a: “Si el niño estuviera en este estadio, ¿cuál sería la talla típica?”.  \n",
    "- La **mezcla final** responde a: “Dada su edad y características, ¿cómo se distribuye la talla observada?”.  \n",
    "\n",
    "#### Ventajas\n",
    "- No fuerza a clasificar en un único estadio.  \n",
    "- Captura la incertidumbre en edades de transición.  \n",
    "- Representa mejor la heterogeneidad real del crecimiento que un modelo lineal simple.  \n",
    "- Permite aproximar el Tanner aunque no haya mediciones clínicas directas.\n"
   ]
  },
  {
   "cell_type": "markdown",
   "id": "30771fb9",
   "metadata": {},
   "source": [
    "---"
   ]
  },
  {
   "cell_type": "markdown",
   "id": "d61338be",
   "metadata": {},
   "source": [
    "### Añadir una variable latente puberal al M5 primero con 2 estados: PRE y POST."
   ]
  },
  {
   "cell_type": "code",
   "execution_count": 11,
   "id": "2049625a",
   "metadata": {},
   "outputs": [
    {
     "name": "stdout",
     "output_type": "stream",
     "text": [
      "n_obs=25355 | n_s=5 | n_muni=177\n"
     ]
    },
    {
     "name": "stderr",
     "output_type": "stream",
     "text": [
      "/var/folders/8v/p9jmdytd6y36kdsq55l4_cqw0000gn/T/ipykernel_6454/758676489.py:4: RuntimeWarning: invalid value encountered in cast\n",
      "  sexo     = df_model[\"sexo\"].map({2:0, 1:1}).to_numpy().astype(int)  # 0=mujer, 1=hombre\n"
     ]
    }
   ],
   "source": [
    "# --- Preparación mínima (solo si no está corrido arriba) ---\n",
    "\n",
    "y        = df_model[\"talla_cm\"].to_numpy()\n",
    "sexo     = df_model[\"sexo\"].map({2:0, 1:1}).to_numpy().astype(int)  # 0=mujer, 1=hombre\n",
    "edad     = df_model[\"edad_anios_calc\"].to_numpy()\n",
    "edad_c   = edad - edad.mean()\n",
    "edad_cs  = edad_c / (edad_c.std() + 1e-8)\n",
    "\n",
    "muni_idx = pd.Categorical(df_model[\"municipio\"]).codes.astype(int)\n",
    "n_muni   = int(muni_idx.max()) + 1\n",
    "\n",
    "# X_s: tu matriz de splines tiene que ser array float\n",
    "X_s = X_s.astype(float)\n",
    "\n",
    "# Chequeos de tamaño\n",
    "n_obs = y.shape[0]\n",
    "n_s   = X_s.shape[1]\n",
    "assert X_s.shape[0] == n_obs, \"X_s debe tener tantas filas como observaciones.\"\n",
    "assert sexo.shape[0] == n_obs and edad_cs.shape[0] == n_obs and muni_idx.shape[0] == n_obs, \"Vectores mal alineados.\"\n",
    "\n",
    "print(f\"n_obs={n_obs} | n_s={n_s} | n_muni={n_muni}\")\n"
   ]
  },
  {
   "cell_type": "markdown",
   "id": "24d86052",
   "metadata": {},
   "source": [
    "Para cada observación, el modelo calcula una probabilidad de POST: p_post (entre 0 y 1).\n",
    "\n",
    "p_post se modela con una logística que aumenta con la edad (y puede depender de sexo).\n",
    "\n",
    "Parámetros:\n",
    "\n",
    "g0: intercepto (prob POST en la edad media).\n",
    "\n",
    "g_ed: cuánto sube la prob POST cuando la edad sube 1 desviación estándar.\n",
    "\n",
    "g_sx: cambio de prob POST por ser hombre (opcional).\n",
    "\n",
    "La talla no “elige” PRE o POST; en cambio, se modela como mezcla:\n",
    "\n",
    "Componente PRE: media = mu_base + delta_pre\n",
    "\n",
    "Componente POST: media = mu_base + delta_post\n",
    "\n",
    "Para que los dos “ajustes” sean identificables, les imponemos suma cero:\n",
    "delta_pre + delta_post = 0.\n",
    "Así, si delta_post > 0 ⇒ POST está por encima de la base; PRE, por debajo."
   ]
  },
  {
   "cell_type": "code",
   "execution_count": 12,
   "id": "0a87167c",
   "metadata": {},
   "outputs": [],
   "source": [
    "\n",
    "# with pm.Model() as modelo_m6_k2:\n",
    "#     # ====== (A) Parte base = M5 ======\n",
    "\n",
    "#     # -- Priors globales (en cm) --\n",
    "#     beta_0        = pm.Normal(\"beta_0\", 125, 10)     # talla a edad media (sexo=0)\n",
    "#     beta_sexo     = pm.Normal(\"beta_sexo\", 3, 2)     # diferencia hombre vs mujer (nivel)\n",
    "#     beta_edad_sex = pm.Normal(\"beta_edad_sex\", 0, 2) # interacción lineal edad_c × sexo (opcional)\n",
    "\n",
    "#     # -- Splines: pesos con regularización suave (Normal(0,1)) --\n",
    "#     w_s = pm.Normal(\"w_s\", 0, 1.0, shape=n_s)\n",
    "\n",
    "#     # Contribución no lineal de la edad (vector de longitud n_obs)\n",
    "#     f_edad = pm.Deterministic(\"f_edad\", pm.math.dot(X_s, w_s))\n",
    "\n",
    "#     # -- Efectos aleatorios por municipio (no-centrados) --\n",
    "#     sd_a0 = pm.HalfNormal(\"sd_a0\", 5)   # variación de interceptos entre municipios\n",
    "#     sd_a1 = pm.HalfNormal(\"sd_a1\", 2)   # variación de pendientes (cm/año) entre municipios\n",
    "\n",
    "#     z_a0  = pm.Normal(\"z_a0\", 0, 1, shape=n_muni)   # versión estandarizada\n",
    "#     z_a1  = pm.Normal(\"z_a1\", 0, 1, shape=n_muni)   # versión estandarizada\n",
    "\n",
    "#     a0    = pm.Deterministic(\"a0\", sd_a0 * z_a0)    # intercepto aleatorio municipal j\n",
    "#     a1    = pm.Deterministic(\"a1\", sd_a1 * z_a1)    # pendiente aleatoria municipal j\n",
    "\n",
    "#     # -- Media base (sin pubertad) --\n",
    "#     mu_base = (\n",
    "#         beta_0\n",
    "#         + beta_sexo * sexo\n",
    "#         + f_edad\n",
    "#         + a0[muni_idx]\n",
    "#         + a1[muni_idx] * edad_c\n",
    "#         + beta_edad_sex * (edad_c * sexo)   # puedes quitarlo si no lo necesitas\n",
    "#     )\n",
    "\n",
    "#     # ====== (B) Variable latente puberal: K=2 (PRE vs POST) ======\n",
    "\n",
    "#     # Logística para probabilidad de POST: p_post = sigmoid(g0 + g_ed*edad_cs + g_sx*sexo)\n",
    "#     g0   = pm.Normal(\"g0\", 0, 2)      # intercepto del logit\n",
    "#     g_ed = pm.Normal(\"g_ed\", 1.5, 1)  # efecto de edad estandarizada (esperado >0)\n",
    "#     g_sx = pm.Normal(\"g_sx\", 0, 1)    # efecto de sexo (pequeño; puedes poner 0 si no quieres)\n",
    "\n",
    "#     logit_post = g0 + g_ed*edad_cs + g_sx*sexo\n",
    "#     p_post     = pm.Deterministic(\"p_post\", pm.math.sigmoid(logit_post))  # (n_obs,)\n",
    "\n",
    "#     # Matriz de pesos por fila: [Prob(PRE), Prob(POST)]\n",
    "#     W = pm.Deterministic(\"W\", pm.math.stack([1 - p_post, p_post], axis=1))  # (n_obs, 2)\n",
    "\n",
    "#     # Ajustes por estado (en cm) con suma cero: delta_pre + delta_post = 0\n",
    "#     delta_raw = pm.Normal(\"delta_raw\", 0, 2, shape=2)      # sin restricción\n",
    "#     delta     = pm.Deterministic(\"delta\", delta_raw - delta_raw.mean())  # suma cero\n",
    "\n",
    "#     # Medias por observación y estado (n_obs, 2):\n",
    "#     #   columna 0: PRE  -> mu_base + delta[0]\n",
    "#     #   columna 1: POST -> mu_base + delta[1]\n",
    "#     mu_comp = pm.Deterministic(\n",
    "#         \"mu_comp\",\n",
    "#         pm.math.stack([mu_base + delta[0],  # PRE\n",
    "#                        mu_base + delta[1]], # POST\n",
    "#                       axis=1)\n",
    "#     )\n",
    "\n",
    "#     # ====== (C) Likelihood robusta: mezcla de 2 Student-t ======\n",
    "#     nu    = pm.Exponential(\"nu\", 1/10)       # grados de libertad (colas)\n",
    "#     sigma = pm.HalfNormal(\"sigma_obs\", 5)    # escala residual (cm)\n",
    "\n",
    "#     comp_pre  = pm.StudentT.dist(nu=nu, mu=mu_comp[:, 0], sigma=sigma)\n",
    "#     comp_post = pm.StudentT.dist(nu=nu, mu=mu_comp[:, 1], sigma=sigma)\n",
    "\n",
    "#     talla_obs = pm.Mixture(\n",
    "#         \"talla_obs\",\n",
    "#         w=W,                         # pesos por observación (fila)\n",
    "#         comp_dists=[comp_pre, comp_post],\n",
    "#         observed=y\n",
    "#     )\n"
   ]
  },
  {
   "cell_type": "code",
   "execution_count": 13,
   "id": "61682fa6",
   "metadata": {},
   "outputs": [],
   "source": [
    "# with modelo_m6_k2:\n",
    "#     idata_m6 = pm.sample(\n",
    "#         draws=800, tune=800,\n",
    "#         chains=2, cores=1,\n",
    "#         target_accept=0.97,\n",
    "#         init=\"jitter+adapt_diag\",\n",
    "#         random_seed=42,\n",
    "#         return_inferencedata=True,\n",
    "#         idata_kwargs={\"log_likelihood\": True}\n",
    "#     )\n",
    "\n",
    "#     ppc_m6 = pm.sample_posterior_predictive(\n",
    "#         idata_m6, return_inferencedata=True, random_seed=42\n",
    "#     )\n",
    "#     idata_m6.extend(ppc_m6)\n"
   ]
  },
  {
   "cell_type": "code",
   "execution_count": 14,
   "id": "693ff6b2",
   "metadata": {},
   "outputs": [],
   "source": [
    "# summ = az.summary(idata_m6, var_names=[\"beta_0\",\"beta_sexo\",\"beta_edad_sex\",\n",
    "#                                        \"sd_a0\",\"sd_a1\",\"sigma_obs\",\"nu\",\n",
    "#                                        \"g0\",\"g_ed\",\"g_sx\",\"delta\",\"w_s\"],\n",
    "#                   round_to=2)\n",
    "# display(summ.sort_values(\"r_hat\", ascending=False).head(15))\n",
    "\n",
    "\n"
   ]
  },
  {
   "cell_type": "markdown",
   "id": "785d9bca",
   "metadata": {},
   "source": [
    "# TARDA 12 horas en correr, trabajaremos con submuestras y modelos más ligeros para afinar, mi compu no da"
   ]
  },
  {
   "cell_type": "markdown",
   "id": "1f230d30",
   "metadata": {},
   "source": [
    "# M6 con K2 y stratified sample"
   ]
  },
  {
   "cell_type": "markdown",
   "id": "2d4c0c19",
   "metadata": {},
   "source": [
    "Necesitamos hacer muestreo estratificado para no tener datos desbalanceados --> muestrear por estratos y proporcional al tamaño de los grupos"
   ]
  },
  {
   "cell_type": "code",
   "execution_count": 15,
   "id": "7c51fba6",
   "metadata": {},
   "outputs": [
    {
     "name": "stdout",
     "output_type": "stream",
     "text": [
      "Filas disponibles: 25355\n"
     ]
    }
   ],
   "source": [
    "# Asegura sexo binario 0/1\n",
    "if set(df_model[\"sexo\"].unique()) - {0,1}:\n",
    "    df_model = df_model.copy()\n",
    "    df_model[\"sexo\"] = df_model[\"sexo\"].map({2:0, 1:1})\n",
    "\n",
    "# Mantén solo columnas clave y sin NA\n",
    "cols_req = [\"talla_cm\", \"edad_anios_calc\", \"sexo\", \"municipio\"]\n",
    "df_base = df_model[cols_req].dropna().copy()\n",
    "\n",
    "print(\"Filas disponibles:\", len(df_base))\n",
    "assert set(df_base[\"sexo\"].unique()) <= {0,1}, \"Columna 'sexo' debe ser 0/1.\"\n"
   ]
  },
  {
   "cell_type": "code",
   "execution_count": 16,
   "id": "893fee4a",
   "metadata": {},
   "outputs": [
    {
     "name": "stdout",
     "output_type": "stream",
     "text": [
      "Distribución original por estrato (sexo x edad_bin):\n",
      "sexo         0     1\n",
      "edad_bin            \n",
      "(-inf,5]  4676  4788\n",
      "(5,7]     2310  2268\n",
      "(7,9]     2455  2468\n",
      "(9,11]    2183  2273\n",
      "(11,13]    961   973\n"
     ]
    }
   ],
   "source": [
    "# 1) Bins sin vacíos (hasta 13 años)\n",
    "age_bins   = [-np.inf, 5, 7, 9, 11, 13]\n",
    "age_labels = [f\"({age_bins[i]},{age_bins[i+1]}]\" for i in range(len(age_bins)-1)]\n",
    "\n",
    "df_b = df_model[[\"talla_cm\",\"edad_anios_calc\",\"sexo\",\"municipio\"]].dropna().copy()\n",
    "if set(df_b[\"sexo\"].unique()) - {0,1}:\n",
    "    df_b[\"sexo\"] = df_b[\"sexo\"].map({2:0, 1:1})\n",
    "\n",
    "df_b[\"edad_bin\"] = pd.cut(df_b[\"edad_anios_calc\"], bins=age_bins, labels=age_labels, include_lowest=True)\n",
    "\n",
    "# 2) Distribución original \n",
    "dist_orig = (df_b\n",
    "    .groupby([\"sexo\",\"edad_bin\"], observed=True)\n",
    "    .size().rename(\"n\").reset_index())\n",
    "\n",
    "print(\"Distribución original por estrato (sexo x edad_bin):\")\n",
    "print(dist_orig.pivot(index=\"edad_bin\", columns=\"sexo\", values=\"n\").fillna(0))\n"
   ]
  },
  {
   "cell_type": "code",
   "execution_count": 17,
   "id": "4d3d1acc",
   "metadata": {},
   "outputs": [
    {
     "name": "stdout",
     "output_type": "stream",
     "text": [
      "Submuestra final: (6000, 5)\n",
      "sexo  edad_bin\n",
      "0     (-inf,5]    1106\n",
      "      (5,7]        547\n",
      "      (7,9]        581\n",
      "      (9,11]       517\n",
      "      (11,13]      227\n",
      "1     (-inf,5]    1133\n",
      "      (5,7]        537\n",
      "      (7,9]        584\n",
      "      (9,11]       538\n",
      "      (11,13]      230\n",
      "dtype: int64\n"
     ]
    }
   ],
   "source": [
    "# === A. Muestreo estratificado exacto con scikit-learn === explicación de CHAT GPT\n",
    "# Idea: queremos una SUBMUESTRA de tamaño N_SUB que conserve, lo mejor posible,\n",
    "#       las proporciones originales de cada ESTRATO. Un \"estrato\" es una\n",
    "#       combinación de variables (aquí: SEXO × RANGO DE EDAD).\n",
    "\n",
    "from sklearn.model_selection import StratifiedShuffleSplit\n",
    "\n",
    "N_SUB = 6000  # Tamaño deseado de la submuestra (ajustable)\n",
    "\n",
    "# 1) Definimos la \"etiqueta de estrato\" para cada fila.\n",
    "#    • Unimos sexo y el bin de edad en un string, por ejemplo: \"0_(9,11]\" o \"1_(7,9]\"\n",
    "#    • Esto le dice al algoritmo en qué estrato está cada observación.\n",
    "estrato = df_b[\"sexo\"].astype(str) + \"_\" + df_b[\"edad_bin\"].astype(str)\n",
    "\n",
    "# 2) Creamos el \"divisor estratificado\".\n",
    "#    • n_splits=1: queremos una sola partición (no un k-fold).\n",
    "#    • test_size=N_SUB: el TAMAÑO del subconjunto que sacaremos (aquí \"test\" es la submuestra).\n",
    "#    • random_state=42: semilla para que el resultado sea reproducible.\n",
    "sss = StratifiedShuffleSplit(n_splits=1, test_size=N_SUB, random_state=42)\n",
    "\n",
    "# 3) Ejecutamos el split.\n",
    "#    • sss.split(X, y) recibe:\n",
    "#         - X: la tabla completa (no se usa su contenido, solo el tamaño).\n",
    "#         - y: las etiquetas de estrato (aquí 'estrato').\n",
    "#    • Devuelve dos arreglos de índices: (idx_train, idx_test).\n",
    "#      Usaremos idx_test como nuestra SUBMUESTRA, porque le dijimos que \"test_size = N_SUB\".\n",
    "_, idx_sub = next(sss.split(df_b, estrato))\n",
    "\n",
    "# 4) Extraemos la submuestra usando los índices calculados.\n",
    "#    • .iloc[idx_sub] selecciona esas filas.\n",
    "#    • .copy() para tener un DataFrame independiente (evita advertencias de pandas).\n",
    "df_sub = df_b.iloc[idx_sub].copy()\n",
    "\n",
    "# 5) Revisamos tamaño y distribución de la submuestra.\n",
    "#    • Debe salir (N_SUB, n_columnas).\n",
    "#    • La distribución por (sexo × edad_bin) debería ser MUY parecida a la original.\n",
    "print(\"Submuestra final:\", df_sub.shape)\n",
    "\n",
    "# observed=True: usa solo categorías que aparecen (evita warning de pandas).\n",
    "print(df_sub.groupby([\"sexo\",\"edad_bin\"], observed=True).size())\n"
   ]
  },
  {
   "cell_type": "code",
   "execution_count": 18,
   "id": "64af1c93",
   "metadata": {},
   "outputs": [
    {
     "name": "stdout",
     "output_type": "stream",
     "text": [
      "n_obs=6000 | n_muni_sub=177\n",
      "Arrays listos: y_sub, edad_sub, sexo_sub, edad_c_sub, edad_cs_sub, muni_sub\n"
     ]
    }
   ],
   "source": [
    "# ====== A) Reindexar municipios y preparar arrays ======\n",
    "\n",
    "# 1) Reindexar municipios (solo los que aparecen en la SUBMUESTRA)\n",
    "df_sub = df_sub.copy()\n",
    "df_sub[\"municipio_idx_sub\"] = pd.Categorical(df_sub[\"municipio\"]).codes\n",
    "\n",
    "# 2) Arreglos NumPy que usará PyMC\n",
    "y_sub     = df_sub[\"talla_cm\"].to_numpy().astype(float)          # variable objetivo (cm)\n",
    "edad_sub  = df_sub[\"edad_anios_calc\"].to_numpy().astype(float)   # edad (años)\n",
    "sexo_sub  = df_sub[\"sexo\"].to_numpy().astype(int)                # 0 = mujer, 1 = hombre\n",
    "muni_sub  = df_sub[\"municipio_idx_sub\"].to_numpy().astype(int)   # índice municipal 0..J-1\n",
    "\n",
    "# 3) Versiones centrada y estandarizada de la edad\n",
    "#    - edad_c_sub: centrada => intercepto ~ talla a la edad media\n",
    "#    - edad_cs_sub: centrada + estandarizada => estable numéricamente para la compuerta (logística)\n",
    "edad_c_sub  = edad_sub - edad_sub.mean()\n",
    "edad_cs_sub = (edad_c_sub - edad_c_sub.mean()) / edad_c_sub.std()\n",
    "\n",
    "# 4) Chequeos rápidos (defensivos)\n",
    "assert set(np.unique(sexo_sub)).issubset({0,1}), \"Sexo debe ser 0/1.\"\n",
    "n_muni_sub = df_sub[\"municipio_idx_sub\"].nunique()\n",
    "assert muni_sub.min() >= 0 and muni_sub.max() < n_muni_sub, \"municipio_idx_sub fuera de rango.\"\n",
    "\n",
    "print(f\"n_obs={len(y_sub)} | n_muni_sub={n_muni_sub}\")\n",
    "print(\"Arrays listos: y_sub, edad_sub, sexo_sub, edad_c_sub, edad_cs_sub, muni_sub\")\n"
   ]
  },
  {
   "cell_type": "code",
   "execution_count": 19,
   "id": "0cb18e44",
   "metadata": {},
   "outputs": [
    {
     "name": "stdout",
     "output_type": "stream",
     "text": [
      "X_s_sub shape = (6000, 5)\n"
     ]
    }
   ],
   "source": [
    "# ====== B) B-splines cúbicos para edad ======\n",
    "\n",
    "# Grados de libertad (ajústalo: 5 suele ir bien para modo rápido)\n",
    "df_spline = 5\n",
    "\n",
    "# Construcción de la matriz de bases spline sobre la edad OBSERVADA en la submuestra\n",
    "X_spline_sub = dmatrix(\n",
    "    f\"bs(edad, df={df_spline}, degree=3, include_intercept=False) - 1\",\n",
    "    {\"edad\": edad_sub},\n",
    "    return_type=\"dataframe\"\n",
    ")\n",
    "\n",
    "# A NumPy (PyMC espera arrays)\n",
    "X_s_sub = X_spline_sub.to_numpy().astype(float)\n",
    "\n",
    "# Tamaños para control\n",
    "n_obs_sub, n_s_sub = X_s_sub.shape\n",
    "print(\"X_s_sub shape =\", X_s_sub.shape)    # (n_obs_sub, n_bases)\n",
    "\n",
    "# Chequeo: debe haber una FILA por observación\n",
    "assert n_obs_sub == len(y_sub), \"X_s_sub debe tener n_obs_sub filas (una por observación).\"\n"
   ]
  },
  {
   "cell_type": "markdown",
   "id": "9834aa81",
   "metadata": {},
   "source": [
    "#### Modelo con Latente puberal (K=2: PRE y POST)"
   ]
  },
  {
   "cell_type": "code",
   "execution_count": 23,
   "id": "2ac4a951",
   "metadata": {},
   "outputs": [
    {
     "name": "stderr",
     "output_type": "stream",
     "text": [
      "Initializing NUTS using jitter+adapt_diag...\n",
      "Sequential sampling (4 chains in 1 job)\n",
      "NUTS: [beta_0, beta_sexo, beta_edad_sex, w_s, sd_a0, sd_a1, z_a0, z_a1, g0, g_ed, g_sx, delta_raw, nu, sigma_obs]\n"
     ]
    },
    {
     "data": {
      "text/html": [
       "<pre style=\"white-space:pre;overflow-x:auto;line-height:normal;font-family:Menlo,'DejaVu Sans Mono',consolas,'Courier New',monospace\">/opt/anaconda3/envs/pymc_env/lib/python3.10/site-packages/rich/live.py:256: UserWarning: install \"ipywidgets\" for \n",
       "Jupyter support\n",
       "  warnings.warn('install \"ipywidgets\" for Jupyter support')\n",
       "</pre>\n"
      ],
      "text/plain": [
       "/opt/anaconda3/envs/pymc_env/lib/python3.10/site-packages/rich/live.py:256: UserWarning: install \"ipywidgets\" for \n",
       "Jupyter support\n",
       "  warnings.warn('install \"ipywidgets\" for Jupyter support')\n"
      ]
     },
     "metadata": {},
     "output_type": "display_data"
    },
    {
     "data": {
      "text/html": [
       "<pre style=\"white-space:pre;overflow-x:auto;line-height:normal;font-family:Menlo,'DejaVu Sans Mono',consolas,'Courier New',monospace\"></pre>\n"
      ],
      "text/plain": []
     },
     "metadata": {},
     "output_type": "display_data"
    },
    {
     "name": "stderr",
     "output_type": "stream",
     "text": [
      "Sampling 4 chains for 1_000 tune and 1_000 draw iterations (4_000 + 4_000 draws total) took 1278 seconds.\n",
      "The rhat statistic is larger than 1.01 for some parameters. This indicates problems during sampling. See https://arxiv.org/abs/1903.08008 for details\n",
      "The effective sample size per chain is smaller than 100 for some parameters.  A higher number is needed for reliable rhat and ess computation. See https://arxiv.org/abs/1903.08008 for details\n",
      "Sampling: [talla_obs]\n"
     ]
    },
    {
     "data": {
      "text/html": [
       "<pre style=\"white-space:pre;overflow-x:auto;line-height:normal;font-family:Menlo,'DejaVu Sans Mono',consolas,'Courier New',monospace\">/opt/anaconda3/envs/pymc_env/lib/python3.10/site-packages/rich/live.py:256: UserWarning: install \"ipywidgets\" for \n",
       "Jupyter support\n",
       "  warnings.warn('install \"ipywidgets\" for Jupyter support')\n",
       "</pre>\n"
      ],
      "text/plain": [
       "/opt/anaconda3/envs/pymc_env/lib/python3.10/site-packages/rich/live.py:256: UserWarning: install \"ipywidgets\" for \n",
       "Jupyter support\n",
       "  warnings.warn('install \"ipywidgets\" for Jupyter support')\n"
      ]
     },
     "metadata": {},
     "output_type": "display_data"
    },
    {
     "data": {
      "text/html": [
       "<pre style=\"white-space:pre;overflow-x:auto;line-height:normal;font-family:Menlo,'DejaVu Sans Mono',consolas,'Courier New',monospace\"></pre>\n"
      ],
      "text/plain": []
     },
     "metadata": {},
     "output_type": "display_data"
    },
    {
     "data": {
      "application/vnd.microsoft.datawrangler.viewer.v0+json": {
       "columns": [
        {
         "name": "index",
         "rawType": "object",
         "type": "string"
        },
        {
         "name": "mean",
         "rawType": "float64",
         "type": "float"
        },
        {
         "name": "sd",
         "rawType": "float64",
         "type": "float"
        },
        {
         "name": "hdi_3%",
         "rawType": "float64",
         "type": "float"
        },
        {
         "name": "hdi_97%",
         "rawType": "float64",
         "type": "float"
        },
        {
         "name": "mcse_mean",
         "rawType": "float64",
         "type": "float"
        },
        {
         "name": "mcse_sd",
         "rawType": "float64",
         "type": "float"
        },
        {
         "name": "ess_bulk",
         "rawType": "float64",
         "type": "float"
        },
        {
         "name": "ess_tail",
         "rawType": "float64",
         "type": "float"
        },
        {
         "name": "r_hat",
         "rawType": "float64",
         "type": "float"
        }
       ],
       "ref": "92df2195-5425-4e0d-b685-2f52f518ed02",
       "rows": [
        [
         "beta_0",
         "110.77",
         "0.33",
         "110.18",
         "111.43",
         "0.01",
         "0.0",
         "1474.09",
         "2421.24",
         "1.0"
        ],
        [
         "beta_sexo",
         "1.29",
         "0.22",
         "0.86",
         "1.68",
         "0.01",
         "0.0",
         "1858.13",
         "2599.17",
         "1.0"
        ],
        [
         "beta_edad_sex",
         "-0.07",
         "0.06",
         "-0.18",
         "0.04",
         "0.0",
         "0.0",
         "1685.84",
         "2487.89",
         "1.0"
        ],
        [
         "g0",
         "-1.59",
         "0.19",
         "-1.95",
         "-1.24",
         "0.0",
         "0.0",
         "1770.18",
         "2404.89",
         "1.0"
        ],
        [
         "g_ed",
         "1.17",
         "0.14",
         "0.93",
         "1.43",
         "0.0",
         "0.0",
         "1375.29",
         "1633.14",
         "1.01"
        ],
        [
         "g_sx",
         "-0.85",
         "0.24",
         "-1.31",
         "-0.4",
         "0.01",
         "0.0",
         "1454.32",
         "2412.19",
         "1.0"
        ],
        [
         "delta[0]",
         "-3.82",
         "0.16",
         "-4.12",
         "-3.51",
         "0.0",
         "0.0",
         "3355.28",
         "3426.43",
         "1.0"
        ],
        [
         "delta[1]",
         "3.82",
         "0.16",
         "3.51",
         "4.12",
         "0.0",
         "0.0",
         "3355.28",
         "3426.43",
         "1.0"
        ],
        [
         "sd_a0",
         "1.46",
         "0.17",
         "1.13",
         "1.78",
         "0.01",
         "0.0",
         "849.08",
         "1674.28",
         "1.0"
        ],
        [
         "sd_a1",
         "6.57",
         "0.36",
         "5.92",
         "7.34",
         "0.06",
         "0.04",
         "33.07",
         "63.59",
         "1.1"
        ],
        [
         "sigma_obs",
         "4.2",
         "0.1",
         "4.01",
         "4.39",
         "0.0",
         "0.0",
         "1262.67",
         "2263.88",
         "1.0"
        ],
        [
         "nu",
         "10.57",
         "1.7",
         "7.69",
         "13.73",
         "0.04",
         "0.04",
         "1771.56",
         "2095.9",
         "1.0"
        ],
        [
         "w_s[0]",
         "2.94",
         "0.42",
         "2.13",
         "3.73",
         "0.01",
         "0.01",
         "3303.87",
         "2888.05",
         "1.0"
        ],
        [
         "w_s[1]",
         "8.11",
         "0.34",
         "7.49",
         "8.77",
         "0.01",
         "0.01",
         "3297.97",
         "2986.81",
         "1.0"
        ],
        [
         "w_s[2]",
         "2.8",
         "0.37",
         "2.12",
         "3.5",
         "0.01",
         "0.01",
         "2678.48",
         "2794.82",
         "1.0"
        ],
        [
         "w_s[3]",
         "-1.39",
         "0.43",
         "-2.16",
         "-0.52",
         "0.01",
         "0.01",
         "3463.52",
         "3085.36",
         "1.0"
        ],
        [
         "w_s[4]",
         "-3.32",
         "0.43",
         "-4.15",
         "-2.53",
         "0.01",
         "0.01",
         "3643.88",
         "3169.49",
         "1.0"
        ]
       ],
       "shape": {
        "columns": 9,
        "rows": 17
       }
      },
      "text/html": [
       "<div>\n",
       "<style scoped>\n",
       "    .dataframe tbody tr th:only-of-type {\n",
       "        vertical-align: middle;\n",
       "    }\n",
       "\n",
       "    .dataframe tbody tr th {\n",
       "        vertical-align: top;\n",
       "    }\n",
       "\n",
       "    .dataframe thead th {\n",
       "        text-align: right;\n",
       "    }\n",
       "</style>\n",
       "<table border=\"1\" class=\"dataframe\">\n",
       "  <thead>\n",
       "    <tr style=\"text-align: right;\">\n",
       "      <th></th>\n",
       "      <th>mean</th>\n",
       "      <th>sd</th>\n",
       "      <th>hdi_3%</th>\n",
       "      <th>hdi_97%</th>\n",
       "      <th>mcse_mean</th>\n",
       "      <th>mcse_sd</th>\n",
       "      <th>ess_bulk</th>\n",
       "      <th>ess_tail</th>\n",
       "      <th>r_hat</th>\n",
       "    </tr>\n",
       "  </thead>\n",
       "  <tbody>\n",
       "    <tr>\n",
       "      <th>beta_0</th>\n",
       "      <td>110.77</td>\n",
       "      <td>0.33</td>\n",
       "      <td>110.18</td>\n",
       "      <td>111.43</td>\n",
       "      <td>0.01</td>\n",
       "      <td>0.00</td>\n",
       "      <td>1474.09</td>\n",
       "      <td>2421.24</td>\n",
       "      <td>1.00</td>\n",
       "    </tr>\n",
       "    <tr>\n",
       "      <th>beta_sexo</th>\n",
       "      <td>1.29</td>\n",
       "      <td>0.22</td>\n",
       "      <td>0.86</td>\n",
       "      <td>1.68</td>\n",
       "      <td>0.01</td>\n",
       "      <td>0.00</td>\n",
       "      <td>1858.13</td>\n",
       "      <td>2599.17</td>\n",
       "      <td>1.00</td>\n",
       "    </tr>\n",
       "    <tr>\n",
       "      <th>beta_edad_sex</th>\n",
       "      <td>-0.07</td>\n",
       "      <td>0.06</td>\n",
       "      <td>-0.18</td>\n",
       "      <td>0.04</td>\n",
       "      <td>0.00</td>\n",
       "      <td>0.00</td>\n",
       "      <td>1685.84</td>\n",
       "      <td>2487.89</td>\n",
       "      <td>1.00</td>\n",
       "    </tr>\n",
       "    <tr>\n",
       "      <th>g0</th>\n",
       "      <td>-1.59</td>\n",
       "      <td>0.19</td>\n",
       "      <td>-1.95</td>\n",
       "      <td>-1.24</td>\n",
       "      <td>0.00</td>\n",
       "      <td>0.00</td>\n",
       "      <td>1770.18</td>\n",
       "      <td>2404.89</td>\n",
       "      <td>1.00</td>\n",
       "    </tr>\n",
       "    <tr>\n",
       "      <th>g_ed</th>\n",
       "      <td>1.17</td>\n",
       "      <td>0.14</td>\n",
       "      <td>0.93</td>\n",
       "      <td>1.43</td>\n",
       "      <td>0.00</td>\n",
       "      <td>0.00</td>\n",
       "      <td>1375.29</td>\n",
       "      <td>1633.14</td>\n",
       "      <td>1.01</td>\n",
       "    </tr>\n",
       "    <tr>\n",
       "      <th>g_sx</th>\n",
       "      <td>-0.85</td>\n",
       "      <td>0.24</td>\n",
       "      <td>-1.31</td>\n",
       "      <td>-0.40</td>\n",
       "      <td>0.01</td>\n",
       "      <td>0.00</td>\n",
       "      <td>1454.32</td>\n",
       "      <td>2412.19</td>\n",
       "      <td>1.00</td>\n",
       "    </tr>\n",
       "    <tr>\n",
       "      <th>delta[0]</th>\n",
       "      <td>-3.82</td>\n",
       "      <td>0.16</td>\n",
       "      <td>-4.12</td>\n",
       "      <td>-3.51</td>\n",
       "      <td>0.00</td>\n",
       "      <td>0.00</td>\n",
       "      <td>3355.28</td>\n",
       "      <td>3426.43</td>\n",
       "      <td>1.00</td>\n",
       "    </tr>\n",
       "    <tr>\n",
       "      <th>delta[1]</th>\n",
       "      <td>3.82</td>\n",
       "      <td>0.16</td>\n",
       "      <td>3.51</td>\n",
       "      <td>4.12</td>\n",
       "      <td>0.00</td>\n",
       "      <td>0.00</td>\n",
       "      <td>3355.28</td>\n",
       "      <td>3426.43</td>\n",
       "      <td>1.00</td>\n",
       "    </tr>\n",
       "    <tr>\n",
       "      <th>sd_a0</th>\n",
       "      <td>1.46</td>\n",
       "      <td>0.17</td>\n",
       "      <td>1.13</td>\n",
       "      <td>1.78</td>\n",
       "      <td>0.01</td>\n",
       "      <td>0.00</td>\n",
       "      <td>849.08</td>\n",
       "      <td>1674.28</td>\n",
       "      <td>1.00</td>\n",
       "    </tr>\n",
       "    <tr>\n",
       "      <th>sd_a1</th>\n",
       "      <td>6.57</td>\n",
       "      <td>0.36</td>\n",
       "      <td>5.92</td>\n",
       "      <td>7.34</td>\n",
       "      <td>0.06</td>\n",
       "      <td>0.04</td>\n",
       "      <td>33.07</td>\n",
       "      <td>63.59</td>\n",
       "      <td>1.10</td>\n",
       "    </tr>\n",
       "    <tr>\n",
       "      <th>sigma_obs</th>\n",
       "      <td>4.20</td>\n",
       "      <td>0.10</td>\n",
       "      <td>4.01</td>\n",
       "      <td>4.39</td>\n",
       "      <td>0.00</td>\n",
       "      <td>0.00</td>\n",
       "      <td>1262.67</td>\n",
       "      <td>2263.88</td>\n",
       "      <td>1.00</td>\n",
       "    </tr>\n",
       "    <tr>\n",
       "      <th>nu</th>\n",
       "      <td>10.57</td>\n",
       "      <td>1.70</td>\n",
       "      <td>7.69</td>\n",
       "      <td>13.73</td>\n",
       "      <td>0.04</td>\n",
       "      <td>0.04</td>\n",
       "      <td>1771.56</td>\n",
       "      <td>2095.90</td>\n",
       "      <td>1.00</td>\n",
       "    </tr>\n",
       "    <tr>\n",
       "      <th>w_s[0]</th>\n",
       "      <td>2.94</td>\n",
       "      <td>0.42</td>\n",
       "      <td>2.13</td>\n",
       "      <td>3.73</td>\n",
       "      <td>0.01</td>\n",
       "      <td>0.01</td>\n",
       "      <td>3303.87</td>\n",
       "      <td>2888.05</td>\n",
       "      <td>1.00</td>\n",
       "    </tr>\n",
       "    <tr>\n",
       "      <th>w_s[1]</th>\n",
       "      <td>8.11</td>\n",
       "      <td>0.34</td>\n",
       "      <td>7.49</td>\n",
       "      <td>8.77</td>\n",
       "      <td>0.01</td>\n",
       "      <td>0.01</td>\n",
       "      <td>3297.97</td>\n",
       "      <td>2986.81</td>\n",
       "      <td>1.00</td>\n",
       "    </tr>\n",
       "    <tr>\n",
       "      <th>w_s[2]</th>\n",
       "      <td>2.80</td>\n",
       "      <td>0.37</td>\n",
       "      <td>2.12</td>\n",
       "      <td>3.50</td>\n",
       "      <td>0.01</td>\n",
       "      <td>0.01</td>\n",
       "      <td>2678.48</td>\n",
       "      <td>2794.82</td>\n",
       "      <td>1.00</td>\n",
       "    </tr>\n",
       "    <tr>\n",
       "      <th>w_s[3]</th>\n",
       "      <td>-1.39</td>\n",
       "      <td>0.43</td>\n",
       "      <td>-2.16</td>\n",
       "      <td>-0.52</td>\n",
       "      <td>0.01</td>\n",
       "      <td>0.01</td>\n",
       "      <td>3463.52</td>\n",
       "      <td>3085.36</td>\n",
       "      <td>1.00</td>\n",
       "    </tr>\n",
       "    <tr>\n",
       "      <th>w_s[4]</th>\n",
       "      <td>-3.32</td>\n",
       "      <td>0.43</td>\n",
       "      <td>-4.15</td>\n",
       "      <td>-2.53</td>\n",
       "      <td>0.01</td>\n",
       "      <td>0.01</td>\n",
       "      <td>3643.88</td>\n",
       "      <td>3169.49</td>\n",
       "      <td>1.00</td>\n",
       "    </tr>\n",
       "  </tbody>\n",
       "</table>\n",
       "</div>"
      ],
      "text/plain": [
       "                 mean    sd  hdi_3%  hdi_97%  mcse_mean  mcse_sd  ess_bulk  \\\n",
       "beta_0         110.77  0.33  110.18   111.43       0.01     0.00   1474.09   \n",
       "beta_sexo        1.29  0.22    0.86     1.68       0.01     0.00   1858.13   \n",
       "beta_edad_sex   -0.07  0.06   -0.18     0.04       0.00     0.00   1685.84   \n",
       "g0              -1.59  0.19   -1.95    -1.24       0.00     0.00   1770.18   \n",
       "g_ed             1.17  0.14    0.93     1.43       0.00     0.00   1375.29   \n",
       "g_sx            -0.85  0.24   -1.31    -0.40       0.01     0.00   1454.32   \n",
       "delta[0]        -3.82  0.16   -4.12    -3.51       0.00     0.00   3355.28   \n",
       "delta[1]         3.82  0.16    3.51     4.12       0.00     0.00   3355.28   \n",
       "sd_a0            1.46  0.17    1.13     1.78       0.01     0.00    849.08   \n",
       "sd_a1            6.57  0.36    5.92     7.34       0.06     0.04     33.07   \n",
       "sigma_obs        4.20  0.10    4.01     4.39       0.00     0.00   1262.67   \n",
       "nu              10.57  1.70    7.69    13.73       0.04     0.04   1771.56   \n",
       "w_s[0]           2.94  0.42    2.13     3.73       0.01     0.01   3303.87   \n",
       "w_s[1]           8.11  0.34    7.49     8.77       0.01     0.01   3297.97   \n",
       "w_s[2]           2.80  0.37    2.12     3.50       0.01     0.01   2678.48   \n",
       "w_s[3]          -1.39  0.43   -2.16    -0.52       0.01     0.01   3463.52   \n",
       "w_s[4]          -3.32  0.43   -4.15    -2.53       0.01     0.01   3643.88   \n",
       "\n",
       "               ess_tail  r_hat  \n",
       "beta_0          2421.24   1.00  \n",
       "beta_sexo       2599.17   1.00  \n",
       "beta_edad_sex   2487.89   1.00  \n",
       "g0              2404.89   1.00  \n",
       "g_ed            1633.14   1.01  \n",
       "g_sx            2412.19   1.00  \n",
       "delta[0]        3426.43   1.00  \n",
       "delta[1]        3426.43   1.00  \n",
       "sd_a0           1674.28   1.00  \n",
       "sd_a1             63.59   1.10  \n",
       "sigma_obs       2263.88   1.00  \n",
       "nu              2095.90   1.00  \n",
       "w_s[0]          2888.05   1.00  \n",
       "w_s[1]          2986.81   1.00  \n",
       "w_s[2]          2794.82   1.00  \n",
       "w_s[3]          3085.36   1.00  \n",
       "w_s[4]          3169.49   1.00  "
      ]
     },
     "execution_count": 23,
     "metadata": {},
     "output_type": "execute_result"
    }
   ],
   "source": [
    "# # ============================\n",
    "# # M6_sub: splines + RE muni + mezcla puberal (K=2)\n",
    "# # ============================\n",
    "\n",
    "# random_seed = 42\n",
    "\n",
    "# with pm.Model() as modelo_m6_sub:\n",
    "#     # --- (1) Priors globales (cm) ---\n",
    "#     beta_0        = pm.Normal(\"beta_0\", 125, 10)  # talla media a edad media (sexo=0)\n",
    "#     beta_sexo     = pm.Normal(\"beta_sexo\", 3,  2) # efecto nivel hombre vs mujer\n",
    "#     beta_edad_sex = pm.Normal(\"beta_edad_sex\", 0, 2)  # interacción lineal edad_c × sexo\n",
    "\n",
    "#     # --- (2) Splines de edad ---\n",
    "#     # w_s ~ N(0,1): regulariza la ondulación de la curva. Si hay ruidos, baja a 0.5 si no sube a 1\n",
    "#     w_s    = pm.Normal(\"w_s\", 0, 0.5, shape=n_s_sub)\n",
    "#     f_edad = pm.Deterministic(\"f_edad\", pm.math.dot(X_s_sub, w_s))  # contribución no lineal de edad\n",
    "\n",
    "#     # --- (3) Efectos aleatorios por municipio (no-centrados) ---\n",
    "#     sd_a0 = pm.HalfNormal(\"sd_a0\", 5)   # sd de interceptos entre municipios\n",
    "#     sd_a1 = pm.HalfNormal(\"sd_a1\", 2)   # sd de pendientes (cm/año) entre municipios\n",
    "#     z_a0  = pm.Normal(\"z_a0\", 0, 1, shape=n_muni_sub)\n",
    "#     z_a1  = pm.Normal(\"z_a1\", 0, 1, shape=n_muni_sub)\n",
    "#     a0    = pm.Deterministic(\"a0\", sd_a0 * z_a0)  # intercepto municipal j\n",
    "#     a1    = pm.Deterministic(\"a1\", sd_a1 * z_a1)  # pendiente municipal j\n",
    "\n",
    "#     # Media base (sin pubertad)\n",
    "#     mu_base = (\n",
    "#         beta_0\n",
    "#         + beta_sexo * sexo_sub\n",
    "#         + f_edad\n",
    "#         + a0[muni_sub]\n",
    "#         + a1[muni_sub] * edad_c_sub\n",
    "#         + beta_edad_sex * (edad_c_sub * sexo_sub)\n",
    "#     )\n",
    "\n",
    "#     # --- (4) Variable latente puberal (K=2: PRE vs POST) ---\n",
    "#     # p_post = sigmoid(g0 + g_ed*edad_cs_sub + g_sx*sexo_sub)\n",
    "#     g0   = pm.Normal(\"g0\",  0,   2)\n",
    "#     g_ed = pm.Normal(\"g_ed\", 1.5, 1)   # esperamos >0 (prob POST aumenta con edad)\n",
    "#     g_sx = pm.Normal(\"g_sx\", 0,   1)\n",
    "\n",
    "#     logit_post = g0 + g_ed*edad_cs_sub + g_sx*sexo_sub\n",
    "#     p_post     = pm.Deterministic(\"p_post\", pm.math.sigmoid(logit_post))          # (n_obs,)\n",
    "#     W          = pm.Deterministic(\"W\", pm.math.stack([1 - p_post, p_post], axis=1))  # (n_obs,2)\n",
    "\n",
    "#     # Deltas con suma-cero (evita duplicar el intercepto entre componentes)\n",
    "#     delta_raw = pm.Normal(\"delta_raw\", 0, 2, shape=2)\n",
    "#     delta     = pm.Deterministic(\"delta\", delta_raw - delta_raw.mean())  # PRE + POST = 0\n",
    "\n",
    "#     # Medias por estado (col 0=PRE, col 1=POST)\n",
    "#     mu_comp = pm.Deterministic(\n",
    "#         \"mu_comp\",\n",
    "#         pm.math.stack([mu_base + delta[0],\n",
    "#                        mu_base + delta[1]], axis=1)\n",
    "#     )\n",
    "\n",
    "#     # --- (5) Likelihood robusta: mezcla de 2 Student-t ---\n",
    "#     nu    = pm.Exponential(\"nu\", 1/10)        # g.l. (colas)\n",
    "#     sigma = pm.HalfNormal(\"sigma_obs\", 5)     # escala residual\n",
    "\n",
    "#     comp_pre  = pm.StudentT.dist(nu=nu, mu=mu_comp[:, 0], sigma=sigma)\n",
    "#     comp_post = pm.StudentT.dist(nu=nu, mu=mu_comp[:, 1], sigma=sigma)\n",
    "\n",
    "#     talla_obs = pm.Mixture(\n",
    "#         \"talla_obs\",\n",
    "#         w=W,\n",
    "#         comp_dists=[comp_pre, comp_post],\n",
    "#         observed=y_sub\n",
    "#     )\n",
    "\n",
    "#     # --- (6) Muestreo ---\n",
    "#     idata_m6_sub = pm.sample(\n",
    "#         draws=1000, tune=1000,\n",
    "#         chains=4, cores=1,\n",
    "#         target_accept=0.99,             # si hay divergences, sube a 0.99\n",
    "#         init=\"jitter+adapt_diag\",\n",
    "#         random_seed=42,\n",
    "#         return_inferencedata=True,\n",
    "#         idata_kwargs={\"log_likelihood\": True}  # necesario para LOO/WAIC\n",
    "#     )\n",
    "\n",
    "#     # Posterior Predictive (dentro del contexto para evitar \"No model on context stack\")\n",
    "#     ppc_m6_sub = pm.sample_posterior_predictive(\n",
    "#         idata_m6_sub, return_inferencedata=True, random_seed=42\n",
    "#     )\n",
    "\n",
    "# # extend idata con ppc (sin reasignar)\n",
    "# idata_m6_sub.extend(ppc_m6_sub)\n",
    "\n",
    "# # === Diagnóstico rápido de parámetros clave ===\n",
    "# az.summary(\n",
    "#     idata_m6_sub,\n",
    "#     var_names=[\"beta_0\",\"beta_sexo\",\"beta_edad_sex\",\"g0\",\"g_ed\",\"g_sx\",\"delta\",\"sd_a0\",\"sd_a1\",\"sigma_obs\",\"nu\",\"w_s\"],\n",
    "#     round_to=2\n",
    "# )\n"
   ]
  },
  {
   "cell_type": "code",
   "execution_count": 24,
   "id": "ae9bf647",
   "metadata": {},
   "outputs": [
    {
     "name": "stderr",
     "output_type": "stream",
     "text": [
      "/opt/anaconda3/envs/pymc_env/lib/python3.10/site-packages/arviz/stats/stats.py:797: UserWarning: Estimated shape parameter of Pareto distribution is greater than 0.70 for one or more samples. You should consider using a more robust model, this is because importance sampling is less likely to work well if the marginal posterior and LOO posterior are very different. This is more likely to happen with a non-robust model and highly influential observations.\n",
      "  warnings.warn(\n"
     ]
    },
    {
     "name": "stdout",
     "output_type": "stream",
     "text": [
      "== LOO M6_sub ==\n",
      "Computed from 4000 posterior samples and 6000 observations log-likelihood matrix.\n",
      "\n",
      "         Estimate       SE\n",
      "elpd_loo -18673.00    61.83\n",
      "p_loo      272.67        -\n",
      "\n",
      "There has been a warning during the calculation. Please check the results.\n",
      "------\n",
      "\n",
      "Pareto k diagnostic values:\n",
      "                         Count   Pct.\n",
      "(-Inf, 0.70]   (good)     5979   99.7%\n",
      "   (0.70, 1]   (bad)        19    0.3%\n",
      "   (1, Inf)   (very bad)    2    0.0%\n",
      "\n",
      "\n",
      "== WAIC M6_sub ==\n",
      "Computed from 4000 posterior samples and 6000 observations log-likelihood matrix.\n",
      "\n",
      "          Estimate       SE\n",
      "elpd_waic -18661.31    61.75\n",
      "p_waic      260.98        -\n",
      "\n",
      "There has been a warning during the calculation. Please check the results.\n"
     ]
    },
    {
     "name": "stderr",
     "output_type": "stream",
     "text": [
      "/opt/anaconda3/envs/pymc_env/lib/python3.10/site-packages/arviz/stats/stats.py:1667: UserWarning: For one or more samples the posterior variance of the log predictive densities exceeds 0.4. This could be indication of WAIC starting to fail. \n",
      "See http://arxiv.org/abs/1507.04544 for details\n",
      "  warnings.warn(\n"
     ]
    }
   ],
   "source": [
    "# LOO y WAIC (más bajo = mejor)\n",
    "loo_m6  = az.loo(idata_m6_sub, pointwise=True)\n",
    "waic_m6 = az.waic(idata_m6_sub, pointwise=True)\n",
    "print(\"== LOO M6_sub ==\");  print(loo_m6)\n",
    "print(\"\\n== WAIC M6_sub ==\"); print(waic_m6)\n"
   ]
  },
  {
   "cell_type": "markdown",
   "id": "4800d536",
   "metadata": {},
   "source": [
    "#### Probando el M5 con la submuestra para comparar el LOO"
   ]
  },
  {
   "cell_type": "code",
   "execution_count": 25,
   "id": "09f7591c",
   "metadata": {},
   "outputs": [
    {
     "name": "stdout",
     "output_type": "stream",
     "text": [
      "n_obs_sub=6000 | n_s_sub=5 | n_muni_sub=177\n"
     ]
    }
   ],
   "source": [
    "# Probando M5\n",
    "# Si X_s_sub es DataFrame:\n",
    "if hasattr(X_s_sub, \"to_numpy\"):\n",
    "    X_s_sub = X_s_sub.to_numpy()\n",
    "\n",
    "n_obs_sub  = y_sub.shape[0]\n",
    "n_s_sub    = X_s_sub.shape[1]\n",
    "n_muni_sub = int(muni_sub.max()) + 1\n",
    "\n",
    "assert X_s_sub.shape[0] == n_obs_sub, \"X_s_sub debe tener una fila por observación\"\n",
    "assert sexo_sub.shape[0] == n_obs_sub\n",
    "assert edad_c_sub.shape[0] == n_obs_sub\n",
    "assert muni_sub.shape[0]  == n_obs_sub\n",
    "\n",
    "print(f\"n_obs_sub={n_obs_sub} | n_s_sub={n_s_sub} | n_muni_sub={n_muni_sub}\")\n"
   ]
  },
  {
   "cell_type": "code",
   "execution_count": 29,
   "id": "297806b7",
   "metadata": {},
   "outputs": [
    {
     "name": "stderr",
     "output_type": "stream",
     "text": [
      "Initializing NUTS using jitter+adapt_diag...\n",
      "Sequential sampling (4 chains in 1 job)\n",
      "NUTS: [beta_0, beta_sexo, beta_edad_sex, w_s, sd_a0, sd_a1, z_a0, z_a1, nu, sigma_obs]\n"
     ]
    },
    {
     "data": {
      "text/html": [
       "<pre style=\"white-space:pre;overflow-x:auto;line-height:normal;font-family:Menlo,'DejaVu Sans Mono',consolas,'Courier New',monospace\">/opt/anaconda3/envs/pymc_env/lib/python3.10/site-packages/rich/live.py:256: UserWarning: install \"ipywidgets\" for \n",
       "Jupyter support\n",
       "  warnings.warn('install \"ipywidgets\" for Jupyter support')\n",
       "</pre>\n"
      ],
      "text/plain": [
       "/opt/anaconda3/envs/pymc_env/lib/python3.10/site-packages/rich/live.py:256: UserWarning: install \"ipywidgets\" for \n",
       "Jupyter support\n",
       "  warnings.warn('install \"ipywidgets\" for Jupyter support')\n"
      ]
     },
     "metadata": {},
     "output_type": "display_data"
    },
    {
     "data": {
      "text/html": [
       "<pre style=\"white-space:pre;overflow-x:auto;line-height:normal;font-family:Menlo,'DejaVu Sans Mono',consolas,'Courier New',monospace\"></pre>\n"
      ],
      "text/plain": []
     },
     "metadata": {},
     "output_type": "display_data"
    },
    {
     "name": "stderr",
     "output_type": "stream",
     "text": [
      "Sampling 4 chains for 1_000 tune and 1_000 draw iterations (4_000 + 4_000 draws total) took 339 seconds.\n",
      "The rhat statistic is larger than 1.01 for some parameters. This indicates problems during sampling. See https://arxiv.org/abs/1903.08008 for details\n",
      "The effective sample size per chain is smaller than 100 for some parameters.  A higher number is needed for reliable rhat and ess computation. See https://arxiv.org/abs/1903.08008 for details\n"
     ]
    }
   ],
   "source": [
    "\n",
    "with pm.Model() as modelo_m5_sub:\n",
    "    # --- Priors globales (en cm) ---\n",
    "    beta_0        = pm.Normal(\"beta_0\", 125, 10)   # talla a la edad media (sexo=0)\n",
    "    beta_sexo     = pm.Normal(\"beta_sexo\", 3, 2)   # diferencia hombre vs mujer (nivel)\n",
    "    beta_edad_sex = pm.Normal(\"beta_edad_sex\", 0, 2)  # interacción lineal edad_c × sexo (opcional)\n",
    "\n",
    "    # --- Splines: pesos con regularización suave ---\n",
    "    # Normal(0,1) = \"ridge\" suave. Si la curva sale muy ondulada, baja a 0.5\n",
    "    w_s = pm.Normal(\"w_s\", 0, 1.0, shape=n_s_sub)\n",
    "\n",
    "    # Contribución no lineal de la edad\n",
    "    f_edad = pm.Deterministic(\"f_edad\", pm.math.dot(X_s_sub, w_s))  # (n_obs_sub,)\n",
    "\n",
    "    # --- Efectos aleatorios por municipio (no-centrados) ---\n",
    "    sd_a0 = pm.HalfNormal(\"sd_a0\", 5)   # sd de interceptos (cm)\n",
    "    sd_a1 = pm.HalfNormal(\"sd_a1\", 2)   # sd de pendientes (cm/año)\n",
    "\n",
    "    z_a0  = pm.Normal(\"z_a0\", 0, 1, shape=n_muni_sub)\n",
    "    z_a1  = pm.Normal(\"z_a1\", 0, 1, shape=n_muni_sub)\n",
    "\n",
    "    a0 = pm.Deterministic(\"a0\", sd_a0 * z_a0)  # interceptos por municipio\n",
    "    a1 = pm.Deterministic(\"a1\", sd_a1 * z_a1)  # pendientes por municipio\n",
    "\n",
    "    # --- Media (predicción) ---\n",
    "    mu = (\n",
    "        beta_0\n",
    "        + beta_sexo * sexo_sub\n",
    "        + f_edad\n",
    "        + a0[muni_sub]\n",
    "        + a1[muni_sub] * edad_c_sub\n",
    "        + beta_edad_sex * (edad_c_sub * sexo_sub)  # opcional\n",
    "    )\n",
    "\n",
    "    # --- Likelihood robusta (Student-t) ---\n",
    "    nu    = pm.Exponential(\"nu\", 1/10)        # grados de libertad (colas; media 10)\n",
    "    sigma = pm.HalfNormal(\"sigma_obs\", 5)     # escala residual (cm)\n",
    "\n",
    "    talla_obs = pm.StudentT(\"talla_obs\", nu=nu, mu=mu, sigma=sigma, observed=y_sub)\n",
    "\n",
    "    # --- Muestreo (parámetros prudentes/rápidos) ---\n",
    "    idata_m5_sub = pm.sample(\n",
    "        draws=1000, tune=1000,     \n",
    "        chains=4, cores=1,          \n",
    "        target_accept=0.99,         \n",
    "        init=\"jitter+adapt_diag\",\n",
    "        random_seed=42,\n",
    "        return_inferencedata=True,\n",
    "        idata_kwargs={\"log_likelihood\": True}  # <- necesario para LOO/WAIC\n",
    "    )\n"
   ]
  },
  {
   "cell_type": "code",
   "execution_count": 32,
   "id": "2a97c6e3",
   "metadata": {},
   "outputs": [
    {
     "name": "stderr",
     "output_type": "stream",
     "text": [
      "Sampling: [talla_obs]\n"
     ]
    },
    {
     "data": {
      "text/html": [
       "<pre style=\"white-space:pre;overflow-x:auto;line-height:normal;font-family:Menlo,'DejaVu Sans Mono',consolas,'Courier New',monospace\">/opt/anaconda3/envs/pymc_env/lib/python3.10/site-packages/rich/live.py:256: UserWarning: install \"ipywidgets\" for \n",
       "Jupyter support\n",
       "  warnings.warn('install \"ipywidgets\" for Jupyter support')\n",
       "</pre>\n"
      ],
      "text/plain": [
       "/opt/anaconda3/envs/pymc_env/lib/python3.10/site-packages/rich/live.py:256: UserWarning: install \"ipywidgets\" for \n",
       "Jupyter support\n",
       "  warnings.warn('install \"ipywidgets\" for Jupyter support')\n"
      ]
     },
     "metadata": {},
     "output_type": "display_data"
    },
    {
     "data": {
      "text/html": [
       "<pre style=\"white-space:pre;overflow-x:auto;line-height:normal;font-family:Menlo,'DejaVu Sans Mono',consolas,'Courier New',monospace\"></pre>\n"
      ],
      "text/plain": []
     },
     "metadata": {},
     "output_type": "display_data"
    }
   ],
   "source": [
    "with modelo_m5_sub:\n",
    "    ppc_m5_sub = pm.sample_posterior_predictive(\n",
    "        idata_m5_sub, return_inferencedata=True, random_seed=42\n",
    "    )\n",
    "\n",
    "\n",
    "idata_m5_sub.extend(ppc_m5_sub)\n"
   ]
  },
  {
   "cell_type": "code",
   "execution_count": 33,
   "id": "8b8a734c",
   "metadata": {},
   "outputs": [
    {
     "name": "stderr",
     "output_type": "stream",
     "text": [
      "/opt/anaconda3/envs/pymc_env/lib/python3.10/site-packages/arviz/stats/stats.py:797: UserWarning: Estimated shape parameter of Pareto distribution is greater than 0.70 for one or more samples. You should consider using a more robust model, this is because importance sampling is less likely to work well if the marginal posterior and LOO posterior are very different. This is more likely to happen with a non-robust model and highly influential observations.\n",
      "  warnings.warn(\n"
     ]
    },
    {
     "name": "stdout",
     "output_type": "stream",
     "text": [
      "Computed from 4000 posterior samples and 6000 observations log-likelihood matrix.\n",
      "\n",
      "         Estimate       SE\n",
      "elpd_loo -18676.85    62.95\n",
      "p_loo      269.08        -\n",
      "\n",
      "There has been a warning during the calculation. Please check the results.\n",
      "------\n",
      "\n",
      "Pareto k diagnostic values:\n",
      "                         Count   Pct.\n",
      "(-Inf, 0.70]   (good)     5989   99.8%\n",
      "   (0.70, 1]   (bad)         8    0.1%\n",
      "   (1, Inf)   (very bad)    3    0.1%\n",
      "\n"
     ]
    },
    {
     "name": "stderr",
     "output_type": "stream",
     "text": [
      "/opt/anaconda3/envs/pymc_env/lib/python3.10/site-packages/arviz/stats/stats.py:797: UserWarning: Estimated shape parameter of Pareto distribution is greater than 0.70 for one or more samples. You should consider using a more robust model, this is because importance sampling is less likely to work well if the marginal posterior and LOO posterior are very different. This is more likely to happen with a non-robust model and highly influential observations.\n",
      "  warnings.warn(\n",
      "/opt/anaconda3/envs/pymc_env/lib/python3.10/site-packages/arviz/stats/stats.py:797: UserWarning: Estimated shape parameter of Pareto distribution is greater than 0.70 for one or more samples. You should consider using a more robust model, this is because importance sampling is less likely to work well if the marginal posterior and LOO posterior are very different. This is more likely to happen with a non-robust model and highly influential observations.\n",
      "  warnings.warn(\n"
     ]
    },
    {
     "data": {
      "application/vnd.microsoft.datawrangler.viewer.v0+json": {
       "columns": [
        {
         "name": "index",
         "rawType": "object",
         "type": "string"
        },
        {
         "name": "rank",
         "rawType": "int64",
         "type": "integer"
        },
        {
         "name": "elpd_loo",
         "rawType": "float64",
         "type": "float"
        },
        {
         "name": "p_loo",
         "rawType": "float64",
         "type": "float"
        },
        {
         "name": "elpd_diff",
         "rawType": "float64",
         "type": "float"
        },
        {
         "name": "weight",
         "rawType": "float64",
         "type": "float"
        },
        {
         "name": "se",
         "rawType": "float64",
         "type": "float"
        },
        {
         "name": "dse",
         "rawType": "float64",
         "type": "float"
        },
        {
         "name": "warning",
         "rawType": "bool",
         "type": "boolean"
        },
        {
         "name": "scale",
         "rawType": "object",
         "type": "string"
        }
       ],
       "ref": "0edefc1e-5f94-4078-86b8-eb424eab4fb8",
       "rows": [
        [
         "M6_sub",
         "0",
         "-18672.998008869217",
         "272.66761966160993",
         "0.0",
         "0.5262065830043515",
         "61.83272131700956",
         "0.0",
         "True",
         "log"
        ],
        [
         "M5_sub",
         "1",
         "-18676.851061119425",
         "269.0783902230287",
         "3.853052250210907",
         "0.4737934169956485",
         "62.95155079412474",
         "14.499907538243336",
         "True",
         "log"
        ]
       ],
       "shape": {
        "columns": 9,
        "rows": 2
       }
      },
      "text/html": [
       "<div>\n",
       "<style scoped>\n",
       "    .dataframe tbody tr th:only-of-type {\n",
       "        vertical-align: middle;\n",
       "    }\n",
       "\n",
       "    .dataframe tbody tr th {\n",
       "        vertical-align: top;\n",
       "    }\n",
       "\n",
       "    .dataframe thead th {\n",
       "        text-align: right;\n",
       "    }\n",
       "</style>\n",
       "<table border=\"1\" class=\"dataframe\">\n",
       "  <thead>\n",
       "    <tr style=\"text-align: right;\">\n",
       "      <th></th>\n",
       "      <th>rank</th>\n",
       "      <th>elpd_loo</th>\n",
       "      <th>p_loo</th>\n",
       "      <th>elpd_diff</th>\n",
       "      <th>weight</th>\n",
       "      <th>se</th>\n",
       "      <th>dse</th>\n",
       "      <th>warning</th>\n",
       "      <th>scale</th>\n",
       "    </tr>\n",
       "  </thead>\n",
       "  <tbody>\n",
       "    <tr>\n",
       "      <th>M6_sub</th>\n",
       "      <td>0</td>\n",
       "      <td>-18672.998009</td>\n",
       "      <td>272.66762</td>\n",
       "      <td>0.000000</td>\n",
       "      <td>0.526207</td>\n",
       "      <td>61.832721</td>\n",
       "      <td>0.000000</td>\n",
       "      <td>True</td>\n",
       "      <td>log</td>\n",
       "    </tr>\n",
       "    <tr>\n",
       "      <th>M5_sub</th>\n",
       "      <td>1</td>\n",
       "      <td>-18676.851061</td>\n",
       "      <td>269.07839</td>\n",
       "      <td>3.853052</td>\n",
       "      <td>0.473793</td>\n",
       "      <td>62.951551</td>\n",
       "      <td>14.499908</td>\n",
       "      <td>True</td>\n",
       "      <td>log</td>\n",
       "    </tr>\n",
       "  </tbody>\n",
       "</table>\n",
       "</div>"
      ],
      "text/plain": [
       "        rank      elpd_loo      p_loo  elpd_diff    weight         se  \\\n",
       "M6_sub     0 -18672.998009  272.66762   0.000000  0.526207  61.832721   \n",
       "M5_sub     1 -18676.851061  269.07839   3.853052  0.473793  62.951551   \n",
       "\n",
       "              dse  warning scale  \n",
       "M6_sub   0.000000     True   log  \n",
       "M5_sub  14.499908     True   log  "
      ]
     },
     "execution_count": 33,
     "metadata": {},
     "output_type": "execute_result"
    }
   ],
   "source": [
    "# LOO del M5_sub\n",
    "loo_m5_sub = az.loo(idata_m5_sub)\n",
    "print(loo_m5_sub)\n",
    "\n",
    "# Comparación M5_sub vs M6_sub\n",
    "labels_sub = {\"M5_sub\": idata_m5_sub, \"M6_sub\": idata_m6_sub}\n",
    "cmp_sub = az.compare(labels_sub, ic=\"loo\")\n",
    "cmp_sub\n"
   ]
  },
  {
   "cell_type": "code",
   "execution_count": 34,
   "id": "667239d9",
   "metadata": {},
   "outputs": [
    {
     "name": "stderr",
     "output_type": "stream",
     "text": [
      "/opt/anaconda3/envs/pymc_env/lib/python3.10/site-packages/arviz/stats/stats.py:797: UserWarning: Estimated shape parameter of Pareto distribution is greater than 0.70 for one or more samples. You should consider using a more robust model, this is because importance sampling is less likely to work well if the marginal posterior and LOO posterior are very different. This is more likely to happen with a non-robust model and highly influential observations.\n",
      "  warnings.warn(\n",
      "/opt/anaconda3/envs/pymc_env/lib/python3.10/site-packages/arviz/stats/stats.py:797: UserWarning: Estimated shape parameter of Pareto distribution is greater than 0.70 for one or more samples. You should consider using a more robust model, this is because importance sampling is less likely to work well if the marginal posterior and LOO posterior are very different. This is more likely to happen with a non-robust model and highly influential observations.\n",
      "  warnings.warn(\n"
     ]
    },
    {
     "name": "stdout",
     "output_type": "stream",
     "text": [
      "Computed from 4000 posterior samples and 6000 observations log-likelihood matrix.\n",
      "\n",
      "         Estimate       SE\n",
      "elpd_loo -18676.85    62.95\n",
      "p_loo      269.08        -\n",
      "\n",
      "There has been a warning during the calculation. Please check the results.\n",
      "------\n",
      "\n",
      "Pareto k diagnostic values:\n",
      "                         Count   Pct.\n",
      "(-Inf, 0.70]   (good)     5989   99.8%\n",
      "   (0.70, 1]   (bad)         8    0.1%\n",
      "   (1, Inf)   (very bad)    3    0.1%\n",
      "\n",
      "Computed from 4000 posterior samples and 6000 observations log-likelihood matrix.\n",
      "\n",
      "         Estimate       SE\n",
      "elpd_loo -18673.00    61.83\n",
      "p_loo      272.67        -\n",
      "\n",
      "There has been a warning during the calculation. Please check the results.\n",
      "------\n",
      "\n",
      "Pareto k diagnostic values:\n",
      "                         Count   Pct.\n",
      "(-Inf, 0.70]   (good)     5979   99.7%\n",
      "   (0.70, 1]   (bad)        19    0.3%\n",
      "   (1, Inf)   (very bad)    2    0.0%\n",
      "\n",
      "\n",
      "M5_sub:  k>0.7 = 11  |  k>1.0 = 3  de 6000\n",
      "\n",
      "M6_sub:  k>0.7 = 21  |  k>1.0 = 2  de 6000\n"
     ]
    }
   ],
   "source": [
    "\n",
    "loo_m5 = az.loo(idata_m5_sub, pointwise=True)\n",
    "loo_m6 = az.loo(idata_m6_sub, pointwise=True)\n",
    "\n",
    "print(loo_m5)\n",
    "print(loo_m6)\n",
    "\n",
    "# Conteo de k-hat problemáticos\n",
    "for name, loo in [(\"M5_sub\", loo_m5), (\"M6_sub\", loo_m6)]:\n",
    "    khat = loo.pareto_k.values\n",
    "    print(f\"\\n{name}:  k>0.7 = {(khat>0.7).sum()}  |  k>1.0 = {(khat>1.0).sum()}  de {khat.size}\")\n"
   ]
  },
  {
   "cell_type": "code",
   "execution_count": 35,
   "id": "d2c3a69f",
   "metadata": {},
   "outputs": [
    {
     "data": {
      "image/png": "[encoded data removed]",
      "text/plain": [
       "<Figure size 2208x1104 with 6 Axes>"
      ]
     },
     "metadata": {},
     "output_type": "display_data"
    },
    {
     "data": {
      "image/png": "[encoded data removed]",
      "text/plain": [
       "<Figure size 640x480 with 1 Axes>"
      ]
     },
     "metadata": {},
     "output_type": "display_data"
    }
   ],
   "source": [
    "\n",
    "az.plot_posterior(idata_m6_sub, var_names=[\"g0\",\"g_ed\",\"g_sx\",\"delta\"], hdi_prob=0.95)\n",
    "plt.show()\n",
    "\n",
    "# Probabilidad media de POST por edad (rápido)\n",
    "p_post_mean = idata_m6_sub.posterior[\"p_post\"].mean((\"chain\",\"draw\")).values\n",
    "plt.scatter(edad_c_sub, p_post_mean, s=6, alpha=0.2)\n",
    "plt.xlabel(\"Edad centrada\"); plt.ylabel(\"P(POST) media\"); plt.title(\"LVPM: prob POST vs edad\")\n",
    "plt.show()\n"
   ]
  },
  {
   "cell_type": "code",
   "execution_count": 36,
   "id": "eeb9255e",
   "metadata": {},
   "outputs": [
    {
     "data": {
      "image/png": "[encoded data removed]",
      "text/plain": [
       "<Figure size 640x480 with 1 Axes>"
      ]
     },
     "metadata": {},
     "output_type": "display_data"
    }
   ],
   "source": [
    "az.plot_ppc(idata_m6_sub, num_pp_samples=200)\n",
    "plt.show()\n"
   ]
  },
  {
   "cell_type": "markdown",
   "id": "aa6bff07",
   "metadata": {},
   "source": [
    "# M6_sub no es radicalmente mejor, pero sí va en la dirección correcta."
   ]
  },
  {
   "cell_type": "markdown",
   "id": "a65f4bdb",
   "metadata": {},
   "source": [
    "# Corrigiendo M6"
   ]
  },
  {
   "cell_type": "markdown",
   "id": "c9358ca4",
   "metadata": {},
   "source": [
    "---"
   ]
  },
  {
   "cell_type": "markdown",
   "id": "88a2636c",
   "metadata": {},
   "source": [
    "## Sandbox"
   ]
  },
  {
   "cell_type": "code",
   "execution_count": 22,
   "id": "1a8dce2e",
   "metadata": {},
   "outputs": [
    {
     "data": {
      "text/plain": [
       "['folio',\n",
       " 'intp',\n",
       " 'entidad',\n",
       " 'municipio',\n",
       " 'localidad',\n",
       " 'sexo',\n",
       " 'edad_meses',\n",
       " 'edad_anios',\n",
       " 'peso_kg',\n",
       " 'talla_cm',\n",
       " 'zscore_imc_para_edad',\n",
       " 'clasificacion_imc',\n",
       " 'ponderador',\n",
       " 'region',\n",
       " 'id_persona',\n",
       " 'num_integrante',\n",
       " 'edad_dias',\n",
       " 'fecha_nacimiento',\n",
       " 'fecha_visita',\n",
       " 'altitud_localidad',\n",
       " 'code_upm',\n",
       " 'estrato_diseño',\n",
       " 'estrato_urbanidad',\n",
       " 'estrato_marginalidad',\n",
       " 'estrato_varianza',\n",
       " 'area_urbana_rural',\n",
       " 'region_geo',\n",
       " 'ageb',\n",
       " 'indice_socioeconomico',\n",
       " 'afiliacion_salud',\n",
       " 'nivel_socioecon_decil',\n",
       " 'nivel_socioecon_quintil',\n",
       " 'nivel_socioecon_tercil',\n",
       " 'ponderador_muestra',\n",
       " 'tipo_hemocue',\n",
       " 'hemoglobina_g_dl',\n",
       " 'hemoglobina_ajustada_g_dl',\n",
       " 'anemia',\n",
       " 'folio_consecutivo',\n",
       " 'munici',\n",
       " 'locali',\n",
       " 'edad',\n",
       " 'dia_nac',\n",
       " 'mes_nac',\n",
       " 'anio_nac',\n",
       " 'est_urb',\n",
       " 'est_marg',\n",
       " 'pondef',\n",
       " 'folio_vivienda',\n",
       " 'meses',\n",
       " 'afilia_1ra',\n",
       " 'afilia_tras',\n",
       " 'pondei',\n",
       " 'deciles',\n",
       " 'pondeh',\n",
       " 'grupo_edad',\n",
       " 'imc',\n",
       " 'edad_anios_calc']"
      ]
     },
     "execution_count": 22,
     "metadata": {},
     "output_type": "execute_result"
    }
   ],
   "source": [
    "df.columns.tolist()"
   ]
  },
  {
   "cell_type": "markdown",
   "id": "34f764c4",
   "metadata": {},
   "source": [
    "---"
   ]
  }
 ],
 "metadata": {
  "kernelspec": {
   "display_name": "pymc_env",
   "language": "python",
   "name": "python3"
  },
  "language_info": {
   "codemirror_mode": {
    "name": "ipython",
    "version": 3
   },
   "file_extension": ".py",
   "mimetype": "text/x-python",
   "name": "python",
   "nbconvert_exporter": "python",
   "pygments_lexer": "ipython3",
   "version": "3.10.18"
  }
 },
 "nbformat": 4,
 "nbformat_minor": 5
}
