{
 "cells": [
  {
   "cell_type": "markdown",
   "id": "816a594d",
   "metadata": {},
   "source": [
    "# Estimación del estadio puberal de Tanner para añadir al M5 y afinarlo "
   ]
  },
  {
   "cell_type": "code",
   "execution_count": 3,
   "id": "d32c3658",
   "metadata": {},
   "outputs": [],
   "source": [
    "import pandas as pd\n",
    "import pymc as pm\n",
    "import arviz as az\n",
    "import numpy as np\n",
    "import matplotlib.pyplot as plt\n",
    "import seaborn as sns\n",
    "import warnings\n",
    "import pytensor  \n",
    "from patsy import dmatrix\n"
   ]
  },
  {
   "cell_type": "code",
   "execution_count": 4,
   "id": "8486ee3d",
   "metadata": {},
   "outputs": [],
   "source": [
    "# read data\n",
    "df = pd.read_csv(\"../data/clean/clean2_final_nutricion_salud.csv\")"
   ]
  },
  {
   "cell_type": "markdown",
   "id": "70197edd",
   "metadata": {},
   "source": [
    "---"
   ]
  },
  {
   "cell_type": "code",
   "execution_count": 5,
   "id": "bb5ebda3",
   "metadata": {},
   "outputs": [
    {
     "name": "stdout",
     "output_type": "stream",
     "text": [
      "<class 'pandas.core.frame.DataFrame'>\n",
      "Index: 25355 entries, 100001_3 to 70336_4\n",
      "Data columns (total 5 columns):\n",
      " #   Column           Non-Null Count  Dtype  \n",
      "---  ------           --------------  -----  \n",
      " 0   talla_cm         25355 non-null  float64\n",
      " 1   edad_anios_calc  25355 non-null  float64\n",
      " 2   sexo             25355 non-null  int64  \n",
      " 3   peso_kg          25355 non-null  float64\n",
      " 4   municipio        25355 non-null  float64\n",
      "dtypes: float64(4), int64(1)\n",
      "memory usage: 1.2+ MB\n"
     ]
    },
    {
     "data": {
      "text/plain": [
       "177"
      ]
     },
     "execution_count": 5,
     "metadata": {},
     "output_type": "execute_result"
    }
   ],
   "source": [
    "# Filtramos observaciones con datos completos de talla, edad y sexo\n",
    "df_model = df[[\"talla_cm\", \"edad_anios_calc\", \"sexo\", \"peso_kg\", \"municipio\", \"id_persona\"]].dropna()\n",
    "\n",
    "# Establecemos 'id_persona' como índice del DataFrame\n",
    "df_model = df_model.set_index(\"id_persona\")\n",
    "\n",
    "# Codificamos correctamente sexo \n",
    "# Recodeamos sexo: 0 = mujer, 1 = hombre\n",
    "df_model[\"sexo\"] = df_model[\"sexo\"].map({2: 0, 1: 1})\n",
    "\n",
    "# Confirmamos los tipos de variables y que no haya NAs\n",
    "df_model.info()\n",
    "df_model.describe()\n",
    "df_model[\"sexo\"].value_counts()\n",
    "df_model[\"municipio\"].nunique()"
   ]
  },
  {
   "cell_type": "code",
   "execution_count": 6,
   "id": "4d04ce6e",
   "metadata": {},
   "outputs": [
    {
     "data": {
      "application/vnd.microsoft.datawrangler.viewer.v0+json": {
       "columns": [
        {
         "name": "id_persona",
         "rawType": "object",
         "type": "string"
        },
        {
         "name": "municipio",
         "rawType": "float64",
         "type": "float"
        },
        {
         "name": "municipio_idx",
         "rawType": "int16",
         "type": "integer"
        }
       ],
       "ref": "9d2707d9-90f3-4220-b912-87c918d293d1",
       "rows": [
        [
         "100001_3",
         "1.0",
         "0"
        ],
        [
         "11276_3",
         "2.0",
         "1"
        ],
        [
         "110044_5",
         "3.0",
         "2"
        ],
        [
         "100075_5",
         "4.0",
         "3"
        ],
        [
         "100121_6",
         "5.0",
         "4"
        ]
       ],
       "shape": {
        "columns": 2,
        "rows": 5
       }
      },
      "text/html": [
       "<div>\n",
       "<style scoped>\n",
       "    .dataframe tbody tr th:only-of-type {\n",
       "        vertical-align: middle;\n",
       "    }\n",
       "\n",
       "    .dataframe tbody tr th {\n",
       "        vertical-align: top;\n",
       "    }\n",
       "\n",
       "    .dataframe thead th {\n",
       "        text-align: right;\n",
       "    }\n",
       "</style>\n",
       "<table border=\"1\" class=\"dataframe\">\n",
       "  <thead>\n",
       "    <tr style=\"text-align: right;\">\n",
       "      <th></th>\n",
       "      <th>municipio</th>\n",
       "      <th>municipio_idx</th>\n",
       "    </tr>\n",
       "    <tr>\n",
       "      <th>id_persona</th>\n",
       "      <th></th>\n",
       "      <th></th>\n",
       "    </tr>\n",
       "  </thead>\n",
       "  <tbody>\n",
       "    <tr>\n",
       "      <th>100001_3</th>\n",
       "      <td>1.0</td>\n",
       "      <td>0</td>\n",
       "    </tr>\n",
       "    <tr>\n",
       "      <th>11276_3</th>\n",
       "      <td>2.0</td>\n",
       "      <td>1</td>\n",
       "    </tr>\n",
       "    <tr>\n",
       "      <th>110044_5</th>\n",
       "      <td>3.0</td>\n",
       "      <td>2</td>\n",
       "    </tr>\n",
       "    <tr>\n",
       "      <th>100075_5</th>\n",
       "      <td>4.0</td>\n",
       "      <td>3</td>\n",
       "    </tr>\n",
       "    <tr>\n",
       "      <th>100121_6</th>\n",
       "      <td>5.0</td>\n",
       "      <td>4</td>\n",
       "    </tr>\n",
       "  </tbody>\n",
       "</table>\n",
       "</div>"
      ],
      "text/plain": [
       "            municipio  municipio_idx\n",
       "id_persona                          \n",
       "100001_3          1.0              0\n",
       "11276_3           2.0              1\n",
       "110044_5          3.0              2\n",
       "100075_5          4.0              3\n",
       "100121_6          5.0              4"
      ]
     },
     "execution_count": 6,
     "metadata": {},
     "output_type": "execute_result"
    }
   ],
   "source": [
    "# Codificamos cada municipio con un índice entero único (de 0 a n_grupos - 1)\n",
    "df_model[\"municipio_idx\"] = pd.Categorical(df_model[\"municipio\"]).codes\n",
    "\n",
    "# Verificamos que se creó correctamente\n",
    "df_model[[\"municipio\", \"municipio_idx\"]].drop_duplicates().sort_values(\"municipio_idx\").head()\n"
   ]
  },
  {
   "cell_type": "markdown",
   "id": "b154e341",
   "metadata": {},
   "source": [
    "---"
   ]
  },
  {
   "cell_type": "code",
   "execution_count": 7,
   "id": "1b097422",
   "metadata": {},
   "outputs": [
    {
     "name": "stdout",
     "output_type": "stream",
     "text": [
      "Edad media en la muestra: 6.266 años\n"
     ]
    },
    {
     "data": {
      "application/vnd.microsoft.datawrangler.viewer.v0+json": {
       "columns": [
        {
         "name": "id_persona",
         "rawType": "object",
         "type": "string"
        },
        {
         "name": "edad_anios_calc",
         "rawType": "float64",
         "type": "float"
        },
        {
         "name": "edad_c",
         "rawType": "float64",
         "type": "float"
        }
       ],
       "ref": "f4a76951-ea4d-456c-be4d-5967580b41c9",
       "rows": [
        [
         "100001_3",
         "8.695414091666667",
         "2.429254067877473"
        ],
        [
         "100006_6",
         "11.211498966666667",
         "4.945338942877473"
        ],
        [
         "100008_10",
         "7.561943866666667",
         "1.2957838428774728"
        ],
        [
         "100009_3",
         "6.27789185",
         "0.011731826210805707"
        ],
        [
         "100010_7",
         "8.145106091666667",
         "1.8789460678774734"
        ]
       ],
       "shape": {
        "columns": 2,
        "rows": 5
       }
      },
      "text/html": [
       "<div>\n",
       "<style scoped>\n",
       "    .dataframe tbody tr th:only-of-type {\n",
       "        vertical-align: middle;\n",
       "    }\n",
       "\n",
       "    .dataframe tbody tr th {\n",
       "        vertical-align: top;\n",
       "    }\n",
       "\n",
       "    .dataframe thead th {\n",
       "        text-align: right;\n",
       "    }\n",
       "</style>\n",
       "<table border=\"1\" class=\"dataframe\">\n",
       "  <thead>\n",
       "    <tr style=\"text-align: right;\">\n",
       "      <th></th>\n",
       "      <th>edad_anios_calc</th>\n",
       "      <th>edad_c</th>\n",
       "    </tr>\n",
       "    <tr>\n",
       "      <th>id_persona</th>\n",
       "      <th></th>\n",
       "      <th></th>\n",
       "    </tr>\n",
       "  </thead>\n",
       "  <tbody>\n",
       "    <tr>\n",
       "      <th>100001_3</th>\n",
       "      <td>8.695414</td>\n",
       "      <td>2.429254</td>\n",
       "    </tr>\n",
       "    <tr>\n",
       "      <th>100006_6</th>\n",
       "      <td>11.211499</td>\n",
       "      <td>4.945339</td>\n",
       "    </tr>\n",
       "    <tr>\n",
       "      <th>100008_10</th>\n",
       "      <td>7.561944</td>\n",
       "      <td>1.295784</td>\n",
       "    </tr>\n",
       "    <tr>\n",
       "      <th>100009_3</th>\n",
       "      <td>6.277892</td>\n",
       "      <td>0.011732</td>\n",
       "    </tr>\n",
       "    <tr>\n",
       "      <th>100010_7</th>\n",
       "      <td>8.145106</td>\n",
       "      <td>1.878946</td>\n",
       "    </tr>\n",
       "  </tbody>\n",
       "</table>\n",
       "</div>"
      ],
      "text/plain": [
       "            edad_anios_calc    edad_c\n",
       "id_persona                           \n",
       "100001_3           8.695414  2.429254\n",
       "100006_6          11.211499  4.945339\n",
       "100008_10          7.561944  1.295784\n",
       "100009_3           6.277892  0.011732\n",
       "100010_7           8.145106  1.878946"
      ]
     },
     "execution_count": 7,
     "metadata": {},
     "output_type": "execute_result"
    }
   ],
   "source": [
    "# Centrar la edad y guardar la media: \n",
    "# Esto ayuda a que el intercepto sea interpretable (talla promedio en la edad media) y mejora la estabilidad numérica del muestreo.\n",
    "edad_mean = df_model[\"edad_anios_calc\"].mean()\n",
    "df_model[\"edad_c\"] = df_model[\"edad_anios_calc\"] - edad_mean\n",
    "\n",
    "print(f\"Edad media en la muestra: {edad_mean:.3f} años\")\n",
    "df_model[[\"edad_anios_calc\", \"edad_c\"]].head()\n"
   ]
  },
  {
   "cell_type": "markdown",
   "id": "d5710ac8",
   "metadata": {},
   "source": [
    "---"
   ]
  },
  {
   "cell_type": "markdown",
   "id": "0de7938b",
   "metadata": {},
   "source": [
    "## Modelo M5: splines "
   ]
  },
  {
   "cell_type": "code",
   "execution_count": 8,
   "id": "6d273830",
   "metadata": {},
   "outputs": [
    {
     "name": "stdout",
     "output_type": "stream",
     "text": [
      "X_s shape: (25355, 5)\n"
     ]
    }
   ],
   "source": [
    "# Construcción de B-splines cúbicos para la edad\n",
    "# (A) Hiperparámetro de flexibilidad\n",
    "df_spline = 5        # Empezamos con 5; luego probamos 6 o 7 si hace falta.\n",
    "\n",
    "# (B) Matriz de B-splines cúbicos de la edad (sin intercepto)\n",
    "X_spline = dmatrix(\n",
    "    \"bs(edad, df=df_spline, degree=3, include_intercept=False) - 1\",\n",
    "    {\"edad\": df_model[\"edad_anios_calc\"].values},\n",
    "    return_type=\"dataframe\"\n",
    ")\n",
    "\n",
    "# (C) A NumPy para PyMC\n",
    "X_s = X_spline.to_numpy()\n",
    "\n",
    "# (D) Chequeo rápido\n",
    "n_obs, n_s = X_s.shape\n",
    "print(\"X_s shape:\", X_s.shape)   # (n_obs, n_bases)\n"
   ]
  },
  {
   "cell_type": "code",
   "execution_count": 9,
   "id": "bf861c57",
   "metadata": {},
   "outputs": [
    {
     "name": "stdout",
     "output_type": "stream",
     "text": [
      "n_obs=25355 | n_s(bases)=5 | n_muni=177\n"
     ]
    }
   ],
   "source": [
    "# Variable objetivo y predictores “clásicos”\n",
    "y        = df_model[\"talla_cm\"].to_numpy()\n",
    "sexo     = df_model[\"sexo\"].to_numpy().astype(int)  # 0 = mujer, 1 = hombre\n",
    "\n",
    "# Edad centrada (importante para estabilidad y para interpretar el intercepto)\n",
    "edad_c   = (df_model[\"edad_anios_calc\"] - df_model[\"edad_anios_calc\"].mean()).to_numpy()\n",
    "\n",
    "# Índice entero de municipio por observación (0..n_muni-1)\n",
    "muni_idx = df_model[\"municipio_idx\"].to_numpy().astype(int)\n",
    "\n",
    "# Tamaños\n",
    "n_obs_chk = y.shape[0]\n",
    "n_muni    = int(muni_idx.max()) + 1\n",
    "\n",
    "# Chequeos\n",
    "assert X_s.shape[0] == n_obs_chk, \"X_s debe tener tantas filas como observaciones.\"\n",
    "print(f\"n_obs={n_obs_chk} | n_s(bases)={n_s} | n_muni={n_muni}\")\n"
   ]
  },
  {
   "cell_type": "code",
   "execution_count": 10,
   "id": "95fae0d0",
   "metadata": {},
   "outputs": [],
   "source": [
    "\n",
    "with pm.Model() as modelo_m5:\n",
    "    # --- Priors globales (cm) ---\n",
    "    beta_0        = pm.Normal(\"beta_0\", 125, 10)     # talla a la edad media (sexo=0)\n",
    "    beta_sexo     = pm.Normal(\"beta_sexo\", 3, 2)     # diferencia nivel hombre vs mujer\n",
    "    beta_edad_sex = pm.Normal(\"beta_edad_sex\", 0, 2) # interacción lineal edad_c × sexo (opcional)\n",
    "\n",
    "    # --- Pesos de las bases spline (regularización suave) ---\n",
    "    # Normal(0,1) ≈ “ridge” suave; si vemos curvas muy onduladas, bajamos a 0.5\n",
    "    w_s = pm.Normal(\"w_s\", 0, 1.0, shape=n_s)\n",
    "\n",
    "    # --- Efectos aleatorios por municipio (no-centrados) ---\n",
    "    sd_a0 = pm.HalfNormal(\"sd_a0\", 5)   # sd de interceptos municipales (cm)\n",
    "    sd_a1 = pm.HalfNormal(\"sd_a1\", 2)   # sd de pendientes municipales (cm/año)\n",
    "\n",
    "    z_a0 = pm.Normal(\"z_a0\", 0, 1, shape=n_muni) # de la centralización\n",
    "    z_a1 = pm.Normal(\"z_a1\", 0, 1, shape=n_muni) # de la centralización\n",
    "    a0   = pm.Deterministic(\"a0\", sd_a0 * z_a0) \n",
    "    a1   = pm.Deterministic(\"a1\", sd_a1 * z_a1)\n",
    "\n",
    "    # --- Curva de edad a partir de las bases ---\n",
    "    # dot(X_s, w_s): vector (n_obs,) con la contribución no lineal de la edad\n",
    "    f_edad = pm.Deterministic(\"f_edad\", pm.math.dot(X_s, w_s))\n",
    "\n",
    "    # --- Media (predicción) ---\n",
    "    mu = (\n",
    "        beta_0\n",
    "        + beta_sexo * sexo\n",
    "        + f_edad                        # curva suave común por edad\n",
    "        + a0[muni_idx]                  # nivel municipal\n",
    "        + a1[muni_idx] * edad_c         # “tilt” lineal municipal\n",
    "        + beta_edad_sex * (edad_c * sexo)  # opcional: diferencia de pendiente global por sexo\n",
    "    )\n",
    "\n",
    "    # --- Likelihood robusta ---\n",
    "    nu    = pm.Exponential(\"nu\", 1/10)     # g.l. (media 10)\n",
    "    sigma = pm.HalfNormal(\"sigma_obs\", 5)  # escala residual (cm)\n",
    "    talla_obs = pm.StudentT(\"talla_obs\", nu=nu, mu=mu, sigma=sigma, observed=y)\n"
   ]
  },
  {
   "cell_type": "markdown",
   "id": "56f8abea",
   "metadata": {},
   "source": [
    "Por qué “no centrado” en a0, a1:\n",
    "\n",
    "Cuando la variación entre municipios (sd_a*) es pequeña o el muestreo está “tenso”, la forma no centrada (z ~ N(0,1); a = sd*z) mejora mucho la mezcla y reduce divergencias."
   ]
  },
  {
   "cell_type": "code",
   "execution_count": null,
   "id": "45964614",
   "metadata": {},
   "outputs": [
    {
     "name": "stderr",
     "output_type": "stream",
     "text": [
      "Initializing NUTS using jitter+adapt_diag...\n",
      "Sequential sampling (3 chains in 1 job)\n",
      "NUTS: [beta_0, beta_sexo, beta_edad_sex, w_s, sd_a0, sd_a1, z_a0, z_a1, nu, sigma_obs]\n"
     ]
    },
    {
     "data": {
      "text/html": [
       "<pre style=\"white-space:pre;overflow-x:auto;line-height:normal;font-family:Menlo,'DejaVu Sans Mono',consolas,'Courier New',monospace\">/opt/anaconda3/envs/pymc_env/lib/python3.10/site-packages/rich/live.py:256: UserWarning: install \"ipywidgets\" for \n",
       "Jupyter support\n",
       "  warnings.warn('install \"ipywidgets\" for Jupyter support')\n",
       "</pre>\n"
      ],
      "text/plain": [
       "/opt/anaconda3/envs/pymc_env/lib/python3.10/site-packages/rich/live.py:256: UserWarning: install \"ipywidgets\" for \n",
       "Jupyter support\n",
       "  warnings.warn('install \"ipywidgets\" for Jupyter support')\n"
      ]
     },
     "metadata": {},
     "output_type": "display_data"
    },
    {
     "data": {
      "text/html": [
       "<pre style=\"white-space:pre;overflow-x:auto;line-height:normal;font-family:Menlo,'DejaVu Sans Mono',consolas,'Courier New',monospace\"></pre>\n"
      ],
      "text/plain": []
     },
     "metadata": {},
     "output_type": "display_data"
    },
    {
     "name": "stderr",
     "output_type": "stream",
     "text": [
      "Sampling 3 chains for 800 tune and 800 draw iterations (2_400 + 2_400 draws total) took 908 seconds.\n",
      "We recommend running at least 4 chains for robust computation of convergence diagnostics\n",
      "The rhat statistic is larger than 1.01 for some parameters. This indicates problems during sampling. See https://arxiv.org/abs/1903.08008 for details\n",
      "The effective sample size per chain is smaller than 100 for some parameters.  A higher number is needed for reliable rhat and ess computation. See https://arxiv.org/abs/1903.08008 for details\n",
      "Sampling: [talla_obs]\n"
     ]
    },
    {
     "data": {
      "text/html": [
       "<pre style=\"white-space:pre;overflow-x:auto;line-height:normal;font-family:Menlo,'DejaVu Sans Mono',consolas,'Courier New',monospace\">/opt/anaconda3/envs/pymc_env/lib/python3.10/site-packages/rich/live.py:256: UserWarning: install \"ipywidgets\" for \n",
       "Jupyter support\n",
       "  warnings.warn('install \"ipywidgets\" for Jupyter support')\n",
       "</pre>\n"
      ],
      "text/plain": [
       "/opt/anaconda3/envs/pymc_env/lib/python3.10/site-packages/rich/live.py:256: UserWarning: install \"ipywidgets\" for \n",
       "Jupyter support\n",
       "  warnings.warn('install \"ipywidgets\" for Jupyter support')\n"
      ]
     },
     "metadata": {},
     "output_type": "display_data"
    },
    {
     "data": {
      "text/html": [
       "<pre style=\"white-space:pre;overflow-x:auto;line-height:normal;font-family:Menlo,'DejaVu Sans Mono',consolas,'Courier New',monospace\"></pre>\n"
      ],
      "text/plain": []
     },
     "metadata": {},
     "output_type": "display_data"
    },
    {
     "name": "stdout",
     "output_type": "stream",
     "text": [
      "['posterior', 'posterior_predictive', 'log_likelihood', 'sample_stats', 'observed_data']\n"
     ]
    }
   ],
   "source": [
    "with modelo_m5:\n",
    "    idata_m5 = pm.sample(\n",
    "        draws=1000, tune=1000,          # empezamos moderado; si todo OK luego subimos a 1200–1500\n",
    "        chains=3, cores=1,            # cores=1 evita issues en notebooks/entornos limitados\n",
    "        target_accept=0.97,           # alto = menos divergences (si hay, subimos a 0.99)\n",
    "        init=\"jitter+adapt_diag\",\n",
    "        random_seed=42,\n",
    "        return_inferencedata=True,\n",
    "        idata_kwargs={\"log_likelihood\": True}\n",
    "    )\n",
    "\n",
    "    # PPC (para plot_ppc y checks)\n",
    "    ppc_m5 = pm.sample_posterior_predictive(idata_m5, return_inferencedata=True, random_seed=42)\n",
    "    idata_m5.extend(ppc_m5)   # <- sin reasignar\n",
    "\n",
    "    print(idata_m5.groups())\n"
   ]
  },
  {
   "cell_type": "code",
   "execution_count": 12,
   "id": "0b412ade",
   "metadata": {},
   "outputs": [
    {
     "name": "stderr",
     "output_type": "stream",
     "text": [
      "/opt/anaconda3/envs/pymc_env/lib/python3.10/site-packages/arviz/stats/diagnostics.py:596: RuntimeWarning: invalid value encountered in scalar divide\n",
      "  (between_chain_variance / within_chain_variance + num_samples - 1) / (num_samples)\n",
      "/opt/anaconda3/envs/pymc_env/lib/python3.10/site-packages/arviz/stats/diagnostics.py:991: RuntimeWarning: invalid value encountered in scalar divide\n",
      "  varsd = varvar / evar / 4\n"
     ]
    },
    {
     "data": {
      "application/vnd.microsoft.datawrangler.viewer.v0+json": {
       "columns": [
        {
         "name": "index",
         "rawType": "object",
         "type": "string"
        },
        {
         "name": "mean",
         "rawType": "float64",
         "type": "float"
        },
        {
         "name": "sd",
         "rawType": "float64",
         "type": "float"
        },
        {
         "name": "hdi_3%",
         "rawType": "float64",
         "type": "float"
        },
        {
         "name": "hdi_97%",
         "rawType": "float64",
         "type": "float"
        },
        {
         "name": "mcse_mean",
         "rawType": "float64",
         "type": "float"
        },
        {
         "name": "mcse_sd",
         "rawType": "float64",
         "type": "float"
        },
        {
         "name": "ess_bulk",
         "rawType": "float64",
         "type": "float"
        },
        {
         "name": "ess_tail",
         "rawType": "float64",
         "type": "float"
        },
        {
         "name": "r_hat",
         "rawType": "float64",
         "type": "float"
        }
       ],
       "ref": "3819b04b-b957-45ab-b5bc-ae04730bedd5",
       "rows": [
        [
         "beta_0",
         "106.3",
         "0.37",
         "105.65",
         "106.97",
         "0.01",
         "0.01",
         "617.49",
         "1076.07",
         "1.0"
        ],
        [
         "beta_sexo",
         "0.48",
         "0.07",
         "0.36",
         "0.61",
         "0.0",
         "0.0",
         "4289.96",
         "1814.74",
         "1.0"
        ],
        [
         "beta_edad_sex",
         "-0.24",
         "0.02",
         "-0.27",
         "-0.19",
         "0.0",
         "0.0",
         "4278.82",
         "1915.08",
         "1.0"
        ],
        [
         "w_s[0]",
         "10.42",
         "0.36",
         "9.77",
         "11.11",
         "0.01",
         "0.01",
         "3987.9",
         "1836.94",
         "1.0"
        ],
        [
         "w_s[1]",
         "10.55",
         "0.3",
         "10.01",
         "11.11",
         "0.01",
         "0.01",
         "1364.69",
         "1717.18",
         "1.0"
        ],
        [
         "w_s[2]",
         "3.91",
         "0.48",
         "2.92",
         "4.77",
         "0.01",
         "0.01",
         "1277.27",
         "1477.61",
         "1.0"
        ],
        [
         "w_s[3]",
         "-1.19",
         "0.61",
         "-2.29",
         "-0.0",
         "0.02",
         "0.01",
         "1051.69",
         "1530.38",
         "1.0"
        ],
        [
         "w_s[4]",
         "-4.59",
         "0.66",
         "-5.82",
         "-3.35",
         "0.02",
         "0.01",
         "976.31",
         "1477.05",
         "1.0"
        ],
        [
         "z_a0[0]",
         "0.76",
         "0.14",
         "0.51",
         "1.03",
         "0.01",
         "0.0",
         "486.27",
         "972.86",
         "1.01"
        ],
        [
         "z_a0[1]",
         "0.53",
         "0.14",
         "0.26",
         "0.79",
         "0.01",
         "0.0",
         "558.92",
         "987.35",
         "1.01"
        ],
        [
         "z_a0[2]",
         "0.77",
         "0.16",
         "0.48",
         "1.07",
         "0.01",
         "0.0",
         "632.52",
         "991.09",
         "1.01"
        ],
        [
         "z_a0[3]",
         "0.51",
         "0.14",
         "0.25",
         "0.78",
         "0.01",
         "0.0",
         "577.27",
         "1149.75",
         "1.01"
        ]
       ],
       "shape": {
        "columns": 9,
        "rows": 12
       }
      },
      "text/html": [
       "<div>\n",
       "<style scoped>\n",
       "    .dataframe tbody tr th:only-of-type {\n",
       "        vertical-align: middle;\n",
       "    }\n",
       "\n",
       "    .dataframe tbody tr th {\n",
       "        vertical-align: top;\n",
       "    }\n",
       "\n",
       "    .dataframe thead th {\n",
       "        text-align: right;\n",
       "    }\n",
       "</style>\n",
       "<table border=\"1\" class=\"dataframe\">\n",
       "  <thead>\n",
       "    <tr style=\"text-align: right;\">\n",
       "      <th></th>\n",
       "      <th>mean</th>\n",
       "      <th>sd</th>\n",
       "      <th>hdi_3%</th>\n",
       "      <th>hdi_97%</th>\n",
       "      <th>mcse_mean</th>\n",
       "      <th>mcse_sd</th>\n",
       "      <th>ess_bulk</th>\n",
       "      <th>ess_tail</th>\n",
       "      <th>r_hat</th>\n",
       "    </tr>\n",
       "  </thead>\n",
       "  <tbody>\n",
       "    <tr>\n",
       "      <th>beta_0</th>\n",
       "      <td>106.30</td>\n",
       "      <td>0.37</td>\n",
       "      <td>105.65</td>\n",
       "      <td>106.97</td>\n",
       "      <td>0.01</td>\n",
       "      <td>0.01</td>\n",
       "      <td>617.49</td>\n",
       "      <td>1076.07</td>\n",
       "      <td>1.00</td>\n",
       "    </tr>\n",
       "    <tr>\n",
       "      <th>beta_sexo</th>\n",
       "      <td>0.48</td>\n",
       "      <td>0.07</td>\n",
       "      <td>0.36</td>\n",
       "      <td>0.61</td>\n",
       "      <td>0.00</td>\n",
       "      <td>0.00</td>\n",
       "      <td>4289.96</td>\n",
       "      <td>1814.74</td>\n",
       "      <td>1.00</td>\n",
       "    </tr>\n",
       "    <tr>\n",
       "      <th>beta_edad_sex</th>\n",
       "      <td>-0.24</td>\n",
       "      <td>0.02</td>\n",
       "      <td>-0.27</td>\n",
       "      <td>-0.19</td>\n",
       "      <td>0.00</td>\n",
       "      <td>0.00</td>\n",
       "      <td>4278.82</td>\n",
       "      <td>1915.08</td>\n",
       "      <td>1.00</td>\n",
       "    </tr>\n",
       "    <tr>\n",
       "      <th>w_s[0]</th>\n",
       "      <td>10.42</td>\n",
       "      <td>0.36</td>\n",
       "      <td>9.77</td>\n",
       "      <td>11.11</td>\n",
       "      <td>0.01</td>\n",
       "      <td>0.01</td>\n",
       "      <td>3987.90</td>\n",
       "      <td>1836.94</td>\n",
       "      <td>1.00</td>\n",
       "    </tr>\n",
       "    <tr>\n",
       "      <th>w_s[1]</th>\n",
       "      <td>10.55</td>\n",
       "      <td>0.30</td>\n",
       "      <td>10.01</td>\n",
       "      <td>11.11</td>\n",
       "      <td>0.01</td>\n",
       "      <td>0.01</td>\n",
       "      <td>1364.69</td>\n",
       "      <td>1717.18</td>\n",
       "      <td>1.00</td>\n",
       "    </tr>\n",
       "    <tr>\n",
       "      <th>w_s[2]</th>\n",
       "      <td>3.91</td>\n",
       "      <td>0.48</td>\n",
       "      <td>2.92</td>\n",
       "      <td>4.77</td>\n",
       "      <td>0.01</td>\n",
       "      <td>0.01</td>\n",
       "      <td>1277.27</td>\n",
       "      <td>1477.61</td>\n",
       "      <td>1.00</td>\n",
       "    </tr>\n",
       "    <tr>\n",
       "      <th>w_s[3]</th>\n",
       "      <td>-1.19</td>\n",
       "      <td>0.61</td>\n",
       "      <td>-2.29</td>\n",
       "      <td>-0.00</td>\n",
       "      <td>0.02</td>\n",
       "      <td>0.01</td>\n",
       "      <td>1051.69</td>\n",
       "      <td>1530.38</td>\n",
       "      <td>1.00</td>\n",
       "    </tr>\n",
       "    <tr>\n",
       "      <th>w_s[4]</th>\n",
       "      <td>-4.59</td>\n",
       "      <td>0.66</td>\n",
       "      <td>-5.82</td>\n",
       "      <td>-3.35</td>\n",
       "      <td>0.02</td>\n",
       "      <td>0.01</td>\n",
       "      <td>976.31</td>\n",
       "      <td>1477.05</td>\n",
       "      <td>1.00</td>\n",
       "    </tr>\n",
       "    <tr>\n",
       "      <th>z_a0[0]</th>\n",
       "      <td>0.76</td>\n",
       "      <td>0.14</td>\n",
       "      <td>0.51</td>\n",
       "      <td>1.03</td>\n",
       "      <td>0.01</td>\n",
       "      <td>0.00</td>\n",
       "      <td>486.27</td>\n",
       "      <td>972.86</td>\n",
       "      <td>1.01</td>\n",
       "    </tr>\n",
       "    <tr>\n",
       "      <th>z_a0[1]</th>\n",
       "      <td>0.53</td>\n",
       "      <td>0.14</td>\n",
       "      <td>0.26</td>\n",
       "      <td>0.79</td>\n",
       "      <td>0.01</td>\n",
       "      <td>0.00</td>\n",
       "      <td>558.92</td>\n",
       "      <td>987.35</td>\n",
       "      <td>1.01</td>\n",
       "    </tr>\n",
       "    <tr>\n",
       "      <th>z_a0[2]</th>\n",
       "      <td>0.77</td>\n",
       "      <td>0.16</td>\n",
       "      <td>0.48</td>\n",
       "      <td>1.07</td>\n",
       "      <td>0.01</td>\n",
       "      <td>0.00</td>\n",
       "      <td>632.52</td>\n",
       "      <td>991.09</td>\n",
       "      <td>1.01</td>\n",
       "    </tr>\n",
       "    <tr>\n",
       "      <th>z_a0[3]</th>\n",
       "      <td>0.51</td>\n",
       "      <td>0.14</td>\n",
       "      <td>0.25</td>\n",
       "      <td>0.78</td>\n",
       "      <td>0.01</td>\n",
       "      <td>0.00</td>\n",
       "      <td>577.27</td>\n",
       "      <td>1149.75</td>\n",
       "      <td>1.01</td>\n",
       "    </tr>\n",
       "  </tbody>\n",
       "</table>\n",
       "</div>"
      ],
      "text/plain": [
       "                 mean    sd  hdi_3%  hdi_97%  mcse_mean  mcse_sd  ess_bulk  \\\n",
       "beta_0         106.30  0.37  105.65   106.97       0.01     0.01    617.49   \n",
       "beta_sexo        0.48  0.07    0.36     0.61       0.00     0.00   4289.96   \n",
       "beta_edad_sex   -0.24  0.02   -0.27    -0.19       0.00     0.00   4278.82   \n",
       "w_s[0]          10.42  0.36    9.77    11.11       0.01     0.01   3987.90   \n",
       "w_s[1]          10.55  0.30   10.01    11.11       0.01     0.01   1364.69   \n",
       "w_s[2]           3.91  0.48    2.92     4.77       0.01     0.01   1277.27   \n",
       "w_s[3]          -1.19  0.61   -2.29    -0.00       0.02     0.01   1051.69   \n",
       "w_s[4]          -4.59  0.66   -5.82    -3.35       0.02     0.01    976.31   \n",
       "z_a0[0]          0.76  0.14    0.51     1.03       0.01     0.00    486.27   \n",
       "z_a0[1]          0.53  0.14    0.26     0.79       0.01     0.00    558.92   \n",
       "z_a0[2]          0.77  0.16    0.48     1.07       0.01     0.00    632.52   \n",
       "z_a0[3]          0.51  0.14    0.25     0.78       0.01     0.00    577.27   \n",
       "\n",
       "               ess_tail  r_hat  \n",
       "beta_0          1076.07   1.00  \n",
       "beta_sexo       1814.74   1.00  \n",
       "beta_edad_sex   1915.08   1.00  \n",
       "w_s[0]          1836.94   1.00  \n",
       "w_s[1]          1717.18   1.00  \n",
       "w_s[2]          1477.61   1.00  \n",
       "w_s[3]          1530.38   1.00  \n",
       "w_s[4]          1477.05   1.00  \n",
       "z_a0[0]          972.86   1.01  \n",
       "z_a0[1]          987.35   1.01  \n",
       "z_a0[2]          991.09   1.01  \n",
       "z_a0[3]         1149.75   1.01  "
      ]
     },
     "metadata": {},
     "output_type": "display_data"
    }
   ],
   "source": [
    "summ = az.summary(idata_m5, round_to=2)\n",
    "display(summ.head(12))"
   ]
  },
  {
   "cell_type": "markdown",
   "id": "257e0591",
   "metadata": {},
   "source": [
    "---"
   ]
  },
  {
   "cell_type": "markdown",
   "id": "38f0da33",
   "metadata": {},
   "source": [
    "## Estimación estadio puberal Tanner con modelos latentes probabilísticos"
   ]
  },
  {
   "cell_type": "markdown",
   "id": "ccb5bed1",
   "metadata": {},
   "source": [
    "Qué son los estadios Tanner?\n",
    "\n",
    "Se usan clínicamente para evaluar el desarrollo físico en la pubertad, con 5 fases (Tanner 1 a 5), basadas en características sexuales secundarias: desarrollo mamario/genital y vello púbico. Son el “estándar de oro” en pediatría"
   ]
  },
  {
   "cell_type": "markdown",
   "id": "665439be",
   "metadata": {},
   "source": [
    "### Modelos latentes probabilísticos aplicados a Tanner\n",
    "\n",
    "Un modelo latente parte de la idea de que, además de las variables que observamos (edad, sexo, talla, IMC), existe una **variable oculta** que no se mide directamente pero que explica parte del patrón en los datos.  \n",
    "En el contexto de crecimiento infantil, esa variable oculta corresponde al **estadio puberal de Tanner (I–V)**.\n",
    "\n",
    "#### 1. Probabilidades de estadio\n",
    "El modelo no asigna a cada niño un estadio fijo, sino que estima **probabilidades** para cada uno de los cinco estadios.  \n",
    "Estas probabilidades dependen de características observadas como la edad, el sexo y el IMC.  \n",
    "Ejemplo: un niño de 13 años podría tener:  \n",
    "- 10% Tanner II  \n",
    "- 40% Tanner III  \n",
    "- 50% Tanner IV  \n",
    "\n",
    "#### 2. Distribuciones por estadio\n",
    "Cada estadio Tanner tiene su propia **distribución de talla esperada**.  \n",
    "- Tanner I: estaturas más bajas.  \n",
    "- Tanner V: estaturas más altas.  \n",
    "- Los estadios intermedios representan el crecimiento acelerado del estirón puberal.  \n",
    "\n",
    "De esta forma, si un niño está en Tanner III, se espera que su talla se distribuya alrededor de un valor típico para ese estadio, con cierta variabilidad natural.\n",
    "\n",
    "#### 3. Mezcla probabilística\n",
    "Como no sabemos en qué estadio se encuentra exactamente cada niño, el modelo combina todas las distribuciones ponderadas por las probabilidades:  \n",
    "\n",
    "**Prob(talla) = Prob(Tanner I)·Distribución I + Prob(Tanner II)·Distribución II + ... + Prob(Tanner V)·Distribución V**\n",
    "\n",
    "Esto refleja que la talla observada no proviene de una única categoría fija, sino de una mezcla que captura la **incertidumbre** del estado puberal.\n",
    "\n",
    "#### 4. Interpretación\n",
    "- Las **probabilidades** responden a: “¿Qué tan probable es que este niño esté en cada estadio Tanner?”.  \n",
    "- Las **distribuciones por estadio** responden a: “Si el niño estuviera en este estadio, ¿cuál sería la talla típica?”.  \n",
    "- La **mezcla final** responde a: “Dada su edad y características, ¿cómo se distribuye la talla observada?”.  \n",
    "\n",
    "#### Ventajas\n",
    "- No fuerza a clasificar en un único estadio.  \n",
    "- Captura la incertidumbre en edades de transición.  \n",
    "- Representa mejor la heterogeneidad real del crecimiento que un modelo lineal simple.  \n",
    "- Permite aproximar el Tanner aunque no haya mediciones clínicas directas.\n"
   ]
  },
  {
   "cell_type": "markdown",
   "id": "c9358ca4",
   "metadata": {},
   "source": [
    "---"
   ]
  },
  {
   "cell_type": "markdown",
   "id": "88a2636c",
   "metadata": {},
   "source": [
    "## Sandbox"
   ]
  },
  {
   "cell_type": "code",
   "execution_count": 14,
   "id": "1a8dce2e",
   "metadata": {},
   "outputs": [
    {
     "data": {
      "text/plain": [
       "['folio',\n",
       " 'intp',\n",
       " 'entidad',\n",
       " 'municipio',\n",
       " 'localidad',\n",
       " 'sexo',\n",
       " 'edad_meses',\n",
       " 'edad_anios',\n",
       " 'peso_kg',\n",
       " 'talla_cm',\n",
       " 'zscore_imc_para_edad',\n",
       " 'clasificacion_imc',\n",
       " 'ponderador',\n",
       " 'region',\n",
       " 'id_persona',\n",
       " 'num_integrante',\n",
       " 'edad_dias',\n",
       " 'fecha_nacimiento',\n",
       " 'fecha_visita',\n",
       " 'altitud_localidad',\n",
       " 'code_upm',\n",
       " 'estrato_diseño',\n",
       " 'estrato_urbanidad',\n",
       " 'estrato_marginalidad',\n",
       " 'estrato_varianza',\n",
       " 'area_urbana_rural',\n",
       " 'region_geo',\n",
       " 'ageb',\n",
       " 'indice_socioeconomico',\n",
       " 'afiliacion_salud',\n",
       " 'nivel_socioecon_decil',\n",
       " 'nivel_socioecon_quintil',\n",
       " 'nivel_socioecon_tercil',\n",
       " 'ponderador_muestra',\n",
       " 'tipo_hemocue',\n",
       " 'hemoglobina_g_dl',\n",
       " 'hemoglobina_ajustada_g_dl',\n",
       " 'anemia',\n",
       " 'folio_consecutivo',\n",
       " 'munici',\n",
       " 'locali',\n",
       " 'edad',\n",
       " 'dia_nac',\n",
       " 'mes_nac',\n",
       " 'anio_nac',\n",
       " 'est_urb',\n",
       " 'est_marg',\n",
       " 'pondef',\n",
       " 'folio_vivienda',\n",
       " 'meses',\n",
       " 'afilia_1ra',\n",
       " 'afilia_tras',\n",
       " 'pondei',\n",
       " 'deciles',\n",
       " 'pondeh',\n",
       " 'grupo_edad',\n",
       " 'imc',\n",
       " 'edad_anios_calc']"
      ]
     },
     "execution_count": 14,
     "metadata": {},
     "output_type": "execute_result"
    }
   ],
   "source": [
    "df.columns.tolist()"
   ]
  },
  {
   "cell_type": "markdown",
   "id": "433cd0b3",
   "metadata": {},
   "source": [
    "### Explicaciones del modelo jerárquico bayesiano con splines y mejoras\n",
    "\n",
    "### 1) Uso de splines para la edad\n",
    "Una recta simple asume que la relación entre edad y talla es constante en todo el rango de edades. En el crecimiento infantil, especialmente entre los 8 y 18 años, esto no es cierto debido al “growth spurt” o estirón puberal, donde la velocidad de crecimiento cambia rápidamente.  \n",
    "Los splines, en particular los B-splines cúbicos, dividen la edad en tramos conectados suavemente. Esto permite que la curva se adapte a aceleraciones y desaceleraciones en el crecimiento sin imponer una forma rígida. Además, controlando el número de tramos, se evita sobreajuste y se mantiene la suavidad.\n",
    "\n",
    "---\n",
    "\n",
    "### 2) Pendiente aleatoria de edad por municipio\n",
    "Si solo incluimos interceptos aleatorios, cada municipio tendrá un nivel medio distinto de talla, pero se asumirá la misma relación con la edad.  \n",
    "Permitir pendientes aleatorias significa que la velocidad de crecimiento puede variar entre municipios. Esto refleja diferencias geográficas y contextuales, haciendo el modelo más realista y flexible.\n",
    "\n",
    "---\n",
    "\n",
    "### 3) Student-t en vez de Normal\n",
    "La distribución Normal, usada como verosimilitud, es sensible a valores atípicos. En datos reales de talla pueden existir mediciones erróneas o casos extremos.  \n",
    "La distribución Student-t tiene colas más pesadas, lo que reduce el impacto de los outliers. Si los datos no presentan valores extremos, el modelo ajustará automáticamente los grados de libertad y se parecerá a la Normal.\n",
    "\n",
    "---\n",
    "\n",
    "### 4) Centrados de variables\n",
    "Centrar la edad significa restarle su media para que el cero de la variable corresponda a la edad promedio de la muestra. Esto facilita la interpretación del intercepto como la talla media a la edad media y mejora la eficiencia del muestreo MCMC.  \n",
    "Podemos centrar otras variables si fuera necesario, pero en este caso mantener el sexo como binario 0/1 hace que la interpretación de su coeficiente sea más directa.\n",
    "\n",
    "---\n",
    "\n",
    "### 5) Interacción entre edad y sexo\n",
    "Aunque los splines capturan la forma general del crecimiento, niños y niñas no siguen el mismo patrón: el estirón suele ocurrir antes en las niñas y durar más en los niños.  \n",
    "Agregar un término de interacción entre edad y sexo permite que el modelo capture diferencias globales en la pendiente de crecimiento entre ambos sexos, manteniendo la parte curva compartida.\n",
    "\n",
    "---\n",
    "\n",
    "### 6) Evaluación con prior predictive y posterior predictive\n",
    "El prior predictive consiste en simular datos solo con las distribuciones a priori, sin usar datos reales, para verificar que las suposiciones iniciales producen valores plausibles.  \n",
    "El posterior predictive simula datos a partir de los parámetros ajustados, para evaluar si el modelo reproduce bien los patrones observados. Estas comprobaciones son fundamentales para validar que el modelo es coherente y útil.\n",
    "\n",
    "---\n",
    "\n",
    "### 7) LOO/WAIC para comparar variantes\n",
    "Cuando se tengan diferentes versiones del modelo (por ejemplo, con y sin interacción, con más o menos nodos spline), se puede usar LOO (Leave-One-Out cross-validation) o WAIC (Widely Applicable Information Criterion) para comparar su ajuste y capacidad predictiva.  \n",
    "Estos criterios penalizan la complejidad innecesaria y ayudan a elegir el modelo más parsimonioso que mantenga buen rendimiento.\n",
    "\n",
    "---\n",
    "\n",
    "### 8) Comparación con curvas CDC\n",
    "Se pueden calcular percentiles como el P50 (mediana) y otros por sexo y edad, y compararlos con las curvas de referencia del CDC para identificar sesgos sistemáticos (por ejemplo, diferencias en el nivel o en la forma de la curva).\n",
    "\n",
    "---\n",
    "\n",
    "### 9) Proxy para estadio puberal de Tanner ML, Modelos Latentes Probabilísticos u otro (TBD)\n"
   ]
  },
  {
   "cell_type": "markdown",
   "id": "34f764c4",
   "metadata": {},
   "source": [
    "---"
   ]
  }
 ],
 "metadata": {
  "kernelspec": {
   "display_name": "pymc_env",
   "language": "python",
   "name": "python3"
  },
  "language_info": {
   "codemirror_mode": {
    "name": "ipython",
    "version": 3
   },
   "file_extension": ".py",
   "mimetype": "text/x-python",
   "name": "python",
   "nbconvert_exporter": "python",
   "pygments_lexer": "ipython3",
   "version": "3.10.18"
  }
 },
 "nbformat": 4,
 "nbformat_minor": 5
}
