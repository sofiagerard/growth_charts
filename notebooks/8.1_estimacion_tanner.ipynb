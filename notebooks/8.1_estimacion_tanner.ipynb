{
 "cells": [
  {
   "cell_type": "markdown",
   "id": "816a594d",
   "metadata": {},
   "source": [
    "# Estimación del estadio puberal de Tanner para añadir al M5 y afinarlo "
   ]
  },
  {
   "cell_type": "code",
   "execution_count": 1,
   "id": "d32c3658",
   "metadata": {},
   "outputs": [],
   "source": [
    "import pandas as pd\n",
    "import pymc as pm\n",
    "import arviz as az\n",
    "import numpy as np\n",
    "import matplotlib.pyplot as plt\n",
    "import seaborn as sns\n",
    "import warnings\n",
    "import pytensor  \n",
    "from patsy import dmatrix\n"
   ]
  },
  {
   "cell_type": "code",
   "execution_count": 2,
   "id": "8486ee3d",
   "metadata": {},
   "outputs": [],
   "source": [
    "# read data\n",
    "df = pd.read_csv(\"../data/clean/clean2_final_nutricion_salud.csv\")"
   ]
  },
  {
   "cell_type": "markdown",
   "id": "70197edd",
   "metadata": {},
   "source": [
    "---"
   ]
  },
  {
   "cell_type": "code",
   "execution_count": 3,
   "id": "bb5ebda3",
   "metadata": {},
   "outputs": [
    {
     "name": "stdout",
     "output_type": "stream",
     "text": [
      "<class 'pandas.core.frame.DataFrame'>\n",
      "Index: 25355 entries, 100001_3 to 70336_4\n",
      "Data columns (total 5 columns):\n",
      " #   Column           Non-Null Count  Dtype  \n",
      "---  ------           --------------  -----  \n",
      " 0   talla_cm         25355 non-null  float64\n",
      " 1   edad_anios_calc  25355 non-null  float64\n",
      " 2   sexo             25355 non-null  int64  \n",
      " 3   peso_kg          25355 non-null  float64\n",
      " 4   municipio        25355 non-null  float64\n",
      "dtypes: float64(4), int64(1)\n",
      "memory usage: 1.2+ MB\n"
     ]
    },
    {
     "data": {
      "text/plain": [
       "177"
      ]
     },
     "execution_count": 3,
     "metadata": {},
     "output_type": "execute_result"
    }
   ],
   "source": [
    "# Filtramos observaciones con datos completos de talla, edad y sexo\n",
    "df_model = df[[\"talla_cm\", \"edad_anios_calc\", \"sexo\", \"peso_kg\", \"municipio\", \"id_persona\"]].dropna()\n",
    "\n",
    "# Establecemos 'id_persona' como índice del DataFrame\n",
    "df_model = df_model.set_index(\"id_persona\")\n",
    "\n",
    "# Codificamos correctamente sexo \n",
    "# Recodeamos sexo: 0 = mujer, 1 = hombre\n",
    "df_model[\"sexo\"] = df_model[\"sexo\"].map({2: 0, 1: 1})\n",
    "\n",
    "# Confirmamos los tipos de variables y que no haya NAs\n",
    "df_model.info()\n",
    "df_model.describe()\n",
    "df_model[\"sexo\"].value_counts()\n",
    "df_model[\"municipio\"].nunique()"
   ]
  },
  {
   "cell_type": "code",
   "execution_count": 4,
   "id": "4d04ce6e",
   "metadata": {},
   "outputs": [
    {
     "data": {
      "application/vnd.microsoft.datawrangler.viewer.v0+json": {
       "columns": [
        {
         "name": "id_persona",
         "rawType": "object",
         "type": "string"
        },
        {
         "name": "municipio",
         "rawType": "float64",
         "type": "float"
        },
        {
         "name": "municipio_idx",
         "rawType": "int16",
         "type": "integer"
        }
       ],
       "ref": "e411d041-6f72-4fac-ba50-0a455952c619",
       "rows": [
        [
         "100001_3",
         "1.0",
         "0"
        ],
        [
         "11276_3",
         "2.0",
         "1"
        ],
        [
         "110044_5",
         "3.0",
         "2"
        ],
        [
         "100075_5",
         "4.0",
         "3"
        ],
        [
         "100121_6",
         "5.0",
         "4"
        ]
       ],
       "shape": {
        "columns": 2,
        "rows": 5
       }
      },
      "text/html": [
       "<div>\n",
       "<style scoped>\n",
       "    .dataframe tbody tr th:only-of-type {\n",
       "        vertical-align: middle;\n",
       "    }\n",
       "\n",
       "    .dataframe tbody tr th {\n",
       "        vertical-align: top;\n",
       "    }\n",
       "\n",
       "    .dataframe thead th {\n",
       "        text-align: right;\n",
       "    }\n",
       "</style>\n",
       "<table border=\"1\" class=\"dataframe\">\n",
       "  <thead>\n",
       "    <tr style=\"text-align: right;\">\n",
       "      <th></th>\n",
       "      <th>municipio</th>\n",
       "      <th>municipio_idx</th>\n",
       "    </tr>\n",
       "    <tr>\n",
       "      <th>id_persona</th>\n",
       "      <th></th>\n",
       "      <th></th>\n",
       "    </tr>\n",
       "  </thead>\n",
       "  <tbody>\n",
       "    <tr>\n",
       "      <th>100001_3</th>\n",
       "      <td>1.0</td>\n",
       "      <td>0</td>\n",
       "    </tr>\n",
       "    <tr>\n",
       "      <th>11276_3</th>\n",
       "      <td>2.0</td>\n",
       "      <td>1</td>\n",
       "    </tr>\n",
       "    <tr>\n",
       "      <th>110044_5</th>\n",
       "      <td>3.0</td>\n",
       "      <td>2</td>\n",
       "    </tr>\n",
       "    <tr>\n",
       "      <th>100075_5</th>\n",
       "      <td>4.0</td>\n",
       "      <td>3</td>\n",
       "    </tr>\n",
       "    <tr>\n",
       "      <th>100121_6</th>\n",
       "      <td>5.0</td>\n",
       "      <td>4</td>\n",
       "    </tr>\n",
       "  </tbody>\n",
       "</table>\n",
       "</div>"
      ],
      "text/plain": [
       "            municipio  municipio_idx\n",
       "id_persona                          \n",
       "100001_3          1.0              0\n",
       "11276_3           2.0              1\n",
       "110044_5          3.0              2\n",
       "100075_5          4.0              3\n",
       "100121_6          5.0              4"
      ]
     },
     "execution_count": 4,
     "metadata": {},
     "output_type": "execute_result"
    }
   ],
   "source": [
    "# Codificamos cada municipio con un índice entero único (de 0 a n_grupos - 1)\n",
    "df_model[\"municipio_idx\"] = pd.Categorical(df_model[\"municipio\"]).codes\n",
    "\n",
    "# Verificamos que se creó correctamente\n",
    "df_model[[\"municipio\", \"municipio_idx\"]].drop_duplicates().sort_values(\"municipio_idx\").head()\n"
   ]
  },
  {
   "cell_type": "markdown",
   "id": "b154e341",
   "metadata": {},
   "source": [
    "---"
   ]
  },
  {
   "cell_type": "code",
   "execution_count": 5,
   "id": "1b097422",
   "metadata": {},
   "outputs": [
    {
     "name": "stdout",
     "output_type": "stream",
     "text": [
      "Edad media en la muestra: 6.266 años\n"
     ]
    },
    {
     "data": {
      "application/vnd.microsoft.datawrangler.viewer.v0+json": {
       "columns": [
        {
         "name": "id_persona",
         "rawType": "object",
         "type": "string"
        },
        {
         "name": "edad_anios_calc",
         "rawType": "float64",
         "type": "float"
        },
        {
         "name": "edad_c",
         "rawType": "float64",
         "type": "float"
        }
       ],
       "ref": "1c909e6a-cf57-4d8a-846c-61a376af16c8",
       "rows": [
        [
         "100001_3",
         "8.695414091666667",
         "2.429254067877473"
        ],
        [
         "100006_6",
         "11.211498966666667",
         "4.945338942877473"
        ],
        [
         "100008_10",
         "7.561943866666667",
         "1.2957838428774728"
        ],
        [
         "100009_3",
         "6.27789185",
         "0.011731826210805707"
        ],
        [
         "100010_7",
         "8.145106091666667",
         "1.8789460678774734"
        ]
       ],
       "shape": {
        "columns": 2,
        "rows": 5
       }
      },
      "text/html": [
       "<div>\n",
       "<style scoped>\n",
       "    .dataframe tbody tr th:only-of-type {\n",
       "        vertical-align: middle;\n",
       "    }\n",
       "\n",
       "    .dataframe tbody tr th {\n",
       "        vertical-align: top;\n",
       "    }\n",
       "\n",
       "    .dataframe thead th {\n",
       "        text-align: right;\n",
       "    }\n",
       "</style>\n",
       "<table border=\"1\" class=\"dataframe\">\n",
       "  <thead>\n",
       "    <tr style=\"text-align: right;\">\n",
       "      <th></th>\n",
       "      <th>edad_anios_calc</th>\n",
       "      <th>edad_c</th>\n",
       "    </tr>\n",
       "    <tr>\n",
       "      <th>id_persona</th>\n",
       "      <th></th>\n",
       "      <th></th>\n",
       "    </tr>\n",
       "  </thead>\n",
       "  <tbody>\n",
       "    <tr>\n",
       "      <th>100001_3</th>\n",
       "      <td>8.695414</td>\n",
       "      <td>2.429254</td>\n",
       "    </tr>\n",
       "    <tr>\n",
       "      <th>100006_6</th>\n",
       "      <td>11.211499</td>\n",
       "      <td>4.945339</td>\n",
       "    </tr>\n",
       "    <tr>\n",
       "      <th>100008_10</th>\n",
       "      <td>7.561944</td>\n",
       "      <td>1.295784</td>\n",
       "    </tr>\n",
       "    <tr>\n",
       "      <th>100009_3</th>\n",
       "      <td>6.277892</td>\n",
       "      <td>0.011732</td>\n",
       "    </tr>\n",
       "    <tr>\n",
       "      <th>100010_7</th>\n",
       "      <td>8.145106</td>\n",
       "      <td>1.878946</td>\n",
       "    </tr>\n",
       "  </tbody>\n",
       "</table>\n",
       "</div>"
      ],
      "text/plain": [
       "            edad_anios_calc    edad_c\n",
       "id_persona                           \n",
       "100001_3           8.695414  2.429254\n",
       "100006_6          11.211499  4.945339\n",
       "100008_10          7.561944  1.295784\n",
       "100009_3           6.277892  0.011732\n",
       "100010_7           8.145106  1.878946"
      ]
     },
     "execution_count": 5,
     "metadata": {},
     "output_type": "execute_result"
    }
   ],
   "source": [
    "# Centrar la edad y guardar la media: \n",
    "# Esto ayuda a que el intercepto sea interpretable (talla promedio en la edad media) y mejora la estabilidad numérica del muestreo.\n",
    "edad_mean = df_model[\"edad_anios_calc\"].mean()\n",
    "df_model[\"edad_c\"] = df_model[\"edad_anios_calc\"] - edad_mean\n",
    "\n",
    "print(f\"Edad media en la muestra: {edad_mean:.3f} años\")\n",
    "df_model[[\"edad_anios_calc\", \"edad_c\"]].head()\n"
   ]
  },
  {
   "cell_type": "markdown",
   "id": "d5710ac8",
   "metadata": {},
   "source": [
    "---"
   ]
  },
  {
   "cell_type": "markdown",
   "id": "0de7938b",
   "metadata": {},
   "source": [
    "## Splines"
   ]
  },
  {
   "cell_type": "code",
   "execution_count": 6,
   "id": "6d273830",
   "metadata": {},
   "outputs": [
    {
     "name": "stdout",
     "output_type": "stream",
     "text": [
      "X_s shape: (25355, 5)\n"
     ]
    }
   ],
   "source": [
    "# Construcción de B-splines cúbicos para la edad\n",
    "# (A) Hiperparámetro de flexibilidad\n",
    "df_spline = 5        # Empezamos con 5; luego probamos 6 o 7 si hace falta.\n",
    "\n",
    "# (B) Matriz de B-splines cúbicos de la edad (sin intercepto)\n",
    "X_spline = dmatrix(\n",
    "    \"bs(edad, df=df_spline, degree=3, include_intercept=False) - 1\",\n",
    "    {\"edad\": df_model[\"edad_anios_calc\"].values},\n",
    "    return_type=\"dataframe\"\n",
    ")\n",
    "\n",
    "# (C) A NumPy para PyMC\n",
    "X_s = X_spline.to_numpy()\n",
    "\n",
    "# (D) Chequeo rápido\n",
    "n_obs, n_s = X_s.shape\n",
    "print(\"X_s shape:\", X_s.shape)   # (n_obs, n_bases)\n"
   ]
  },
  {
   "cell_type": "code",
   "execution_count": 7,
   "id": "bf861c57",
   "metadata": {},
   "outputs": [
    {
     "name": "stdout",
     "output_type": "stream",
     "text": [
      "n_obs=25355 | n_s(bases)=5 | n_muni=177\n"
     ]
    }
   ],
   "source": [
    "# Variable objetivo y predictores “clásicos”\n",
    "y        = df_model[\"talla_cm\"].to_numpy()\n",
    "sexo     = df_model[\"sexo\"].to_numpy().astype(int)  # 0 = mujer, 1 = hombre\n",
    "\n",
    "# Edad centrada (importante para estabilidad y para interpretar el intercepto)\n",
    "edad_c   = (df_model[\"edad_anios_calc\"] - df_model[\"edad_anios_calc\"].mean()).to_numpy()\n",
    "\n",
    "# Índice entero de municipio por observación (0..n_muni-1)\n",
    "muni_idx = df_model[\"municipio_idx\"].to_numpy().astype(int)\n",
    "\n",
    "# Tamaños\n",
    "n_obs_chk = y.shape[0]\n",
    "n_muni    = int(muni_idx.max()) + 1\n",
    "\n",
    "# Chequeos\n",
    "assert X_s.shape[0] == n_obs_chk, \"X_s debe tener tantas filas como observaciones.\"\n",
    "print(f\"n_obs={n_obs_chk} | n_s(bases)={n_s} | n_muni={n_muni}\")\n"
   ]
  },
  {
   "cell_type": "markdown",
   "id": "257e0591",
   "metadata": {},
   "source": [
    "---"
   ]
  },
  {
   "cell_type": "markdown",
   "id": "38f0da33",
   "metadata": {},
   "source": [
    "## Estimación estadio puberal Tanner con modelos latentes probabilísticos (LVPM)"
   ]
  },
  {
   "cell_type": "markdown",
   "id": "ccb5bed1",
   "metadata": {},
   "source": [
    "Qué son los estadios Tanner?\n",
    "\n",
    "Se usan clínicamente para evaluar el desarrollo físico en la pubertad, con 5 fases (Tanner 1 a 5), basadas en características sexuales secundarias: desarrollo mamario/genital y vello púbico. Son el “estándar de oro” en pediatría"
   ]
  },
  {
   "cell_type": "markdown",
   "id": "665439be",
   "metadata": {},
   "source": [
    "### Teoría: Modelos latentes probabilísticos aplicados a Tanner\n",
    "\n",
    "Un modelo latente parte de la idea de que, además de las variables que observamos (edad, sexo, talla, IMC), existe una **variable oculta** que no se mide directamente pero que explica parte del patrón en los datos.  \n",
    "En el contexto de crecimiento infantil, esa variable oculta corresponde al **estadio puberal de Tanner (I–V)**.\n",
    "\n",
    "1. Probabilidades de estadio\n",
    "El modelo no asigna a cada niño un estadio fijo, sino que estima **probabilidades** para cada uno de los cinco estadios.  \n",
    "Estas probabilidades dependen de características observadas como la edad, el sexo y el IMC.  \n",
    "Ejemplo: un niño de 13 años podría tener:  \n",
    "- 10% Tanner II  \n",
    "- 40% Tanner III  \n",
    "- 50% Tanner IV  \n",
    "\n",
    "2. Distribuciones por estadio\n",
    "Cada estadio Tanner tiene su propia **distribución de talla esperada**.  \n",
    "- Tanner I: estaturas más bajas.  \n",
    "- Tanner V: estaturas más altas.  \n",
    "- Los estadios intermedios representan el crecimiento acelerado del estirón puberal.  \n",
    "\n",
    "De esta forma, si un niño está en Tanner III, se espera que su talla se distribuya alrededor de un valor típico para ese estadio, con cierta variabilidad natural.\n",
    "\n",
    "3. Mezcla probabilística\n",
    "Como no sabemos en qué estadio se encuentra exactamente cada niño, el modelo combina todas las distribuciones ponderadas por las probabilidades:  \n",
    "\n",
    "**Prob(talla) = Prob(Tanner I)·Distribución I + Prob(Tanner II)·Distribución II + ... + Prob(Tanner V)·Distribución V**\n",
    "\n",
    "Esto refleja que la talla observada no proviene de una única categoría fija, sino de una mezcla que captura la **incertidumbre** del estado puberal.\n",
    "\n",
    "4. Interpretación\n",
    "- Las **probabilidades** responden a: “¿Qué tan probable es que este niño esté en cada estadio Tanner?”.  \n",
    "- Las **distribuciones por estadio** responden a: “Si el niño estuviera en este estadio, ¿cuál sería la talla típica?”.  \n",
    "- La **mezcla final** responde a: “Dada su edad y características, ¿cómo se distribuye la talla observada?”.  \n",
    "\n",
    "5. Ventajas\n",
    "- No fuerza a clasificar en un único estadio.  \n",
    "- Captura la incertidumbre en edades de transición.  \n",
    "- Representa mejor la heterogeneidad real del crecimiento que un modelo lineal simple.  \n",
    "- Permite aproximar el Tanner aunque no haya mediciones clínicas directas.\n"
   ]
  },
  {
   "cell_type": "markdown",
   "id": "30771fb9",
   "metadata": {},
   "source": [
    "---"
   ]
  },
  {
   "cell_type": "markdown",
   "id": "d61338be",
   "metadata": {},
   "source": [
    " **Añadir una variable latente puberal al M5 primero con 2 estados: PRE y POST**"
   ]
  },
  {
   "cell_type": "code",
   "execution_count": 8,
   "id": "2049625a",
   "metadata": {},
   "outputs": [
    {
     "name": "stdout",
     "output_type": "stream",
     "text": [
      "n_obs=25355 | n_s=5 | n_muni=177\n"
     ]
    },
    {
     "name": "stderr",
     "output_type": "stream",
     "text": [
      "/var/folders/8v/p9jmdytd6y36kdsq55l4_cqw0000gn/T/ipykernel_53269/758676489.py:4: RuntimeWarning: invalid value encountered in cast\n",
      "  sexo     = df_model[\"sexo\"].map({2:0, 1:1}).to_numpy().astype(int)  # 0=mujer, 1=hombre\n"
     ]
    }
   ],
   "source": [
    "# --- Preparación mínima (solo si no está corrido arriba) ---\n",
    "\n",
    "y        = df_model[\"talla_cm\"].to_numpy()\n",
    "sexo     = df_model[\"sexo\"].map({2:0, 1:1}).to_numpy().astype(int)  # 0=mujer, 1=hombre\n",
    "edad     = df_model[\"edad_anios_calc\"].to_numpy()\n",
    "edad_c   = edad - edad.mean()\n",
    "edad_cs  = edad_c / (edad_c.std() + 1e-8)\n",
    "\n",
    "muni_idx = pd.Categorical(df_model[\"municipio\"]).codes.astype(int)\n",
    "n_muni   = int(muni_idx.max()) + 1\n",
    "\n",
    "# X_s: tu matriz de splines tiene que ser array float\n",
    "X_s = X_s.astype(float)\n",
    "\n",
    "# Chequeos de tamaño\n",
    "n_obs = y.shape[0]\n",
    "n_s   = X_s.shape[1]\n",
    "assert X_s.shape[0] == n_obs, \"X_s debe tener tantas filas como observaciones.\"\n",
    "assert sexo.shape[0] == n_obs and edad_cs.shape[0] == n_obs and muni_idx.shape[0] == n_obs, \"Vectores mal alineados.\"\n",
    "\n",
    "print(f\"n_obs={n_obs} | n_s={n_s} | n_muni={n_muni}\")\n"
   ]
  },
  {
   "cell_type": "markdown",
   "id": "24d86052",
   "metadata": {},
   "source": [
    "Para cada observación, el modelo calcula una probabilidad de POST: p_post (entre 0 y 1).\n",
    "\n",
    "p_post se modela con una logística que aumenta con la edad (y puede depender de sexo).\n",
    "\n",
    "Parámetros:\n",
    "\n",
    "g0: intercepto (prob POST en la edad media).\n",
    "\n",
    "g_ed: cuánto sube la prob POST cuando la edad sube 1 desviación estándar.\n",
    "\n",
    "g_sx: cambio de prob POST por ser hombre (opcional).\n",
    "\n",
    "La talla no “elige” PRE o POST; en cambio, se modela como mezcla:\n",
    "\n",
    "Componente PRE: media = mu_base + delta_pre\n",
    "\n",
    "Componente POST: media = mu_base + delta_post\n",
    "\n",
    "Para que los dos “ajustes” sean identificables, les imponemos suma cero:\n",
    "delta_pre + delta_post = 0.\n",
    "Así, si delta_post > 0 ⇒ POST está por encima de la base; PRE, por debajo."
   ]
  },
  {
   "cell_type": "markdown",
   "id": "1f230d30",
   "metadata": {},
   "source": [
    "# Muestreo estratificado"
   ]
  },
  {
   "cell_type": "markdown",
   "id": "2d4c0c19",
   "metadata": {},
   "source": [
    "Tarda 12+ horas en correr, vamos a trabajar con una muestra hasta tener el modelo. \n",
    "Necesitamos hacer muestreo estratificado para no tener datos desbalanceados --> muestrear por estratos y proporcional al tamaño de los grupos"
   ]
  },
  {
   "cell_type": "code",
   "execution_count": 9,
   "id": "7c51fba6",
   "metadata": {},
   "outputs": [
    {
     "name": "stdout",
     "output_type": "stream",
     "text": [
      "Filas disponibles: 25355\n"
     ]
    }
   ],
   "source": [
    "# Asegura sexo binario 0/1\n",
    "if set(df_model[\"sexo\"].unique()) - {0,1}:\n",
    "    df_model = df_model.copy()\n",
    "    df_model[\"sexo\"] = df_model[\"sexo\"].map({2:0, 1:1})\n",
    "\n",
    "# Mantén solo columnas clave y sin NA\n",
    "cols_req = [\"talla_cm\", \"edad_anios_calc\", \"sexo\", \"municipio\"]\n",
    "df_base = df_model[cols_req].dropna().copy()\n",
    "\n",
    "print(\"Filas disponibles:\", len(df_base))\n",
    "assert set(df_base[\"sexo\"].unique()) <= {0,1}, \"Columna 'sexo' debe ser 0/1.\"\n"
   ]
  },
  {
   "cell_type": "code",
   "execution_count": 10,
   "id": "893fee4a",
   "metadata": {},
   "outputs": [
    {
     "name": "stdout",
     "output_type": "stream",
     "text": [
      "Distribución original por estrato (sexo x edad_bin):\n",
      "sexo         0     1\n",
      "edad_bin            \n",
      "(-inf,5]  4676  4788\n",
      "(5,7]     2310  2268\n",
      "(7,9]     2455  2468\n",
      "(9,11]    2183  2273\n",
      "(11,13]    961   973\n"
     ]
    }
   ],
   "source": [
    "# 1) Bins sin vacíos (hasta 13 años)\n",
    "age_bins   = [-np.inf, 5, 7, 9, 11, 13]\n",
    "age_labels = [f\"({age_bins[i]},{age_bins[i+1]}]\" for i in range(len(age_bins)-1)]\n",
    "\n",
    "df_b = df_model[[\"talla_cm\",\"edad_anios_calc\",\"sexo\",\"municipio\"]].dropna().copy()\n",
    "if set(df_b[\"sexo\"].unique()) - {0,1}:\n",
    "    df_b[\"sexo\"] = df_b[\"sexo\"].map({2:0, 1:1})\n",
    "\n",
    "df_b[\"edad_bin\"] = pd.cut(df_b[\"edad_anios_calc\"], bins=age_bins, labels=age_labels, include_lowest=True)\n",
    "\n",
    "# 2) Distribución original \n",
    "dist_orig = (df_b\n",
    "    .groupby([\"sexo\",\"edad_bin\"], observed=True)\n",
    "    .size().rename(\"n\").reset_index())\n",
    "\n",
    "print(\"Distribución original por estrato (sexo x edad_bin):\")\n",
    "print(dist_orig.pivot(index=\"edad_bin\", columns=\"sexo\", values=\"n\").fillna(0))\n"
   ]
  },
  {
   "cell_type": "code",
   "execution_count": 11,
   "id": "4d3d1acc",
   "metadata": {},
   "outputs": [
    {
     "name": "stdout",
     "output_type": "stream",
     "text": [
      "Submuestra final: (6000, 5)\n",
      "sexo  edad_bin\n",
      "0     (-inf,5]    1106\n",
      "      (5,7]        547\n",
      "      (7,9]        581\n",
      "      (9,11]       517\n",
      "      (11,13]      227\n",
      "1     (-inf,5]    1133\n",
      "      (5,7]        537\n",
      "      (7,9]        584\n",
      "      (9,11]       538\n",
      "      (11,13]      230\n",
      "dtype: int64\n"
     ]
    }
   ],
   "source": [
    "# === A. Muestreo estratificado exacto con scikit-learn === explicación de CHAT GPT\n",
    "# Idea: queremos una SUBMUESTRA de tamaño N_SUB que conserve, lo mejor posible,\n",
    "#       las proporciones originales de cada ESTRATO. Un \"estrato\" es una\n",
    "#       combinación de variables (aquí: SEXO × RANGO DE EDAD).\n",
    "\n",
    "from sklearn.model_selection import StratifiedShuffleSplit\n",
    "\n",
    "N_SUB = 6000  # Tamaño deseado de la submuestra (ajustable)\n",
    "\n",
    "# 1) Definimos la \"etiqueta de estrato\" para cada fila.\n",
    "#    • Unimos sexo y el bin de edad en un string, por ejemplo: \"0_(9,11]\" o \"1_(7,9]\"\n",
    "#    • Esto le dice al algoritmo en qué estrato está cada observación.\n",
    "estrato = df_b[\"sexo\"].astype(str) + \"_\" + df_b[\"edad_bin\"].astype(str)\n",
    "\n",
    "# 2) Creamos el \"divisor estratificado\".\n",
    "#    • n_splits=1: queremos una sola partición (no un k-fold).\n",
    "#    • test_size=N_SUB: el TAMAÑO del subconjunto que sacaremos (aquí \"test\" es la submuestra).\n",
    "#    • random_state=42: semilla para que el resultado sea reproducible.\n",
    "sss = StratifiedShuffleSplit(n_splits=1, test_size=N_SUB, random_state=42)\n",
    "\n",
    "# 3) Ejecutamos el split.\n",
    "#    • sss.split(X, y) recibe:\n",
    "#         - X: la tabla completa (no se usa su contenido, solo el tamaño).\n",
    "#         - y: las etiquetas de estrato (aquí 'estrato').\n",
    "#    • Devuelve dos arreglos de índices: (idx_train, idx_test).\n",
    "#      Usaremos idx_test como nuestra SUBMUESTRA, porque le dijimos que \"test_size = N_SUB\".\n",
    "_, idx_sub = next(sss.split(df_b, estrato))\n",
    "\n",
    "# 4) Extraemos la submuestra usando los índices calculados.\n",
    "#    • .iloc[idx_sub] selecciona esas filas.\n",
    "#    • .copy() para tener un DataFrame independiente (evita advertencias de pandas).\n",
    "df_sub = df_b.iloc[idx_sub].copy()\n",
    "\n",
    "# 5) Revisamos tamaño y distribución de la submuestra.\n",
    "#    • Debe salir (N_SUB, n_columnas).\n",
    "#    • La distribución por (sexo × edad_bin) debería ser MUY parecida a la original.\n",
    "print(\"Submuestra final:\", df_sub.shape)\n",
    "\n",
    "# observed=True: usa solo categorías que aparecen (evita warning de pandas).\n",
    "print(df_sub.groupby([\"sexo\",\"edad_bin\"], observed=True).size())\n"
   ]
  },
  {
   "cell_type": "code",
   "execution_count": 12,
   "id": "64af1c93",
   "metadata": {},
   "outputs": [
    {
     "name": "stdout",
     "output_type": "stream",
     "text": [
      "n_obs=6000 | n_muni_sub=177\n",
      "Arrays listos: y_sub, edad_sub, sexo_sub, edad_c_sub, edad_cs_sub, muni_sub\n"
     ]
    }
   ],
   "source": [
    "# ====== A) Reindexar municipios y preparar arrays ======\n",
    "\n",
    "# 1) Reindexar municipios (solo los que aparecen en la SUBMUESTRA)\n",
    "df_sub = df_sub.copy()\n",
    "df_sub[\"municipio_idx_sub\"] = pd.Categorical(df_sub[\"municipio\"]).codes\n",
    "\n",
    "# 2) Arreglos NumPy que usará PyMC\n",
    "y_sub     = df_sub[\"talla_cm\"].to_numpy().astype(float)          # variable objetivo (cm)\n",
    "edad_sub  = df_sub[\"edad_anios_calc\"].to_numpy().astype(float)   # edad (años)\n",
    "sexo_sub  = df_sub[\"sexo\"].to_numpy().astype(int)                # 0 = mujer, 1 = hombre\n",
    "muni_sub  = df_sub[\"municipio_idx_sub\"].to_numpy().astype(int)   # índice municipal 0..J-1\n",
    "\n",
    "# 3) Versiones centrada y estandarizada de la edad\n",
    "#    - edad_c_sub: centrada => intercepto ~ talla a la edad media\n",
    "#    - edad_cs_sub: centrada + estandarizada => estable numéricamente para la compuerta (logística)\n",
    "edad_c_sub  = edad_sub - edad_sub.mean()\n",
    "edad_cs_sub = (edad_c_sub - edad_c_sub.mean()) / edad_c_sub.std()\n",
    "\n",
    "# 4) Chequeos rápidos (defensivos)\n",
    "assert set(np.unique(sexo_sub)).issubset({0,1}), \"Sexo debe ser 0/1.\"\n",
    "n_muni_sub = df_sub[\"municipio_idx_sub\"].nunique()\n",
    "assert muni_sub.min() >= 0 and muni_sub.max() < n_muni_sub, \"municipio_idx_sub fuera de rango.\"\n",
    "\n",
    "print(f\"n_obs={len(y_sub)} | n_muni_sub={n_muni_sub}\")\n",
    "print(\"Arrays listos: y_sub, edad_sub, sexo_sub, edad_c_sub, edad_cs_sub, muni_sub\")\n"
   ]
  },
  {
   "cell_type": "code",
   "execution_count": 13,
   "id": "0cb18e44",
   "metadata": {},
   "outputs": [
    {
     "name": "stdout",
     "output_type": "stream",
     "text": [
      "X_s_sub shape = (6000, 5)\n"
     ]
    }
   ],
   "source": [
    "# ====== B) B-splines cúbicos para edad ======\n",
    "\n",
    "# Grados de libertad (ajústalo: 5 suele ir bien para modo rápido)\n",
    "df_spline = 5\n",
    "\n",
    "# Construcción de la matriz de bases spline sobre la edad OBSERVADA en la submuestra\n",
    "X_spline_sub = dmatrix(\n",
    "    f\"bs(edad, df={df_spline}, degree=3, include_intercept=False) - 1\",\n",
    "    {\"edad\": edad_sub},\n",
    "    return_type=\"dataframe\"\n",
    ")\n",
    "\n",
    "# A NumPy (PyMC espera arrays)\n",
    "X_s_sub = X_spline_sub.to_numpy()\n",
    "\n",
    "# Tamaños para control\n",
    "n_obs_sub, n_s_sub = X_s_sub.shape\n",
    "print(\"X_s_sub shape =\", X_s_sub.shape)    # (n_obs_sub, n_bases)\n",
    "\n",
    "# Chequeo: debe haber una FILA por observación\n",
    "assert n_obs_sub == len(y_sub), \"X_s_sub debe tener n_obs_sub filas (una por observación).\"\n"
   ]
  },
  {
   "cell_type": "markdown",
   "id": "51bd4fc0",
   "metadata": {},
   "source": [
    "# Modelo M6 (M5 + latente PRE/POST) simple y estable"
   ]
  },
  {
   "cell_type": "code",
   "execution_count": null,
   "id": "66b0d6f6",
   "metadata": {},
   "outputs": [
    {
     "name": "stdout",
     "output_type": "stream",
     "text": [
      "OK insumos | n_obs=6000 | n_s=7 | n_muni=177\n"
     ]
    }
   ],
   "source": [
    "\n",
    "# 0.1) Copia de trabajo y codificación de municipio 0..J-1\n",
    "df_sub = df_sub.copy()\n",
    "df_sub[\"municipio_idx_sub\"] = pd.Categorical(df_sub[\"municipio\"]).codes\n",
    "\n",
    "# 0.2) Arrays numpy alineados (mismo orden/longitud)\n",
    "y_sub       = df_sub[\"talla_cm\"].to_numpy().astype(float)\n",
    "sexo_sub    = df_sub[\"sexo\"].to_numpy().astype(int)                     # 0=mujer, 1=hombre\n",
    "muni_sub    = df_sub[\"municipio_idx_sub\"].to_numpy().astype(int)\n",
    "\n",
    "# 0.3) Edad centrada y estandarizada (para compuerta logística)\n",
    "edad_c_sub  = (df_sub[\"edad_anios_calc\"] - df_sub[\"edad_anios_calc\"].mean()).to_numpy()\n",
    "edad_z_su   = (edad_c_sub / df_sub[\"edad_anios_calc\"].std()).astype(float)  # <- USAR ESTE NOMBRE SIEMPRE\n",
    "\n",
    "# 0.4) Matriz de B-splines (curva flexible por edad)\n",
    "#    - df=6 suele ser buen punto de partida; si ondula mucho bajamos a 5; si le falta flexibilidad subimos a 7\n",
    "X_s_sub = dmatrix(\"bs(x, df=6, degree=3, include_intercept=False)\",\n",
    "                  {\"x\": edad_c_sub}, return_type=\"dataframe\").to_numpy().astype(float)\n",
    "\n",
    "# 0.5) Tamaños básicos\n",
    "n_obs_sub  = y_sub.shape[0]\n",
    "n_s_sub    = X_s_sub.shape[1]\n",
    "n_muni_sub = int(df_sub[\"municipio_idx_sub\"].nunique())\n",
    "\n",
    "# 0.6) Chequeos\n",
    "assert n_obs_sub == sexo_sub.shape[0] == edad_z_su.shape[0] == muni_sub.shape[0] == X_s_sub.shape[0]\n",
    "print(f\"OK insumos | n_obs={n_obs_sub} | n_s={n_s_sub} | n_muni={n_muni_sub}\")\n"
   ]
  },
  {
   "cell_type": "code",
   "execution_count": null,
   "id": "3823fd0f",
   "metadata": {},
   "outputs": [
    {
     "name": "stderr",
     "output_type": "stream",
     "text": [
      "Initializing NUTS using jitter+adapt_diag...\n",
      "Sequential sampling (2 chains in 1 job)\n",
      "NUTS: [beta_0, beta_sexo, beta_edad_sex, w_s, sd_a0, z_a0, g0, g_ed, g_sx, delta_raw, nu, sigma_obs]\n"
     ]
    },
    {
     "data": {
      "text/html": [
       "<pre style=\"white-space:pre;overflow-x:auto;line-height:normal;font-family:Menlo,'DejaVu Sans Mono',consolas,'Courier New',monospace\">/opt/anaconda3/envs/pymc_env/lib/python3.10/site-packages/rich/live.py:256: UserWarning: install \"ipywidgets\" for \n",
       "Jupyter support\n",
       "  warnings.warn('install \"ipywidgets\" for Jupyter support')\n",
       "</pre>\n"
      ],
      "text/plain": [
       "/opt/anaconda3/envs/pymc_env/lib/python3.10/site-packages/rich/live.py:256: UserWarning: install \"ipywidgets\" for \n",
       "Jupyter support\n",
       "  warnings.warn('install \"ipywidgets\" for Jupyter support')\n"
      ]
     },
     "metadata": {},
     "output_type": "display_data"
    },
    {
     "data": {
      "text/html": [
       "<pre style=\"white-space:pre;overflow-x:auto;line-height:normal;font-family:Menlo,'DejaVu Sans Mono',consolas,'Courier New',monospace\"></pre>\n"
      ],
      "text/plain": []
     },
     "metadata": {},
     "output_type": "display_data"
    },
    {
     "name": "stderr",
     "output_type": "stream",
     "text": [
      "Sampling 2 chains for 1_000 tune and 800 draw iterations (2_000 + 1_600 draws total) took 302 seconds.\n",
      "We recommend running at least 4 chains for robust computation of convergence diagnostics\n",
      "The rhat statistic is larger than 1.01 for some parameters. This indicates problems during sampling. See https://arxiv.org/abs/1903.08008 for details\n"
     ]
    }
   ],
   "source": [
    "# ===== CHUNK 1: Modelo M6 simple (splines + RE municipio + compuerta PRE/POST) =====\n",
    "\n",
    "with pm.Model() as modelo_m6_sub:\n",
    "    # (1) PRIORS globales (cm)\n",
    "    beta_0        = pm.Normal(\"beta_0\", 125, 10)   # talla promedio a edad media (sexo=0)\n",
    "    beta_sexo     = pm.Normal(\"beta_sexo\", 3, 2)   # diferencia H vs M\n",
    "    beta_edad_sex = pm.Normal(\"beta_edad_sex\", 0, 1)  # interacción lineal suave edad×sexo\n",
    "\n",
    "    # (2) SPLINES (curva de edad) con regularización suave \n",
    "    w_s   = pm.Normal(\"w_s\", 0, 0.5, shape=n_s_sub)     # sd=0.5 → más estable\n",
    "    f_edad = pm.Deterministic(\"f_edad\", pm.math.dot(X_s_sub, w_s))\n",
    "\n",
    "    # (3) EFECTO ALEATORIO por municipio (solo INTERCEPTO, no-centrado) NO TIENE PENDIENTE este modelo \n",
    "    sd_a0 = pm.HalfNormal(\"sd_a0\", 5)\n",
    "    z_a0  = pm.Normal(\"z_a0\", 0, 1, shape=n_muni_sub)\n",
    "    a0    = pm.Deterministic(\"a0\", sd_a0 * z_a0)\n",
    "\n",
    "    # (4) MEDIA base (sin pubertad)\n",
    "    mu_base = (\n",
    "        beta_0\n",
    "      + beta_sexo * sexo_sub\n",
    "      + f_edad\n",
    "      + a0[muni_sub]\n",
    "      + beta_edad_sex * (edad_c_sub * sexo_sub)\n",
    "    )\n",
    "\n",
    "    # (5) COMPUERTA puberal (K=2: PRE/POST) usando edad_z_su (centrada + estandarizada)\n",
    "    g0   = pm.Normal(\"g0\", 0, 2)\n",
    "    g_ed = pm.Normal(\"g_ed\", 1.5, 1)     # esperamos > 0 (prob POST sube con edad)\n",
    "    g_sx = pm.Normal(\"g_sx\", 0, 1)       # puedes fijarlo a 0 si quieres simplificar\n",
    "\n",
    "    logit_post = g0 + g_ed*edad_z_su + g_sx*sexo_sub\n",
    "    p_post     = pm.Deterministic(\"p_post\", pm.math.sigmoid(logit_post))            # (n_obs,)\n",
    "    W          = pm.Deterministic(\"W\", pm.math.stack([1 - p_post, p_post], axis=1)) # (n_obs,2)\n",
    "\n",
    "    # (6) DELTAS con suma-cero (evita duplicar intercepto entre componentes)\n",
    "    delta_raw = pm.Normal(\"delta_raw\", 0, 1.5, shape=2)   # prior algo apretado → más estable\n",
    "    delta     = pm.Deterministic(\"delta\", delta_raw - delta_raw.mean())  # PRE + POST = 0\n",
    "\n",
    "    # Medias por estado (col 0=PRE, col 1=POST)\n",
    "    mu_comp = pm.Deterministic(\n",
    "        \"mu_comp\",\n",
    "        pm.math.stack([mu_base + delta[0], mu_base + delta[1]], axis=1)\n",
    "    )\n",
    "\n",
    "    # (7) LIKELIHOOD robusta: mezcla de 2 Student-t\n",
    "    nu    = pm.Exponential(\"nu\", 1/10)       # g.l. (colas)\n",
    "    sigma = pm.HalfNormal(\"sigma_obs\", 5)    # escala\n",
    "\n",
    "    comp_pre  = pm.StudentT.dist(nu=nu, mu=mu_comp[:, 0], sigma=sigma)\n",
    "    comp_post = pm.StudentT.dist(nu=nu, mu=mu_comp[:, 1], sigma=sigma)\n",
    "\n",
    "    talla_obs = pm.Mixture(\n",
    "        \"talla_obs\",\n",
    "        w=W, comp_dists=[comp_pre, comp_post],\n",
    "        observed=y_sub\n",
    "    )\n",
    "\n",
    "    # (8) MUESTREO (parámetros prudentes y estables)\n",
    "    idata_m6_sub = pm.sample(\n",
    "        draws=800, tune=1000,\n",
    "        chains=2, cores=1,\n",
    "        target_accept=0.98,\n",
    "        init=\"jitter+adapt_diag\",\n",
    "        random_seed=42,\n",
    "        return_inferencedata=True,\n",
    "        idata_kwargs={\"log_likelihood\": True}\n",
    "    )\n"
   ]
  },
  {
   "cell_type": "code",
   "execution_count": null,
   "id": "f15a88eb",
   "metadata": {},
   "outputs": [
    {
     "name": "stderr",
     "output_type": "stream",
     "text": [
      "Sampling: [talla_obs]\n"
     ]
    },
    {
     "data": {
      "text/html": [
       "<pre style=\"white-space:pre;overflow-x:auto;line-height:normal;font-family:Menlo,'DejaVu Sans Mono',consolas,'Courier New',monospace\">/opt/anaconda3/envs/pymc_env/lib/python3.10/site-packages/rich/live.py:256: UserWarning: install \"ipywidgets\" for \n",
       "Jupyter support\n",
       "  warnings.warn('install \"ipywidgets\" for Jupyter support')\n",
       "</pre>\n"
      ],
      "text/plain": [
       "/opt/anaconda3/envs/pymc_env/lib/python3.10/site-packages/rich/live.py:256: UserWarning: install \"ipywidgets\" for \n",
       "Jupyter support\n",
       "  warnings.warn('install \"ipywidgets\" for Jupyter support')\n"
      ]
     },
     "metadata": {},
     "output_type": "display_data"
    },
    {
     "data": {
      "text/html": [
       "<pre style=\"white-space:pre;overflow-x:auto;line-height:normal;font-family:Menlo,'DejaVu Sans Mono',consolas,'Courier New',monospace\"></pre>\n"
      ],
      "text/plain": []
     },
     "metadata": {},
     "output_type": "display_data"
    },
    {
     "name": "stdout",
     "output_type": "stream",
     "text": [
      "Grupos en idata_m6_sub: ['posterior', 'posterior_predictive', 'log_likelihood', 'sample_stats', 'observed_data']\n"
     ]
    }
   ],
   "source": [
    "# ===== CHUNK 2: PPC y anexarlo a idata =====\n",
    "with modelo_m6_sub:\n",
    "    ppc_m6 = pm.sample_posterior_predictive(\n",
    "        idata_m6_sub,               # usa las muestras ya entrenadas\n",
    "        return_inferencedata=True,\n",
    "        random_seed=42\n",
    "    )\n",
    "\n",
    "# Anexar PPC al InferenceData \n",
    "idata_m6_sub.extend(ppc_m6)\n",
    "\n",
    "print(\"Grupos en idata_m6_sub:\", list(idata_m6_sub._groups))\n"
   ]
  },
  {
   "cell_type": "code",
   "execution_count": null,
   "id": "cd7a6493",
   "metadata": {},
   "outputs": [
    {
     "data": {
      "image/png": "[encoded data removed]",
      "text/plain": [
       "<Figure size 700x500 with 1 Axes>"
      ]
     },
     "metadata": {},
     "output_type": "display_data"
    },
    {
     "data": {
      "image/png": "[encoded data removed]",
      "text/plain": [
       "<Figure size 800x600 with 1 Axes>"
      ]
     },
     "metadata": {},
     "output_type": "display_data"
    }
   ],
   "source": [
    "# ===== CHUNK 3: Gráficos PPC =====\n",
    "\n",
    "# 3.1) Overlay KDE observado vs simulado (margen)\n",
    "az.plot_ppc(\n",
    "    idata_m6_sub,\n",
    "    kind=\"kde\",\n",
    "    data_pairs={\"talla_obs\": \"talla_obs\"},\n",
    "    num_pp_samples=100,\n",
    "    figsize=(7,5)\n",
    ")\n",
    "plt.title(\"PPC M6_sub: Observado vs Simulado (margen)\"); plt.show()\n",
    "\n",
    "# 3.2) PPC por edad: nube Observado vs Predicho (media del PPC por observación)\n",
    "y_pred_mean = (\n",
    "    idata_m6_sub.posterior_predictive[\"talla_obs\"]\n",
    "    .stack(draws=(\"chain\",\"draw\")).mean(\"draws\").values\n",
    ")\n",
    "\n",
    "plt.figure(figsize=(8,6))\n",
    "plt.scatter(edad_c_sub, y_sub,       s=6, alpha=0.25, label=\"Observado\")\n",
    "plt.scatter(edad_c_sub, y_pred_mean, s=6, alpha=0.25, label=\"Predicho (media PPC)\")\n",
    "plt.xlabel(\"Edad centrada\"); plt.ylabel(\"Talla (cm)\")\n",
    "plt.title(\"PPC por edad: observado vs predicho (M6_sub)\")\n",
    "plt.legend(); plt.show()\n"
   ]
  },
  {
   "cell_type": "code",
   "execution_count": null,
   "id": "8a13238f",
   "metadata": {},
   "outputs": [
    {
     "data": {
      "application/vnd.microsoft.datawrangler.viewer.v0+json": {
       "columns": [
        {
         "name": "index",
         "rawType": "object",
         "type": "string"
        },
        {
         "name": "mean",
         "rawType": "float64",
         "type": "float"
        },
        {
         "name": "sd",
         "rawType": "float64",
         "type": "float"
        },
        {
         "name": "hdi_3%",
         "rawType": "float64",
         "type": "float"
        },
        {
         "name": "hdi_97%",
         "rawType": "float64",
         "type": "float"
        },
        {
         "name": "mcse_mean",
         "rawType": "float64",
         "type": "float"
        },
        {
         "name": "mcse_sd",
         "rawType": "float64",
         "type": "float"
        },
        {
         "name": "ess_bulk",
         "rawType": "float64",
         "type": "float"
        },
        {
         "name": "ess_tail",
         "rawType": "float64",
         "type": "float"
        },
        {
         "name": "r_hat",
         "rawType": "float64",
         "type": "float"
        }
       ],
       "ref": "48b02555-31e4-4a11-a9f6-7ab204dd5cf4",
       "rows": [
        [
         "sd_a0",
         "0.88",
         "0.29",
         "0.37",
         "1.46",
         "0.02",
         "0.01",
         "234.53",
         "250.52",
         "1.01"
        ],
        [
         "beta_0",
         "108.27",
         "0.63",
         "107.13",
         "109.43",
         "0.02",
         "0.02",
         "1140.52",
         "1058.73",
         "1.0"
        ],
        [
         "nu",
         "11.91",
         "2.41",
         "7.99",
         "16.29",
         "0.07",
         "0.08",
         "1359.43",
         "1015.18",
         "1.0"
        ],
        [
         "w_s[5]",
         "7.07",
         "0.45",
         "6.25",
         "7.87",
         "0.01",
         "0.01",
         "2375.21",
         "1498.44",
         "1.0"
        ],
        [
         "w_s[4]",
         "2.37",
         "0.43",
         "1.57",
         "3.19",
         "0.01",
         "0.01",
         "1361.08",
         "1112.77",
         "1.0"
        ],
        [
         "w_s[3]",
         "1.47",
         "0.48",
         "0.58",
         "2.34",
         "0.01",
         "0.01",
         "1082.82",
         "1288.22",
         "1.0"
        ],
        [
         "w_s[2]",
         "3.63",
         "0.44",
         "2.82",
         "4.51",
         "0.01",
         "0.01",
         "1979.79",
         "1138.19",
         "1.0"
        ],
        [
         "w_s[1]",
         "-8.81",
         "0.5",
         "-9.81",
         "-7.87",
         "0.01",
         "0.01",
         "1449.16",
         "1122.18",
         "1.0"
        ],
        [
         "w_s[0]",
         "-0.04",
         "0.51",
         "-0.94",
         "0.99",
         "0.01",
         "0.01",
         "1780.31",
         "1107.28",
         "1.0"
        ],
        [
         "sigma_obs",
         "8.0",
         "0.15",
         "7.71",
         "8.28",
         "0.0",
         "0.0",
         "1167.41",
         "1112.61",
         "1.0"
        ],
        [
         "beta_sexo",
         "-13.23",
         "0.35",
         "-13.88",
         "-12.56",
         "0.01",
         "0.01",
         "1431.52",
         "1253.7",
         "1.0"
        ],
        [
         "delta[1]",
         "15.8",
         "0.24",
         "15.33",
         "16.24",
         "0.01",
         "0.01",
         "1310.72",
         "1212.23",
         "1.0"
        ]
       ],
       "shape": {
        "columns": 9,
        "rows": 12
       }
      },
      "text/html": [
       "<div>\n",
       "<style scoped>\n",
       "    .dataframe tbody tr th:only-of-type {\n",
       "        vertical-align: middle;\n",
       "    }\n",
       "\n",
       "    .dataframe tbody tr th {\n",
       "        vertical-align: top;\n",
       "    }\n",
       "\n",
       "    .dataframe thead th {\n",
       "        text-align: right;\n",
       "    }\n",
       "</style>\n",
       "<table border=\"1\" class=\"dataframe\">\n",
       "  <thead>\n",
       "    <tr style=\"text-align: right;\">\n",
       "      <th></th>\n",
       "      <th>mean</th>\n",
       "      <th>sd</th>\n",
       "      <th>hdi_3%</th>\n",
       "      <th>hdi_97%</th>\n",
       "      <th>mcse_mean</th>\n",
       "      <th>mcse_sd</th>\n",
       "      <th>ess_bulk</th>\n",
       "      <th>ess_tail</th>\n",
       "      <th>r_hat</th>\n",
       "    </tr>\n",
       "  </thead>\n",
       "  <tbody>\n",
       "    <tr>\n",
       "      <th>sd_a0</th>\n",
       "      <td>0.88</td>\n",
       "      <td>0.29</td>\n",
       "      <td>0.37</td>\n",
       "      <td>1.46</td>\n",
       "      <td>0.02</td>\n",
       "      <td>0.01</td>\n",
       "      <td>234.53</td>\n",
       "      <td>250.52</td>\n",
       "      <td>1.01</td>\n",
       "    </tr>\n",
       "    <tr>\n",
       "      <th>beta_0</th>\n",
       "      <td>108.27</td>\n",
       "      <td>0.63</td>\n",
       "      <td>107.13</td>\n",
       "      <td>109.43</td>\n",
       "      <td>0.02</td>\n",
       "      <td>0.02</td>\n",
       "      <td>1140.52</td>\n",
       "      <td>1058.73</td>\n",
       "      <td>1.00</td>\n",
       "    </tr>\n",
       "    <tr>\n",
       "      <th>nu</th>\n",
       "      <td>11.91</td>\n",
       "      <td>2.41</td>\n",
       "      <td>7.99</td>\n",
       "      <td>16.29</td>\n",
       "      <td>0.07</td>\n",
       "      <td>0.08</td>\n",
       "      <td>1359.43</td>\n",
       "      <td>1015.18</td>\n",
       "      <td>1.00</td>\n",
       "    </tr>\n",
       "    <tr>\n",
       "      <th>w_s[5]</th>\n",
       "      <td>7.07</td>\n",
       "      <td>0.45</td>\n",
       "      <td>6.25</td>\n",
       "      <td>7.87</td>\n",
       "      <td>0.01</td>\n",
       "      <td>0.01</td>\n",
       "      <td>2375.21</td>\n",
       "      <td>1498.44</td>\n",
       "      <td>1.00</td>\n",
       "    </tr>\n",
       "    <tr>\n",
       "      <th>w_s[4]</th>\n",
       "      <td>2.37</td>\n",
       "      <td>0.43</td>\n",
       "      <td>1.57</td>\n",
       "      <td>3.19</td>\n",
       "      <td>0.01</td>\n",
       "      <td>0.01</td>\n",
       "      <td>1361.08</td>\n",
       "      <td>1112.77</td>\n",
       "      <td>1.00</td>\n",
       "    </tr>\n",
       "    <tr>\n",
       "      <th>w_s[3]</th>\n",
       "      <td>1.47</td>\n",
       "      <td>0.48</td>\n",
       "      <td>0.58</td>\n",
       "      <td>2.34</td>\n",
       "      <td>0.01</td>\n",
       "      <td>0.01</td>\n",
       "      <td>1082.82</td>\n",
       "      <td>1288.22</td>\n",
       "      <td>1.00</td>\n",
       "    </tr>\n",
       "    <tr>\n",
       "      <th>w_s[2]</th>\n",
       "      <td>3.63</td>\n",
       "      <td>0.44</td>\n",
       "      <td>2.82</td>\n",
       "      <td>4.51</td>\n",
       "      <td>0.01</td>\n",
       "      <td>0.01</td>\n",
       "      <td>1979.79</td>\n",
       "      <td>1138.19</td>\n",
       "      <td>1.00</td>\n",
       "    </tr>\n",
       "    <tr>\n",
       "      <th>w_s[1]</th>\n",
       "      <td>-8.81</td>\n",
       "      <td>0.50</td>\n",
       "      <td>-9.81</td>\n",
       "      <td>-7.87</td>\n",
       "      <td>0.01</td>\n",
       "      <td>0.01</td>\n",
       "      <td>1449.16</td>\n",
       "      <td>1122.18</td>\n",
       "      <td>1.00</td>\n",
       "    </tr>\n",
       "    <tr>\n",
       "      <th>w_s[0]</th>\n",
       "      <td>-0.04</td>\n",
       "      <td>0.51</td>\n",
       "      <td>-0.94</td>\n",
       "      <td>0.99</td>\n",
       "      <td>0.01</td>\n",
       "      <td>0.01</td>\n",
       "      <td>1780.31</td>\n",
       "      <td>1107.28</td>\n",
       "      <td>1.00</td>\n",
       "    </tr>\n",
       "    <tr>\n",
       "      <th>sigma_obs</th>\n",
       "      <td>8.00</td>\n",
       "      <td>0.15</td>\n",
       "      <td>7.71</td>\n",
       "      <td>8.28</td>\n",
       "      <td>0.00</td>\n",
       "      <td>0.00</td>\n",
       "      <td>1167.41</td>\n",
       "      <td>1112.61</td>\n",
       "      <td>1.00</td>\n",
       "    </tr>\n",
       "    <tr>\n",
       "      <th>beta_sexo</th>\n",
       "      <td>-13.23</td>\n",
       "      <td>0.35</td>\n",
       "      <td>-13.88</td>\n",
       "      <td>-12.56</td>\n",
       "      <td>0.01</td>\n",
       "      <td>0.01</td>\n",
       "      <td>1431.52</td>\n",
       "      <td>1253.70</td>\n",
       "      <td>1.00</td>\n",
       "    </tr>\n",
       "    <tr>\n",
       "      <th>delta[1]</th>\n",
       "      <td>15.80</td>\n",
       "      <td>0.24</td>\n",
       "      <td>15.33</td>\n",
       "      <td>16.24</td>\n",
       "      <td>0.01</td>\n",
       "      <td>0.01</td>\n",
       "      <td>1310.72</td>\n",
       "      <td>1212.23</td>\n",
       "      <td>1.00</td>\n",
       "    </tr>\n",
       "  </tbody>\n",
       "</table>\n",
       "</div>"
      ],
      "text/plain": [
       "             mean    sd  hdi_3%  hdi_97%  mcse_mean  mcse_sd  ess_bulk  \\\n",
       "sd_a0        0.88  0.29    0.37     1.46       0.02     0.01    234.53   \n",
       "beta_0     108.27  0.63  107.13   109.43       0.02     0.02   1140.52   \n",
       "nu          11.91  2.41    7.99    16.29       0.07     0.08   1359.43   \n",
       "w_s[5]       7.07  0.45    6.25     7.87       0.01     0.01   2375.21   \n",
       "w_s[4]       2.37  0.43    1.57     3.19       0.01     0.01   1361.08   \n",
       "w_s[3]       1.47  0.48    0.58     2.34       0.01     0.01   1082.82   \n",
       "w_s[2]       3.63  0.44    2.82     4.51       0.01     0.01   1979.79   \n",
       "w_s[1]      -8.81  0.50   -9.81    -7.87       0.01     0.01   1449.16   \n",
       "w_s[0]      -0.04  0.51   -0.94     0.99       0.01     0.01   1780.31   \n",
       "sigma_obs    8.00  0.15    7.71     8.28       0.00     0.00   1167.41   \n",
       "beta_sexo  -13.23  0.35  -13.88   -12.56       0.01     0.01   1431.52   \n",
       "delta[1]    15.80  0.24   15.33    16.24       0.01     0.01   1310.72   \n",
       "\n",
       "           ess_tail  r_hat  \n",
       "sd_a0        250.52   1.01  \n",
       "beta_0      1058.73   1.00  \n",
       "nu          1015.18   1.00  \n",
       "w_s[5]      1498.44   1.00  \n",
       "w_s[4]      1112.77   1.00  \n",
       "w_s[3]      1288.22   1.00  \n",
       "w_s[2]      1138.19   1.00  \n",
       "w_s[1]      1122.18   1.00  \n",
       "w_s[0]      1107.28   1.00  \n",
       "sigma_obs   1112.61   1.00  \n",
       "beta_sexo   1253.70   1.00  \n",
       "delta[1]    1212.23   1.00  "
      ]
     },
     "metadata": {},
     "output_type": "display_data"
    }
   ],
   "source": [
    "# ===== CHUNK 4: Diagnóstico y guardado =====\n",
    "summ = az.summary(\n",
    "    idata_m6_sub,\n",
    "    var_names=[\"beta_0\",\"beta_sexo\",\"beta_edad_sex\",\n",
    "               \"g0\",\"g_ed\",\"g_sx\",\"delta\",\"sd_a0\",\"sigma_obs\",\"nu\",\"w_s\"],\n",
    "    round_to=2\n",
    ")\n",
    "display(summ.sort_values(\"r_hat\", ascending=False).head(12))\n",
    "\n",
    "# - g_ed > 0  → la probabilidad de POST aumenta con la edad (biológicamente correcto)\n",
    "# - delta[1] > 0 y delta[0] < 0  → POST más alto que PRE\n",
    "# - r_hat ~ 1.00–1.01 OK; si > 1.05, sube target_accept a 0.99, baja sd de w_s a 0.3 o reduce df de splines\n",
    "\n",
    "# (Opcional) Guardar a disco para no perderlo si reinicias kernel\n",
    "# idata_m6_sub.to_netcdf(\"idata_m6_sub.nc\")\n"
   ]
  },
  {
   "cell_type": "markdown",
   "id": "819ac987",
   "metadata": {},
   "source": [
    "---"
   ]
  },
  {
   "cell_type": "markdown",
   "id": "a708b864",
   "metadata": {},
   "source": [
    "## Intentando mejorar M6 "
   ]
  },
  {
   "cell_type": "code",
   "execution_count": 21,
   "id": "f2cf2031",
   "metadata": {},
   "outputs": [],
   "source": [
    "\n",
    "def quick_ppc_plots(idata, x_age, y_obs, title=\"\"):\n",
    "    # KDE margen\n",
    "    az.plot_ppc(\n",
    "        idata, kind=\"kde\",\n",
    "        data_pairs={\"talla_obs\": \"talla_obs\"},\n",
    "        num_pp_samples=100, figsize=(5.2,4)\n",
    "    ); plt.title(f\"PPC margen {title}\"); plt.show()\n",
    "\n",
    "    # Media PPC por edad (suavizado simple)\n",
    "    y_ppc = idata.posterior_predictive[\"talla_obs\"].stack(s=(\"chain\",\"draw\")).values\n",
    "    y_hat = y_ppc.mean(axis=1)\n",
    "    plt.figure(figsize=(6.2,4.2))\n",
    "    plt.scatter(x_age, y_obs, s=6, alpha=.15, label=\"Observado\")\n",
    "    plt.scatter(x_age, y_hat, s=8, alpha=.6, label=\"Predicho (media PPC)\")\n",
    "    plt.xlabel(\"Edad centrada\"); plt.ylabel(\"Talla (cm)\")\n",
    "    plt.title(f\"PPC por edad {title}\"); plt.legend(); plt.show()\n",
    "\n",
    "def loo_report(idata, label=\"\"):\n",
    "    loo = az.loo(idata, pointwise=False)\n",
    "    print(f\"{label}  elpd_loo={loo.elpd_loo:.2f}  p_loo={loo.p_loo:.2f}  SE={loo.se:.2f}\")\n",
    "    # Pareto-k\n",
    "    pk = az.loo(idata, pointwise=True).pareto_k.values\n",
    "    k_bad  = np.sum((pk>0.7) & (pk<=1.0))\n",
    "    k_vbad = np.sum(pk>1.0)\n",
    "    print(f\"Pareto k: >0.7={k_bad}  >1.0={k_vbad}  de {len(pk)}\")\n"
   ]
  },
  {
   "cell_type": "code",
   "execution_count": null,
   "id": "61f2b6f3",
   "metadata": {},
   "outputs": [
    {
     "name": "stderr",
     "output_type": "stream",
     "text": [
      "Initializing NUTS using jitter+adapt_diag...\n",
      "Sequential sampling (2 chains in 1 job)\n",
      "NUTS: [w_s, beta_0, sd_a0, z_a0, g0, g_ed, g_sx, delta_raw, nu, sigma_obs]\n"
     ]
    },
    {
     "data": {
      "text/html": [
       "<pre style=\"white-space:pre;overflow-x:auto;line-height:normal;font-family:Menlo,'DejaVu Sans Mono',consolas,'Courier New',monospace\">/opt/anaconda3/envs/pymc_env/lib/python3.10/site-packages/rich/live.py:256: UserWarning: install \"ipywidgets\" for \n",
       "Jupyter support\n",
       "  warnings.warn('install \"ipywidgets\" for Jupyter support')\n",
       "</pre>\n"
      ],
      "text/plain": [
       "/opt/anaconda3/envs/pymc_env/lib/python3.10/site-packages/rich/live.py:256: UserWarning: install \"ipywidgets\" for \n",
       "Jupyter support\n",
       "  warnings.warn('install \"ipywidgets\" for Jupyter support')\n"
      ]
     },
     "metadata": {},
     "output_type": "display_data"
    },
    {
     "data": {
      "text/html": [
       "<pre style=\"white-space:pre;overflow-x:auto;line-height:normal;font-family:Menlo,'DejaVu Sans Mono',consolas,'Courier New',monospace\"></pre>\n"
      ],
      "text/plain": []
     },
     "metadata": {},
     "output_type": "display_data"
    },
    {
     "name": "stderr",
     "output_type": "stream",
     "text": [
      "Sampling 2 chains for 700 tune and 700 draw iterations (1_400 + 1_400 draws total) took 339 seconds.\n",
      "We recommend running at least 4 chains for robust computation of convergence diagnostics\n",
      "The rhat statistic is larger than 1.01 for some parameters. This indicates problems during sampling. See https://arxiv.org/abs/1903.08008 for details\n",
      "Sampling: [talla_obs]\n"
     ]
    },
    {
     "data": {
      "text/html": [
       "<pre style=\"white-space:pre;overflow-x:auto;line-height:normal;font-family:Menlo,'DejaVu Sans Mono',consolas,'Courier New',monospace\">/opt/anaconda3/envs/pymc_env/lib/python3.10/site-packages/rich/live.py:256: UserWarning: install \"ipywidgets\" for \n",
       "Jupyter support\n",
       "  warnings.warn('install \"ipywidgets\" for Jupyter support')\n",
       "</pre>\n"
      ],
      "text/plain": [
       "/opt/anaconda3/envs/pymc_env/lib/python3.10/site-packages/rich/live.py:256: UserWarning: install \"ipywidgets\" for \n",
       "Jupyter support\n",
       "  warnings.warn('install \"ipywidgets\" for Jupyter support')\n"
      ]
     },
     "metadata": {},
     "output_type": "display_data"
    },
    {
     "data": {
      "text/html": [
       "<pre style=\"white-space:pre;overflow-x:auto;line-height:normal;font-family:Menlo,'DejaVu Sans Mono',consolas,'Courier New',monospace\"></pre>\n"
      ],
      "text/plain": []
     },
     "metadata": {},
     "output_type": "display_data"
    },
    {
     "name": "stdout",
     "output_type": "stream",
     "text": [
      "[M6a priors]  elpd_loo=-22526.74  p_loo=44.03  SE=51.81\n",
      "Pareto k: >0.7=0  >1.0=0  de 6000\n"
     ]
    },
    {
     "data": {
      "image/png": "[encoded data removed]",
      "text/plain": [
       "<Figure size 520x400 with 1 Axes>"
      ]
     },
     "metadata": {},
     "output_type": "display_data"
    },
    {
     "data": {
      "image/png": "[encoded data removed]",
      "text/plain": [
       "<Figure size 620x420 with 1 Axes>"
      ]
     },
     "metadata": {},
     "output_type": "display_data"
    }
   ],
   "source": [
    "with pm.Model() as modelo_m6a:\n",
    "    # 1) Splines base\n",
    "    w_s = pm.Normal(\"w_s\", 0, 0.5, shape=n_s_sub)\n",
    "    f_edad = pm.Deterministic(\"f_edad\", pm.math.dot(X_s_sub, w_s))\n",
    "\n",
    "    # 2) Intercepto global + RE municipal (solo intercepto)\n",
    "    beta_0 = pm.Normal(\"beta_0\", 125, 10)\n",
    "    sd_a0  = pm.HalfNormal(\"sd_a0\", 5)\n",
    "    z_a0   = pm.Normal(\"z_a0\", 0, 1, shape=n_muni_sub)\n",
    "    a0     = pm.Deterministic(\"a0\", sd_a0 * z_a0)\n",
    "\n",
    "    mu_base = beta_0 + f_edad + a0[muni_sub]\n",
    "\n",
    "    # 3) Compuerta PRE/POST\n",
    "    g0   = pm.Normal(\"g0\", 0, 2)\n",
    "    g_ed = pm.Normal(\"g_ed\", 1.0, 0.5)   # <-- más conservador\n",
    "    g_sx = pm.Normal(\"g_sx\", 0, 0.5)     # <-- más conservador\n",
    "\n",
    "    logit_post = g0 + g_ed*edad_z_sub + g_sx*sexo_sub\n",
    "    p_post     = pm.Deterministic(\"p_post\", pm.math.sigmoid(logit_post))\n",
    "    W          = pm.Deterministic(\"W\", pm.math.stack([1 - p_post, p_post], axis=1))\n",
    "\n",
    "    # Deltas suma-cero\n",
    "    delta_raw = pm.Normal(\"delta_raw\", 0, 1, shape=2)   # <-- encogido\n",
    "    delta     = pm.Deterministic(\"delta\", delta_raw - delta_raw.mean())\n",
    "\n",
    "    mu_comp = pm.Deterministic(\n",
    "        \"mu_comp\",\n",
    "        pm.math.stack([mu_base + delta[0], mu_base + delta[1]], axis=1)\n",
    "    )\n",
    "\n",
    "    # 4) Likelihood (misma sigma para ambos)\n",
    "    nu    = pm.Exponential(\"nu\", 1/10)\n",
    "    sigma = pm.HalfNormal(\"sigma_obs\", 5)\n",
    "    comp_pre  = pm.StudentT.dist(nu=nu, mu=mu_comp[:,0], sigma=sigma)\n",
    "    comp_post = pm.StudentT.dist(nu=nu, mu=mu_comp[:,1], sigma=sigma)\n",
    "\n",
    "    talla_obs = pm.Mixture(\"talla_obs\", w=W, comp_dists=[comp_pre, comp_post], observed=y_sub)\n",
    "\n",
    "    idata_m6a = pm.sample(\n",
    "        draws=700, tune=700, chains=2, cores=1,\n",
    "        target_accept=0.98, init=\"jitter+adapt_diag\",\n",
    "        random_seed=42, return_inferencedata=True,\n",
    "        idata_kwargs={\"log_likelihood\": True}\n",
    "    )\n",
    "    ppc_m6a = pm.sample_posterior_predictive(idata_m6a, return_inferencedata=True, random_seed=42)\n",
    "\n",
    "idata_m6a.extend(ppc_m6a)\n",
    "loo_report(idata_m6a, \"[M6a priors]\")\n",
    "quick_ppc_plots(idata_m6a, edad_c_sub, y_sub, title=\"M6a\")\n"
   ]
  },
  {
   "cell_type": "code",
   "execution_count": 24,
   "id": "994bb60f",
   "metadata": {},
   "outputs": [
    {
     "data": {
      "application/vnd.microsoft.datawrangler.viewer.v0+json": {
       "columns": [
        {
         "name": "index",
         "rawType": "object",
         "type": "string"
        },
        {
         "name": "mean",
         "rawType": "float64",
         "type": "float"
        },
        {
         "name": "sd",
         "rawType": "float64",
         "type": "float"
        },
        {
         "name": "hdi_3%",
         "rawType": "float64",
         "type": "float"
        },
        {
         "name": "hdi_97%",
         "rawType": "float64",
         "type": "float"
        },
        {
         "name": "mcse_mean",
         "rawType": "float64",
         "type": "float"
        },
        {
         "name": "mcse_sd",
         "rawType": "float64",
         "type": "float"
        },
        {
         "name": "ess_bulk",
         "rawType": "float64",
         "type": "float"
        },
        {
         "name": "ess_tail",
         "rawType": "float64",
         "type": "float"
        },
        {
         "name": "r_hat",
         "rawType": "float64",
         "type": "float"
        }
       ],
       "ref": "ec5a4771-cad5-4c79-8d91-ac75de363611",
       "rows": [
        [
         "beta_0",
         "106.98",
         "0.6",
         "105.86",
         "108.17",
         "0.02",
         "0.02",
         "1197.02",
         "871.13",
         "1.0"
        ],
        [
         "g0",
         "3.2",
         "0.21",
         "2.77",
         "3.56",
         "0.01",
         "0.01",
         "1655.39",
         "1285.54",
         "1.0"
        ],
        [
         "g_ed",
         "7.59",
         "0.28",
         "7.02",
         "8.06",
         "0.01",
         "0.01",
         "2549.57",
         "783.7",
         "1.0"
        ],
        [
         "g_sx",
         "0.51",
         "0.18",
         "0.2",
         "0.86",
         "0.0",
         "0.0",
         "2275.02",
         "1076.3",
         "1.0"
        ],
        [
         "delta[0]",
         "-15.77",
         "0.19",
         "-16.16",
         "-15.44",
         "0.0",
         "0.0",
         "1724.65",
         "1142.24",
         "1.0"
        ],
        [
         "delta[1]",
         "15.77",
         "0.19",
         "15.44",
         "16.16",
         "0.0",
         "0.0",
         "1724.65",
         "1142.24",
         "1.0"
        ],
        [
         "sigma_obs",
         "9.88",
         "0.12",
         "9.67",
         "10.12",
         "0.0",
         "0.0",
         "1381.2",
         "1097.28",
         "1.0"
        ],
        [
         "nu",
         "63.56",
         "17.17",
         "34.97",
         "94.18",
         "0.4",
         "0.55",
         "1871.61",
         "904.97",
         "1.0"
        ],
        [
         "w_s[0]",
         "-0.06",
         "0.51",
         "-1.05",
         "0.88",
         "0.01",
         "0.01",
         "1385.12",
         "860.05",
         "1.0"
        ],
        [
         "w_s[1]",
         "-8.14",
         "0.52",
         "-9.08",
         "-7.15",
         "0.01",
         "0.01",
         "1860.09",
         "1226.75",
         "1.0"
        ],
        [
         "w_s[2]",
         "1.62",
         "0.53",
         "0.57",
         "2.56",
         "0.01",
         "0.01",
         "2115.11",
         "1193.24",
         "1.0"
        ],
        [
         "w_s[3]",
         "-5.55",
         "0.47",
         "-6.4",
         "-4.66",
         "0.01",
         "0.01",
         "1971.93",
         "1073.05",
         "1.0"
        ]
       ],
       "shape": {
        "columns": 9,
        "rows": 12
       }
      },
      "text/html": [
       "<div>\n",
       "<style scoped>\n",
       "    .dataframe tbody tr th:only-of-type {\n",
       "        vertical-align: middle;\n",
       "    }\n",
       "\n",
       "    .dataframe tbody tr th {\n",
       "        vertical-align: top;\n",
       "    }\n",
       "\n",
       "    .dataframe thead th {\n",
       "        text-align: right;\n",
       "    }\n",
       "</style>\n",
       "<table border=\"1\" class=\"dataframe\">\n",
       "  <thead>\n",
       "    <tr style=\"text-align: right;\">\n",
       "      <th></th>\n",
       "      <th>mean</th>\n",
       "      <th>sd</th>\n",
       "      <th>hdi_3%</th>\n",
       "      <th>hdi_97%</th>\n",
       "      <th>mcse_mean</th>\n",
       "      <th>mcse_sd</th>\n",
       "      <th>ess_bulk</th>\n",
       "      <th>ess_tail</th>\n",
       "      <th>r_hat</th>\n",
       "    </tr>\n",
       "  </thead>\n",
       "  <tbody>\n",
       "    <tr>\n",
       "      <th>beta_0</th>\n",
       "      <td>106.98</td>\n",
       "      <td>0.60</td>\n",
       "      <td>105.86</td>\n",
       "      <td>108.17</td>\n",
       "      <td>0.02</td>\n",
       "      <td>0.02</td>\n",
       "      <td>1197.02</td>\n",
       "      <td>871.13</td>\n",
       "      <td>1.0</td>\n",
       "    </tr>\n",
       "    <tr>\n",
       "      <th>g0</th>\n",
       "      <td>3.20</td>\n",
       "      <td>0.21</td>\n",
       "      <td>2.77</td>\n",
       "      <td>3.56</td>\n",
       "      <td>0.01</td>\n",
       "      <td>0.01</td>\n",
       "      <td>1655.39</td>\n",
       "      <td>1285.54</td>\n",
       "      <td>1.0</td>\n",
       "    </tr>\n",
       "    <tr>\n",
       "      <th>g_ed</th>\n",
       "      <td>7.59</td>\n",
       "      <td>0.28</td>\n",
       "      <td>7.02</td>\n",
       "      <td>8.06</td>\n",
       "      <td>0.01</td>\n",
       "      <td>0.01</td>\n",
       "      <td>2549.57</td>\n",
       "      <td>783.70</td>\n",
       "      <td>1.0</td>\n",
       "    </tr>\n",
       "    <tr>\n",
       "      <th>g_sx</th>\n",
       "      <td>0.51</td>\n",
       "      <td>0.18</td>\n",
       "      <td>0.20</td>\n",
       "      <td>0.86</td>\n",
       "      <td>0.00</td>\n",
       "      <td>0.00</td>\n",
       "      <td>2275.02</td>\n",
       "      <td>1076.30</td>\n",
       "      <td>1.0</td>\n",
       "    </tr>\n",
       "    <tr>\n",
       "      <th>delta[0]</th>\n",
       "      <td>-15.77</td>\n",
       "      <td>0.19</td>\n",
       "      <td>-16.16</td>\n",
       "      <td>-15.44</td>\n",
       "      <td>0.00</td>\n",
       "      <td>0.00</td>\n",
       "      <td>1724.65</td>\n",
       "      <td>1142.24</td>\n",
       "      <td>1.0</td>\n",
       "    </tr>\n",
       "    <tr>\n",
       "      <th>delta[1]</th>\n",
       "      <td>15.77</td>\n",
       "      <td>0.19</td>\n",
       "      <td>15.44</td>\n",
       "      <td>16.16</td>\n",
       "      <td>0.00</td>\n",
       "      <td>0.00</td>\n",
       "      <td>1724.65</td>\n",
       "      <td>1142.24</td>\n",
       "      <td>1.0</td>\n",
       "    </tr>\n",
       "    <tr>\n",
       "      <th>sigma_obs</th>\n",
       "      <td>9.88</td>\n",
       "      <td>0.12</td>\n",
       "      <td>9.67</td>\n",
       "      <td>10.12</td>\n",
       "      <td>0.00</td>\n",
       "      <td>0.00</td>\n",
       "      <td>1381.20</td>\n",
       "      <td>1097.28</td>\n",
       "      <td>1.0</td>\n",
       "    </tr>\n",
       "    <tr>\n",
       "      <th>nu</th>\n",
       "      <td>63.56</td>\n",
       "      <td>17.17</td>\n",
       "      <td>34.97</td>\n",
       "      <td>94.18</td>\n",
       "      <td>0.40</td>\n",
       "      <td>0.55</td>\n",
       "      <td>1871.61</td>\n",
       "      <td>904.97</td>\n",
       "      <td>1.0</td>\n",
       "    </tr>\n",
       "    <tr>\n",
       "      <th>w_s[0]</th>\n",
       "      <td>-0.06</td>\n",
       "      <td>0.51</td>\n",
       "      <td>-1.05</td>\n",
       "      <td>0.88</td>\n",
       "      <td>0.01</td>\n",
       "      <td>0.01</td>\n",
       "      <td>1385.12</td>\n",
       "      <td>860.05</td>\n",
       "      <td>1.0</td>\n",
       "    </tr>\n",
       "    <tr>\n",
       "      <th>w_s[1]</th>\n",
       "      <td>-8.14</td>\n",
       "      <td>0.52</td>\n",
       "      <td>-9.08</td>\n",
       "      <td>-7.15</td>\n",
       "      <td>0.01</td>\n",
       "      <td>0.01</td>\n",
       "      <td>1860.09</td>\n",
       "      <td>1226.75</td>\n",
       "      <td>1.0</td>\n",
       "    </tr>\n",
       "    <tr>\n",
       "      <th>w_s[2]</th>\n",
       "      <td>1.62</td>\n",
       "      <td>0.53</td>\n",
       "      <td>0.57</td>\n",
       "      <td>2.56</td>\n",
       "      <td>0.01</td>\n",
       "      <td>0.01</td>\n",
       "      <td>2115.11</td>\n",
       "      <td>1193.24</td>\n",
       "      <td>1.0</td>\n",
       "    </tr>\n",
       "    <tr>\n",
       "      <th>w_s[3]</th>\n",
       "      <td>-5.55</td>\n",
       "      <td>0.47</td>\n",
       "      <td>-6.40</td>\n",
       "      <td>-4.66</td>\n",
       "      <td>0.01</td>\n",
       "      <td>0.01</td>\n",
       "      <td>1971.93</td>\n",
       "      <td>1073.05</td>\n",
       "      <td>1.0</td>\n",
       "    </tr>\n",
       "  </tbody>\n",
       "</table>\n",
       "</div>"
      ],
      "text/plain": [
       "             mean     sd  hdi_3%  hdi_97%  mcse_mean  mcse_sd  ess_bulk  \\\n",
       "beta_0     106.98   0.60  105.86   108.17       0.02     0.02   1197.02   \n",
       "g0           3.20   0.21    2.77     3.56       0.01     0.01   1655.39   \n",
       "g_ed         7.59   0.28    7.02     8.06       0.01     0.01   2549.57   \n",
       "g_sx         0.51   0.18    0.20     0.86       0.00     0.00   2275.02   \n",
       "delta[0]   -15.77   0.19  -16.16   -15.44       0.00     0.00   1724.65   \n",
       "delta[1]    15.77   0.19   15.44    16.16       0.00     0.00   1724.65   \n",
       "sigma_obs    9.88   0.12    9.67    10.12       0.00     0.00   1381.20   \n",
       "nu          63.56  17.17   34.97    94.18       0.40     0.55   1871.61   \n",
       "w_s[0]      -0.06   0.51   -1.05     0.88       0.01     0.01   1385.12   \n",
       "w_s[1]      -8.14   0.52   -9.08    -7.15       0.01     0.01   1860.09   \n",
       "w_s[2]       1.62   0.53    0.57     2.56       0.01     0.01   2115.11   \n",
       "w_s[3]      -5.55   0.47   -6.40    -4.66       0.01     0.01   1971.93   \n",
       "\n",
       "           ess_tail  r_hat  \n",
       "beta_0       871.13    1.0  \n",
       "g0          1285.54    1.0  \n",
       "g_ed         783.70    1.0  \n",
       "g_sx        1076.30    1.0  \n",
       "delta[0]    1142.24    1.0  \n",
       "delta[1]    1142.24    1.0  \n",
       "sigma_obs   1097.28    1.0  \n",
       "nu           904.97    1.0  \n",
       "w_s[0]       860.05    1.0  \n",
       "w_s[1]      1226.75    1.0  \n",
       "w_s[2]      1193.24    1.0  \n",
       "w_s[3]      1073.05    1.0  "
      ]
     },
     "execution_count": 24,
     "metadata": {},
     "output_type": "execute_result"
    }
   ],
   "source": [
    "az.summary(\n",
    "    idata_m6a,\n",
    "    var_names=[\"beta_0\",\"g0\",\"g_ed\",\"g_sx\",\"delta\",\"sd_a0\",\"sigma_obs\",\"nu\",\"w_s\"],\n",
    "    round_to=2\n",
    ").sort_values(\"r_hat\").head(12)"
   ]
  },
  {
   "cell_type": "code",
   "execution_count": null,
   "id": "ca35dfc0",
   "metadata": {},
   "outputs": [
    {
     "name": "stderr",
     "output_type": "stream",
     "text": [
      "Initializing NUTS using jitter+adapt_diag...\n",
      "Sequential sampling (4 chains in 1 job)\n",
      "NUTS: [beta_0, beta_sexo, beta_edad_sex, w_s, sd_a0, sd_a1, z_a0, z_a1, g0, g_ed, g_sx, delta_raw, nu, sigma_obs]\n"
     ]
    },
    {
     "data": {
      "text/html": [
       "<pre style=\"white-space:pre;overflow-x:auto;line-height:normal;font-family:Menlo,'DejaVu Sans Mono',consolas,'Courier New',monospace\">/opt/anaconda3/envs/pymc_env/lib/python3.10/site-packages/rich/live.py:256: UserWarning: install \"ipywidgets\" for \n",
       "Jupyter support\n",
       "  warnings.warn('install \"ipywidgets\" for Jupyter support')\n",
       "</pre>\n"
      ],
      "text/plain": [
       "/opt/anaconda3/envs/pymc_env/lib/python3.10/site-packages/rich/live.py:256: UserWarning: install \"ipywidgets\" for \n",
       "Jupyter support\n",
       "  warnings.warn('install \"ipywidgets\" for Jupyter support')\n"
      ]
     },
     "metadata": {},
     "output_type": "display_data"
    },
    {
     "data": {
      "text/html": [
       "<pre style=\"white-space:pre;overflow-x:auto;line-height:normal;font-family:Menlo,'DejaVu Sans Mono',consolas,'Courier New',monospace\"></pre>\n"
      ],
      "text/plain": []
     },
     "metadata": {},
     "output_type": "display_data"
    },
    {
     "name": "stderr",
     "output_type": "stream",
     "text": [
      "Sampling 4 chains for 1_000 tune and 1_000 draw iterations (4_000 + 4_000 draws total) took 27084 seconds.\n",
      "The rhat statistic is larger than 1.01 for some parameters. This indicates problems during sampling. See https://arxiv.org/abs/1903.08008 for details\n",
      "The effective sample size per chain is smaller than 100 for some parameters.  A higher number is needed for reliable rhat and ess computation. See https://arxiv.org/abs/1903.08008 for details\n",
      "Sampling: [talla_obs]\n"
     ]
    },
    {
     "data": {
      "text/html": [
       "<pre style=\"white-space:pre;overflow-x:auto;line-height:normal;font-family:Menlo,'DejaVu Sans Mono',consolas,'Courier New',monospace\">/opt/anaconda3/envs/pymc_env/lib/python3.10/site-packages/rich/live.py:256: UserWarning: install \"ipywidgets\" for \n",
       "Jupyter support\n",
       "  warnings.warn('install \"ipywidgets\" for Jupyter support')\n",
       "</pre>\n"
      ],
      "text/plain": [
       "/opt/anaconda3/envs/pymc_env/lib/python3.10/site-packages/rich/live.py:256: UserWarning: install \"ipywidgets\" for \n",
       "Jupyter support\n",
       "  warnings.warn('install \"ipywidgets\" for Jupyter support')\n"
      ]
     },
     "metadata": {},
     "output_type": "display_data"
    },
    {
     "data": {
      "text/html": [
       "<pre style=\"white-space:pre;overflow-x:auto;line-height:normal;font-family:Menlo,'DejaVu Sans Mono',consolas,'Courier New',monospace\"></pre>\n"
      ],
      "text/plain": []
     },
     "metadata": {},
     "output_type": "display_data"
    }
   ],
   "source": [
    "# # ================================\n",
    "# # M6b: M5 + variable latente puberal (2 estados: PRE vs POST)\n",
    "# # ================================\n",
    "# with pm.Model() as modelo_m6b:\n",
    "#     # --- (1) PRIORS GLOBALES ---\n",
    "#     beta_0        = pm.Normal(\"beta_0\", 125, 10)  # talla promedio (edad media, sexo=0)\n",
    "#     beta_sexo     = pm.Normal(\"beta_sexo\", 3, 2)  # diferencia hombre vs mujer\n",
    "#     beta_edad_sex = pm.Normal(\"beta_edad_sex\", 0, 2)  # interacción edad×sexo global\n",
    "\n",
    "#     # --- (2) SPLINES DE EDAD ---\n",
    "#     # w_s controla la forma de la curva (más flexible que un polinomio)\n",
    "#     w_s = pm.Normal(\"w_s\", 0, 1.0, shape=n_s_sub)\n",
    "#     f_edad = pm.Deterministic(\"f_edad\", pm.math.dot(X_s_sub, w_s))\n",
    "\n",
    "#     # --- (3) EFECTOS ALEATORIOS MUNICIPALES ---\n",
    "#     # Cada municipio tiene su propia curva: intercepto + pendiente\n",
    "#     sd_a0 = pm.HalfNormal(\"sd_a0\", 5)   # sd de interceptos\n",
    "#     sd_a1 = pm.HalfNormal(\"sd_a1\", 2)   # sd de pendientes\n",
    "#     z_a0  = pm.Normal(\"z_a0\", 0, 1, shape=n_muni_sub)\n",
    "#     z_a1  = pm.Normal(\"z_a1\", 0, 1, shape=n_muni_sub)\n",
    "\n",
    "#     a0 = pm.Deterministic(\"a0\", sd_a0 * z_a0)  # interceptos municipales\n",
    "#     a1 = pm.Deterministic(\"a1\", sd_a1 * z_a1)  # pendientes municipales\n",
    "\n",
    "#     # --- (4) MEDIA BASE (sin pubertad) ---\n",
    "#     mu_base = (\n",
    "#         beta_0\n",
    "#         + beta_sexo * sexo_sub\n",
    "#         + f_edad\n",
    "#         + a0[muni_sub]\n",
    "#         + a1[muni_sub] * edad_c_sub\n",
    "#         + beta_edad_sex * (edad_c_sub * sexo_sub)\n",
    "#     )\n",
    "\n",
    "#     # --- (5) VARIABLE LATENTE PUBERAL (PRE vs POST) ---\n",
    "#     # p_post = probabilidad de estar en POST-pubertad\n",
    "#     g0   = pm.Normal(\"g0\", 0, 2)        # intercepto del logit\n",
    "#     g_ed = pm.Normal(\"g_ed\", 1.5, 1)    # efecto de edad (esperado >0)\n",
    "#     g_sx = pm.Normal(\"g_sx\", 0, 1)      # efecto de sexo (puede ser pequeño)\n",
    "\n",
    "#     logit_post = g0 + g_ed * edad_z_sub + g_sx * sexo_sub\n",
    "#     p_post     = pm.Deterministic(\"p_post\", pm.math.sigmoid(logit_post))\n",
    "\n",
    "#     # Matriz de pesos [Prob(PRE), Prob(POST)] para cada observación\n",
    "#     W = pm.Deterministic(\"W\", pm.math.stack([1 - p_post, p_post], axis=1))\n",
    "\n",
    "#     # --- (6) AJUSTES DE CADA ESTADO (delta con suma cero) ---\n",
    "#     delta_raw = pm.Normal(\"delta_raw\", 0, 2, shape=2)\n",
    "#     delta     = pm.Deterministic(\"delta\", delta_raw - delta_raw.mean())\n",
    "#     # delta[0] = PRE, delta[1] = POST (comparten referencia para no duplicar intercepto)\n",
    "\n",
    "#     mu_comp = pm.Deterministic(\n",
    "#         \"mu_comp\",\n",
    "#         pm.math.stack([\n",
    "#             mu_base + delta[0],  # media en PRE\n",
    "#             mu_base + delta[1]   # media en POST\n",
    "#         ], axis=1)\n",
    "#     )\n",
    "\n",
    "#     # --- (7) LIKELIHOOD ROBUSTA (mixtura Student-t) ---\n",
    "#     nu    = pm.Exponential(\"nu\", 1/10)\n",
    "#     sigma = pm.HalfNormal(\"sigma_obs\", 5)\n",
    "\n",
    "#     comp_pre  = pm.StudentT.dist(nu=nu, mu=mu_comp[:,0], sigma=sigma)\n",
    "#     comp_post = pm.StudentT.dist(nu=nu, mu=mu_comp[:,1], sigma=sigma)\n",
    "\n",
    "#     talla_obs = pm.Mixture(\"talla_obs\", w=W, comp_dists=[comp_pre, comp_post], observed=y_sub)\n",
    "\n",
    "#     # --- (8) MUESTREO ---\n",
    "#     idata_m6b = pm.sample(\n",
    "#         draws=1000, tune=1000,\n",
    "#         chains=4, cores=1,\n",
    "#         target_accept=0.99,\n",
    "#         init=\"jitter+adapt_diag\",\n",
    "#         random_seed=42,\n",
    "#         return_inferencedata=True,\n",
    "#         idata_kwargs={\"log_likelihood\": True}\n",
    "#     )\n",
    "\n",
    "#     # Posterior Predictive\n",
    "#     ppc_m6b = pm.sample_posterior_predictive(\n",
    "#         idata_m6b, model=modelo_m6b, return_inferencedata=True, random_seed=42\n",
    "#     )\n",
    "#     idata_m6b.extend(ppc_m6b)\n"
   ]
  },
  {
   "cell_type": "code",
   "execution_count": null,
   "id": "976644cd",
   "metadata": {},
   "outputs": [
    {
     "data": {
      "application/vnd.microsoft.datawrangler.viewer.v0+json": {
       "columns": [
        {
         "name": "index",
         "rawType": "object",
         "type": "string"
        },
        {
         "name": "mean",
         "rawType": "float64",
         "type": "float"
        },
        {
         "name": "sd",
         "rawType": "float64",
         "type": "float"
        },
        {
         "name": "hdi_3%",
         "rawType": "float64",
         "type": "float"
        },
        {
         "name": "hdi_97%",
         "rawType": "float64",
         "type": "float"
        },
        {
         "name": "mcse_mean",
         "rawType": "float64",
         "type": "float"
        },
        {
         "name": "mcse_sd",
         "rawType": "float64",
         "type": "float"
        },
        {
         "name": "ess_bulk",
         "rawType": "float64",
         "type": "float"
        },
        {
         "name": "ess_tail",
         "rawType": "float64",
         "type": "float"
        },
        {
         "name": "r_hat",
         "rawType": "float64",
         "type": "float"
        }
       ],
       "ref": "d73a6667-12d6-4163-9be3-c484e3fd8f9a",
       "rows": [
        [
         "nu",
         "9.87",
         "1.4",
         "7.33",
         "12.41",
         "0.02",
         "0.03",
         "3297.56",
         "3167.41",
         "1.0"
        ],
        [
         "w_s[0]",
         "-0.17",
         "1.02",
         "-1.99",
         "1.85",
         "0.02",
         "0.02",
         "4573.3",
         "2795.88",
         "1.0"
        ],
        [
         "sd_a0",
         "1.45",
         "0.18",
         "1.13",
         "1.79",
         "0.01",
         "0.0",
         "191.42",
         "1582.26",
         "1.03"
        ],
        [
         "g_sx",
         "-0.68",
         "0.45",
         "-1.41",
         "0.22",
         "0.12",
         "0.06",
         "16.58",
         "69.79",
         "1.16"
        ],
        [
         "w_s[4]",
         "1.45",
         "0.85",
         "0.01",
         "3.13",
         "0.3",
         "0.04",
         "8.46",
         "52.7",
         "1.39"
        ],
        [
         "w_s[5]",
         "-0.95",
         "1.01",
         "-2.75",
         "0.91",
         "0.36",
         "0.01",
         "8.21",
         "117.1",
         "1.41"
        ],
        [
         "beta_0",
         "108.27",
         "1.63",
         "105.33",
         "111.2",
         "0.59",
         "0.06",
         "7.79",
         "58.7",
         "1.45"
        ],
        [
         "w_s[1]",
         "3.96",
         "1.1",
         "1.96",
         "5.86",
         "0.41",
         "0.01",
         "7.84",
         "101.28",
         "1.45"
        ],
        [
         "w_s[6]",
         "-4.23",
         "1.17",
         "-6.27",
         "-2.16",
         "0.46",
         "0.01",
         "6.98",
         "107.43",
         "1.56"
        ],
        [
         "sigma_obs",
         "4.36",
         "0.38",
         "3.88",
         "4.89",
         "0.18",
         "0.01",
         "6.15",
         "121.71",
         "1.72"
        ],
        [
         "g0",
         "2.77",
         "5.12",
         "-2.3",
         "10.04",
         "2.37",
         "0.24",
         "7.97",
         "22.26",
         "1.75"
        ],
        [
         "g_ed",
         "3.36",
         "1.9",
         "1.34",
         "6.21",
         "0.89",
         "0.08",
         "6.04",
         "99.4",
         "1.75"
        ]
       ],
       "shape": {
        "columns": 9,
        "rows": 12
       }
      },
      "text/html": [
       "<div>\n",
       "<style scoped>\n",
       "    .dataframe tbody tr th:only-of-type {\n",
       "        vertical-align: middle;\n",
       "    }\n",
       "\n",
       "    .dataframe tbody tr th {\n",
       "        vertical-align: top;\n",
       "    }\n",
       "\n",
       "    .dataframe thead th {\n",
       "        text-align: right;\n",
       "    }\n",
       "</style>\n",
       "<table border=\"1\" class=\"dataframe\">\n",
       "  <thead>\n",
       "    <tr style=\"text-align: right;\">\n",
       "      <th></th>\n",
       "      <th>mean</th>\n",
       "      <th>sd</th>\n",
       "      <th>hdi_3%</th>\n",
       "      <th>hdi_97%</th>\n",
       "      <th>mcse_mean</th>\n",
       "      <th>mcse_sd</th>\n",
       "      <th>ess_bulk</th>\n",
       "      <th>ess_tail</th>\n",
       "      <th>r_hat</th>\n",
       "    </tr>\n",
       "  </thead>\n",
       "  <tbody>\n",
       "    <tr>\n",
       "      <th>nu</th>\n",
       "      <td>9.87</td>\n",
       "      <td>1.40</td>\n",
       "      <td>7.33</td>\n",
       "      <td>12.41</td>\n",
       "      <td>0.02</td>\n",
       "      <td>0.03</td>\n",
       "      <td>3297.56</td>\n",
       "      <td>3167.41</td>\n",
       "      <td>1.00</td>\n",
       "    </tr>\n",
       "    <tr>\n",
       "      <th>w_s[0]</th>\n",
       "      <td>-0.17</td>\n",
       "      <td>1.02</td>\n",
       "      <td>-1.99</td>\n",
       "      <td>1.85</td>\n",
       "      <td>0.02</td>\n",
       "      <td>0.02</td>\n",
       "      <td>4573.30</td>\n",
       "      <td>2795.88</td>\n",
       "      <td>1.00</td>\n",
       "    </tr>\n",
       "    <tr>\n",
       "      <th>sd_a0</th>\n",
       "      <td>1.45</td>\n",
       "      <td>0.18</td>\n",
       "      <td>1.13</td>\n",
       "      <td>1.79</td>\n",
       "      <td>0.01</td>\n",
       "      <td>0.00</td>\n",
       "      <td>191.42</td>\n",
       "      <td>1582.26</td>\n",
       "      <td>1.03</td>\n",
       "    </tr>\n",
       "    <tr>\n",
       "      <th>g_sx</th>\n",
       "      <td>-0.68</td>\n",
       "      <td>0.45</td>\n",
       "      <td>-1.41</td>\n",
       "      <td>0.22</td>\n",
       "      <td>0.12</td>\n",
       "      <td>0.06</td>\n",
       "      <td>16.58</td>\n",
       "      <td>69.79</td>\n",
       "      <td>1.16</td>\n",
       "    </tr>\n",
       "    <tr>\n",
       "      <th>w_s[4]</th>\n",
       "      <td>1.45</td>\n",
       "      <td>0.85</td>\n",
       "      <td>0.01</td>\n",
       "      <td>3.13</td>\n",
       "      <td>0.30</td>\n",
       "      <td>0.04</td>\n",
       "      <td>8.46</td>\n",
       "      <td>52.70</td>\n",
       "      <td>1.39</td>\n",
       "    </tr>\n",
       "    <tr>\n",
       "      <th>w_s[5]</th>\n",
       "      <td>-0.95</td>\n",
       "      <td>1.01</td>\n",
       "      <td>-2.75</td>\n",
       "      <td>0.91</td>\n",
       "      <td>0.36</td>\n",
       "      <td>0.01</td>\n",
       "      <td>8.21</td>\n",
       "      <td>117.10</td>\n",
       "      <td>1.41</td>\n",
       "    </tr>\n",
       "    <tr>\n",
       "      <th>beta_0</th>\n",
       "      <td>108.27</td>\n",
       "      <td>1.63</td>\n",
       "      <td>105.33</td>\n",
       "      <td>111.20</td>\n",
       "      <td>0.59</td>\n",
       "      <td>0.06</td>\n",
       "      <td>7.79</td>\n",
       "      <td>58.70</td>\n",
       "      <td>1.45</td>\n",
       "    </tr>\n",
       "    <tr>\n",
       "      <th>w_s[1]</th>\n",
       "      <td>3.96</td>\n",
       "      <td>1.10</td>\n",
       "      <td>1.96</td>\n",
       "      <td>5.86</td>\n",
       "      <td>0.41</td>\n",
       "      <td>0.01</td>\n",
       "      <td>7.84</td>\n",
       "      <td>101.28</td>\n",
       "      <td>1.45</td>\n",
       "    </tr>\n",
       "    <tr>\n",
       "      <th>w_s[6]</th>\n",
       "      <td>-4.23</td>\n",
       "      <td>1.17</td>\n",
       "      <td>-6.27</td>\n",
       "      <td>-2.16</td>\n",
       "      <td>0.46</td>\n",
       "      <td>0.01</td>\n",
       "      <td>6.98</td>\n",
       "      <td>107.43</td>\n",
       "      <td>1.56</td>\n",
       "    </tr>\n",
       "    <tr>\n",
       "      <th>sigma_obs</th>\n",
       "      <td>4.36</td>\n",
       "      <td>0.38</td>\n",
       "      <td>3.88</td>\n",
       "      <td>4.89</td>\n",
       "      <td>0.18</td>\n",
       "      <td>0.01</td>\n",
       "      <td>6.15</td>\n",
       "      <td>121.71</td>\n",
       "      <td>1.72</td>\n",
       "    </tr>\n",
       "    <tr>\n",
       "      <th>g0</th>\n",
       "      <td>2.77</td>\n",
       "      <td>5.12</td>\n",
       "      <td>-2.30</td>\n",
       "      <td>10.04</td>\n",
       "      <td>2.37</td>\n",
       "      <td>0.24</td>\n",
       "      <td>7.97</td>\n",
       "      <td>22.26</td>\n",
       "      <td>1.75</td>\n",
       "    </tr>\n",
       "    <tr>\n",
       "      <th>g_ed</th>\n",
       "      <td>3.36</td>\n",
       "      <td>1.90</td>\n",
       "      <td>1.34</td>\n",
       "      <td>6.21</td>\n",
       "      <td>0.89</td>\n",
       "      <td>0.08</td>\n",
       "      <td>6.04</td>\n",
       "      <td>99.40</td>\n",
       "      <td>1.75</td>\n",
       "    </tr>\n",
       "  </tbody>\n",
       "</table>\n",
       "</div>"
      ],
      "text/plain": [
       "             mean    sd  hdi_3%  hdi_97%  mcse_mean  mcse_sd  ess_bulk  \\\n",
       "nu           9.87  1.40    7.33    12.41       0.02     0.03   3297.56   \n",
       "w_s[0]      -0.17  1.02   -1.99     1.85       0.02     0.02   4573.30   \n",
       "sd_a0        1.45  0.18    1.13     1.79       0.01     0.00    191.42   \n",
       "g_sx        -0.68  0.45   -1.41     0.22       0.12     0.06     16.58   \n",
       "w_s[4]       1.45  0.85    0.01     3.13       0.30     0.04      8.46   \n",
       "w_s[5]      -0.95  1.01   -2.75     0.91       0.36     0.01      8.21   \n",
       "beta_0     108.27  1.63  105.33   111.20       0.59     0.06      7.79   \n",
       "w_s[1]       3.96  1.10    1.96     5.86       0.41     0.01      7.84   \n",
       "w_s[6]      -4.23  1.17   -6.27    -2.16       0.46     0.01      6.98   \n",
       "sigma_obs    4.36  0.38    3.88     4.89       0.18     0.01      6.15   \n",
       "g0           2.77  5.12   -2.30    10.04       2.37     0.24      7.97   \n",
       "g_ed         3.36  1.90    1.34     6.21       0.89     0.08      6.04   \n",
       "\n",
       "           ess_tail  r_hat  \n",
       "nu          3167.41   1.00  \n",
       "w_s[0]      2795.88   1.00  \n",
       "sd_a0       1582.26   1.03  \n",
       "g_sx          69.79   1.16  \n",
       "w_s[4]        52.70   1.39  \n",
       "w_s[5]       117.10   1.41  \n",
       "beta_0        58.70   1.45  \n",
       "w_s[1]       101.28   1.45  \n",
       "w_s[6]       107.43   1.56  \n",
       "sigma_obs    121.71   1.72  \n",
       "g0            22.26   1.75  \n",
       "g_ed          99.40   1.75  "
      ]
     },
     "execution_count": 27,
     "metadata": {},
     "output_type": "execute_result"
    }
   ],
   "source": [
    "# az.summary(\n",
    "#     idata_m6b,\n",
    "#     var_names=[\"beta_0\",\"g0\",\"g_ed\",\"g_sx\",\"delta\",\"sd_a0\",\"sigma_obs\",\"nu\",\"w_s\"],\n",
    "#     round_to=2\n",
    "# ).sort_values(\"r_hat\").head(12)"
   ]
  },
  {
   "cell_type": "markdown",
   "id": "4ee66c55",
   "metadata": {},
   "source": [
    "TARDA 8 + HORAS Y CONVERGENCIA HORRIBLE"
   ]
  },
  {
   "cell_type": "markdown",
   "id": "fd6ea8e0",
   "metadata": {},
   "source": [
    "---"
   ]
  },
  {
   "cell_type": "markdown",
   "id": "88a2636c",
   "metadata": {},
   "source": [
    "## Sandbox"
   ]
  },
  {
   "cell_type": "markdown",
   "id": "34f764c4",
   "metadata": {},
   "source": [
    "---"
   ]
  }
 ],
 "metadata": {
  "kernelspec": {
   "display_name": "pymc_env",
   "language": "python",
   "name": "python3"
  },
  "language_info": {
   "codemirror_mode": {
    "name": "ipython",
    "version": 3
   },
   "file_extension": ".py",
   "mimetype": "text/x-python",
   "name": "python",
   "nbconvert_exporter": "python",
   "pygments_lexer": "ipython3",
   "version": "3.10.18"
  }
 },
 "nbformat": 4,
 "nbformat_minor": 5
}
