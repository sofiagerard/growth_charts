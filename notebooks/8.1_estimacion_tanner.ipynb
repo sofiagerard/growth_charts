{
 "cells": [
  {
   "cell_type": "markdown",
   "id": "816a594d",
   "metadata": {},
   "source": [
    "# Estimación del estadio puberal de Tanner para añadir al M5 y afinarlo "
   ]
  },
  {
   "cell_type": "code",
   "execution_count": 15,
   "id": "d32c3658",
   "metadata": {},
   "outputs": [],
   "source": [
    "import pandas as pd\n",
    "import pymc as pm\n",
    "import arviz as az\n",
    "import numpy as np\n",
    "import matplotlib.pyplot as plt\n",
    "import seaborn as sns\n",
    "import warnings\n",
    "import pytensor  \n",
    "from patsy import dmatrix\n"
   ]
  },
  {
   "cell_type": "code",
   "execution_count": 16,
   "id": "8486ee3d",
   "metadata": {},
   "outputs": [],
   "source": [
    "# read data\n",
    "df = pd.read_csv(\"../data/clean/clean2_final_nutricion_salud.csv\")"
   ]
  },
  {
   "cell_type": "markdown",
   "id": "70197edd",
   "metadata": {},
   "source": [
    "---"
   ]
  },
  {
   "cell_type": "code",
   "execution_count": 17,
   "id": "bb5ebda3",
   "metadata": {},
   "outputs": [
    {
     "name": "stdout",
     "output_type": "stream",
     "text": [
      "<class 'pandas.core.frame.DataFrame'>\n",
      "Index: 25355 entries, 100001_3 to 70336_4\n",
      "Data columns (total 5 columns):\n",
      " #   Column           Non-Null Count  Dtype  \n",
      "---  ------           --------------  -----  \n",
      " 0   talla_cm         25355 non-null  float64\n",
      " 1   edad_anios_calc  25355 non-null  float64\n",
      " 2   sexo             25355 non-null  int64  \n",
      " 3   peso_kg          25355 non-null  float64\n",
      " 4   municipio        25355 non-null  float64\n",
      "dtypes: float64(4), int64(1)\n",
      "memory usage: 1.2+ MB\n"
     ]
    },
    {
     "data": {
      "text/plain": [
       "177"
      ]
     },
     "execution_count": 17,
     "metadata": {},
     "output_type": "execute_result"
    }
   ],
   "source": [
    "# Filtramos observaciones con datos completos de talla, edad y sexo\n",
    "df_model = df[[\"talla_cm\", \"edad_anios_calc\", \"sexo\", \"peso_kg\", \"municipio\", \"id_persona\"]].dropna()\n",
    "\n",
    "# Establecemos 'id_persona' como índice del DataFrame\n",
    "df_model = df_model.set_index(\"id_persona\")\n",
    "\n",
    "# Codificamos correctamente sexo \n",
    "# Recodeamos sexo: 0 = mujer, 1 = hombre\n",
    "df_model[\"sexo\"] = df_model[\"sexo\"].map({2: 0, 1: 1})\n",
    "\n",
    "# Confirmamos los tipos de variables y que no haya NAs\n",
    "df_model.info()\n",
    "df_model.describe()\n",
    "df_model[\"sexo\"].value_counts()\n",
    "df_model[\"municipio\"].nunique()"
   ]
  },
  {
   "cell_type": "code",
   "execution_count": 18,
   "id": "4d04ce6e",
   "metadata": {},
   "outputs": [
    {
     "data": {
      "application/vnd.microsoft.datawrangler.viewer.v0+json": {
       "columns": [
        {
         "name": "id_persona",
         "rawType": "object",
         "type": "string"
        },
        {
         "name": "municipio",
         "rawType": "float64",
         "type": "float"
        },
        {
         "name": "municipio_idx",
         "rawType": "int16",
         "type": "integer"
        }
       ],
       "ref": "4ef2c29a-8079-43c9-9126-2d019b78e92d",
       "rows": [
        [
         "100001_3",
         "1.0",
         "0"
        ],
        [
         "11276_3",
         "2.0",
         "1"
        ],
        [
         "110044_5",
         "3.0",
         "2"
        ],
        [
         "100075_5",
         "4.0",
         "3"
        ],
        [
         "100121_6",
         "5.0",
         "4"
        ]
       ],
       "shape": {
        "columns": 2,
        "rows": 5
       }
      },
      "text/html": [
       "<div>\n",
       "<style scoped>\n",
       "    .dataframe tbody tr th:only-of-type {\n",
       "        vertical-align: middle;\n",
       "    }\n",
       "\n",
       "    .dataframe tbody tr th {\n",
       "        vertical-align: top;\n",
       "    }\n",
       "\n",
       "    .dataframe thead th {\n",
       "        text-align: right;\n",
       "    }\n",
       "</style>\n",
       "<table border=\"1\" class=\"dataframe\">\n",
       "  <thead>\n",
       "    <tr style=\"text-align: right;\">\n",
       "      <th></th>\n",
       "      <th>municipio</th>\n",
       "      <th>municipio_idx</th>\n",
       "    </tr>\n",
       "    <tr>\n",
       "      <th>id_persona</th>\n",
       "      <th></th>\n",
       "      <th></th>\n",
       "    </tr>\n",
       "  </thead>\n",
       "  <tbody>\n",
       "    <tr>\n",
       "      <th>100001_3</th>\n",
       "      <td>1.0</td>\n",
       "      <td>0</td>\n",
       "    </tr>\n",
       "    <tr>\n",
       "      <th>11276_3</th>\n",
       "      <td>2.0</td>\n",
       "      <td>1</td>\n",
       "    </tr>\n",
       "    <tr>\n",
       "      <th>110044_5</th>\n",
       "      <td>3.0</td>\n",
       "      <td>2</td>\n",
       "    </tr>\n",
       "    <tr>\n",
       "      <th>100075_5</th>\n",
       "      <td>4.0</td>\n",
       "      <td>3</td>\n",
       "    </tr>\n",
       "    <tr>\n",
       "      <th>100121_6</th>\n",
       "      <td>5.0</td>\n",
       "      <td>4</td>\n",
       "    </tr>\n",
       "  </tbody>\n",
       "</table>\n",
       "</div>"
      ],
      "text/plain": [
       "            municipio  municipio_idx\n",
       "id_persona                          \n",
       "100001_3          1.0              0\n",
       "11276_3           2.0              1\n",
       "110044_5          3.0              2\n",
       "100075_5          4.0              3\n",
       "100121_6          5.0              4"
      ]
     },
     "execution_count": 18,
     "metadata": {},
     "output_type": "execute_result"
    }
   ],
   "source": [
    "# Codificamos cada municipio con un índice entero único (de 0 a n_grupos - 1)\n",
    "df_model[\"municipio_idx\"] = pd.Categorical(df_model[\"municipio\"]).codes\n",
    "\n",
    "# Verificamos que se creó correctamente\n",
    "df_model[[\"municipio\", \"municipio_idx\"]].drop_duplicates().sort_values(\"municipio_idx\").head()\n"
   ]
  },
  {
   "cell_type": "markdown",
   "id": "b154e341",
   "metadata": {},
   "source": [
    "---"
   ]
  },
  {
   "cell_type": "code",
   "execution_count": 19,
   "id": "1b097422",
   "metadata": {},
   "outputs": [
    {
     "name": "stdout",
     "output_type": "stream",
     "text": [
      "Edad media en la muestra: 6.266 años\n"
     ]
    },
    {
     "data": {
      "application/vnd.microsoft.datawrangler.viewer.v0+json": {
       "columns": [
        {
         "name": "id_persona",
         "rawType": "object",
         "type": "string"
        },
        {
         "name": "edad_anios_calc",
         "rawType": "float64",
         "type": "float"
        },
        {
         "name": "edad_c",
         "rawType": "float64",
         "type": "float"
        }
       ],
       "ref": "1c1e208b-2194-41c3-b0e2-1258b742c414",
       "rows": [
        [
         "100001_3",
         "8.695414091666667",
         "2.429254067877473"
        ],
        [
         "100006_6",
         "11.211498966666667",
         "4.945338942877473"
        ],
        [
         "100008_10",
         "7.561943866666667",
         "1.2957838428774728"
        ],
        [
         "100009_3",
         "6.27789185",
         "0.011731826210805707"
        ],
        [
         "100010_7",
         "8.145106091666667",
         "1.8789460678774734"
        ]
       ],
       "shape": {
        "columns": 2,
        "rows": 5
       }
      },
      "text/html": [
       "<div>\n",
       "<style scoped>\n",
       "    .dataframe tbody tr th:only-of-type {\n",
       "        vertical-align: middle;\n",
       "    }\n",
       "\n",
       "    .dataframe tbody tr th {\n",
       "        vertical-align: top;\n",
       "    }\n",
       "\n",
       "    .dataframe thead th {\n",
       "        text-align: right;\n",
       "    }\n",
       "</style>\n",
       "<table border=\"1\" class=\"dataframe\">\n",
       "  <thead>\n",
       "    <tr style=\"text-align: right;\">\n",
       "      <th></th>\n",
       "      <th>edad_anios_calc</th>\n",
       "      <th>edad_c</th>\n",
       "    </tr>\n",
       "    <tr>\n",
       "      <th>id_persona</th>\n",
       "      <th></th>\n",
       "      <th></th>\n",
       "    </tr>\n",
       "  </thead>\n",
       "  <tbody>\n",
       "    <tr>\n",
       "      <th>100001_3</th>\n",
       "      <td>8.695414</td>\n",
       "      <td>2.429254</td>\n",
       "    </tr>\n",
       "    <tr>\n",
       "      <th>100006_6</th>\n",
       "      <td>11.211499</td>\n",
       "      <td>4.945339</td>\n",
       "    </tr>\n",
       "    <tr>\n",
       "      <th>100008_10</th>\n",
       "      <td>7.561944</td>\n",
       "      <td>1.295784</td>\n",
       "    </tr>\n",
       "    <tr>\n",
       "      <th>100009_3</th>\n",
       "      <td>6.277892</td>\n",
       "      <td>0.011732</td>\n",
       "    </tr>\n",
       "    <tr>\n",
       "      <th>100010_7</th>\n",
       "      <td>8.145106</td>\n",
       "      <td>1.878946</td>\n",
       "    </tr>\n",
       "  </tbody>\n",
       "</table>\n",
       "</div>"
      ],
      "text/plain": [
       "            edad_anios_calc    edad_c\n",
       "id_persona                           \n",
       "100001_3           8.695414  2.429254\n",
       "100006_6          11.211499  4.945339\n",
       "100008_10          7.561944  1.295784\n",
       "100009_3           6.277892  0.011732\n",
       "100010_7           8.145106  1.878946"
      ]
     },
     "execution_count": 19,
     "metadata": {},
     "output_type": "execute_result"
    }
   ],
   "source": [
    "# Centrar la edad y guardar la media: \n",
    "# Esto ayuda a que el intercepto sea interpretable (talla promedio en la edad media) y mejora la estabilidad numérica del muestreo.\n",
    "edad_mean = df_model[\"edad_anios_calc\"].mean()\n",
    "df_model[\"edad_c\"] = df_model[\"edad_anios_calc\"] - edad_mean\n",
    "\n",
    "print(f\"Edad media en la muestra: {edad_mean:.3f} años\")\n",
    "df_model[[\"edad_anios_calc\", \"edad_c\"]].head()\n"
   ]
  },
  {
   "cell_type": "markdown",
   "id": "d5710ac8",
   "metadata": {},
   "source": [
    "---"
   ]
  },
  {
   "cell_type": "markdown",
   "id": "0de7938b",
   "metadata": {},
   "source": [
    "## Splines"
   ]
  },
  {
   "cell_type": "code",
   "execution_count": 20,
   "id": "6d273830",
   "metadata": {},
   "outputs": [
    {
     "name": "stdout",
     "output_type": "stream",
     "text": [
      "X_s shape: (25355, 5)\n"
     ]
    }
   ],
   "source": [
    "# Construcción de B-splines cúbicos para la edad\n",
    "# (A) Hiperparámetro de flexibilidad\n",
    "df_spline = 5        # Empezamos con 5; luego probamos 6 o 7 si hace falta.\n",
    "\n",
    "# (B) Matriz de B-splines cúbicos de la edad (sin intercepto)\n",
    "X_spline = dmatrix(\n",
    "    \"bs(edad, df=df_spline, degree=3, include_intercept=False) - 1\",\n",
    "    {\"edad\": df_model[\"edad_anios_calc\"].values},\n",
    "    return_type=\"dataframe\"\n",
    ")\n",
    "\n",
    "# (C) A NumPy para PyMC\n",
    "X_s = X_spline.to_numpy()\n",
    "\n",
    "# (D) Chequeo rápido\n",
    "n_obs, n_s = X_s.shape\n",
    "print(\"X_s shape:\", X_s.shape)   # (n_obs, n_bases)\n"
   ]
  },
  {
   "cell_type": "code",
   "execution_count": 21,
   "id": "bf861c57",
   "metadata": {},
   "outputs": [
    {
     "name": "stdout",
     "output_type": "stream",
     "text": [
      "n_obs=25355 | n_s(bases)=5 | n_muni=177\n"
     ]
    }
   ],
   "source": [
    "# Variable objetivo y predictores “clásicos”\n",
    "y        = df_model[\"talla_cm\"].to_numpy()\n",
    "sexo     = df_model[\"sexo\"].to_numpy().astype(int)  # 0 = mujer, 1 = hombre\n",
    "\n",
    "# Edad centrada (importante para estabilidad y para interpretar el intercepto)\n",
    "edad_c   = (df_model[\"edad_anios_calc\"] - df_model[\"edad_anios_calc\"].mean()).to_numpy()\n",
    "\n",
    "# Índice entero de municipio por observación (0..n_muni-1)\n",
    "muni_idx = df_model[\"municipio_idx\"].to_numpy().astype(int)\n",
    "\n",
    "# Tamaños\n",
    "n_obs_chk = y.shape[0]\n",
    "n_muni    = int(muni_idx.max()) + 1\n",
    "\n",
    "# Chequeos\n",
    "assert X_s.shape[0] == n_obs_chk, \"X_s debe tener tantas filas como observaciones.\"\n",
    "print(f\"n_obs={n_obs_chk} | n_s(bases)={n_s} | n_muni={n_muni}\")\n"
   ]
  },
  {
   "cell_type": "markdown",
   "id": "257e0591",
   "metadata": {},
   "source": [
    "---"
   ]
  },
  {
   "cell_type": "markdown",
   "id": "38f0da33",
   "metadata": {},
   "source": [
    "## Estimación estadio puberal Tanner con modelos latentes probabilísticos (LVPM)"
   ]
  },
  {
   "cell_type": "markdown",
   "id": "ccb5bed1",
   "metadata": {},
   "source": [
    "Qué son los estadios Tanner?\n",
    "\n",
    "Se usan clínicamente para evaluar el desarrollo físico en la pubertad, con 5 fases (Tanner 1 a 5), basadas en características sexuales secundarias: desarrollo mamario/genital y vello púbico. Son el “estándar de oro” en pediatría"
   ]
  },
  {
   "cell_type": "markdown",
   "id": "665439be",
   "metadata": {},
   "source": [
    "### Modelos latentes probabilísticos aplicados a Tanner\n",
    "\n",
    "Un modelo latente parte de la idea de que, además de las variables que observamos (edad, sexo, talla, IMC), existe una **variable oculta** que no se mide directamente pero que explica parte del patrón en los datos.  \n",
    "En el contexto de crecimiento infantil, esa variable oculta corresponde al **estadio puberal de Tanner (I–V)**.\n",
    "\n",
    "#### 1. Probabilidades de estadio\n",
    "El modelo no asigna a cada niño un estadio fijo, sino que estima **probabilidades** para cada uno de los cinco estadios.  \n",
    "Estas probabilidades dependen de características observadas como la edad, el sexo y el IMC.  \n",
    "Ejemplo: un niño de 13 años podría tener:  \n",
    "- 10% Tanner II  \n",
    "- 40% Tanner III  \n",
    "- 50% Tanner IV  \n",
    "\n",
    "#### 2. Distribuciones por estadio\n",
    "Cada estadio Tanner tiene su propia **distribución de talla esperada**.  \n",
    "- Tanner I: estaturas más bajas.  \n",
    "- Tanner V: estaturas más altas.  \n",
    "- Los estadios intermedios representan el crecimiento acelerado del estirón puberal.  \n",
    "\n",
    "De esta forma, si un niño está en Tanner III, se espera que su talla se distribuya alrededor de un valor típico para ese estadio, con cierta variabilidad natural.\n",
    "\n",
    "#### 3. Mezcla probabilística\n",
    "Como no sabemos en qué estadio se encuentra exactamente cada niño, el modelo combina todas las distribuciones ponderadas por las probabilidades:  \n",
    "\n",
    "**Prob(talla) = Prob(Tanner I)·Distribución I + Prob(Tanner II)·Distribución II + ... + Prob(Tanner V)·Distribución V**\n",
    "\n",
    "Esto refleja que la talla observada no proviene de una única categoría fija, sino de una mezcla que captura la **incertidumbre** del estado puberal.\n",
    "\n",
    "#### 4. Interpretación\n",
    "- Las **probabilidades** responden a: “¿Qué tan probable es que este niño esté en cada estadio Tanner?”.  \n",
    "- Las **distribuciones por estadio** responden a: “Si el niño estuviera en este estadio, ¿cuál sería la talla típica?”.  \n",
    "- La **mezcla final** responde a: “Dada su edad y características, ¿cómo se distribuye la talla observada?”.  \n",
    "\n",
    "#### Ventajas\n",
    "- No fuerza a clasificar en un único estadio.  \n",
    "- Captura la incertidumbre en edades de transición.  \n",
    "- Representa mejor la heterogeneidad real del crecimiento que un modelo lineal simple.  \n",
    "- Permite aproximar el Tanner aunque no haya mediciones clínicas directas.\n"
   ]
  },
  {
   "cell_type": "markdown",
   "id": "30771fb9",
   "metadata": {},
   "source": [
    "---"
   ]
  },
  {
   "cell_type": "markdown",
   "id": "d61338be",
   "metadata": {},
   "source": [
    "#### Añadir una variable latente puberal al M5 primero con 2 estados: PRE y POST."
   ]
  },
  {
   "cell_type": "code",
   "execution_count": 22,
   "id": "2049625a",
   "metadata": {},
   "outputs": [
    {
     "name": "stdout",
     "output_type": "stream",
     "text": [
      "n_obs=25355 | n_s=5 | n_muni=177\n"
     ]
    },
    {
     "name": "stderr",
     "output_type": "stream",
     "text": [
      "/var/folders/8v/p9jmdytd6y36kdsq55l4_cqw0000gn/T/ipykernel_42476/758676489.py:4: RuntimeWarning: invalid value encountered in cast\n",
      "  sexo     = df_model[\"sexo\"].map({2:0, 1:1}).to_numpy().astype(int)  # 0=mujer, 1=hombre\n"
     ]
    }
   ],
   "source": [
    "# --- Preparación mínima (solo si no está corrido arriba) ---\n",
    "\n",
    "y        = df_model[\"talla_cm\"].to_numpy()\n",
    "sexo     = df_model[\"sexo\"].map({2:0, 1:1}).to_numpy().astype(int)  # 0=mujer, 1=hombre\n",
    "edad     = df_model[\"edad_anios_calc\"].to_numpy()\n",
    "edad_c   = edad - edad.mean()\n",
    "edad_cs  = edad_c / (edad_c.std() + 1e-8)\n",
    "\n",
    "muni_idx = pd.Categorical(df_model[\"municipio\"]).codes.astype(int)\n",
    "n_muni   = int(muni_idx.max()) + 1\n",
    "\n",
    "# X_s: tu matriz de splines tiene que ser array float\n",
    "X_s = X_s.astype(float)\n",
    "\n",
    "# Chequeos de tamaño\n",
    "n_obs = y.shape[0]\n",
    "n_s   = X_s.shape[1]\n",
    "assert X_s.shape[0] == n_obs, \"X_s debe tener tantas filas como observaciones.\"\n",
    "assert sexo.shape[0] == n_obs and edad_cs.shape[0] == n_obs and muni_idx.shape[0] == n_obs, \"Vectores mal alineados.\"\n",
    "\n",
    "print(f\"n_obs={n_obs} | n_s={n_s} | n_muni={n_muni}\")\n"
   ]
  },
  {
   "cell_type": "markdown",
   "id": "24d86052",
   "metadata": {},
   "source": [
    "Para cada observación, el modelo calcula una probabilidad de POST: p_post (entre 0 y 1).\n",
    "\n",
    "p_post se modela con una logística que aumenta con la edad (y puede depender de sexo).\n",
    "\n",
    "Parámetros:\n",
    "\n",
    "g0: intercepto (prob POST en la edad media).\n",
    "\n",
    "g_ed: cuánto sube la prob POST cuando la edad sube 1 desviación estándar.\n",
    "\n",
    "g_sx: cambio de prob POST por ser hombre (opcional).\n",
    "\n",
    "La talla no “elige” PRE o POST; en cambio, se modela como mezcla:\n",
    "\n",
    "Componente PRE: media = mu_base + delta_pre\n",
    "\n",
    "Componente POST: media = mu_base + delta_post\n",
    "\n",
    "Para que los dos “ajustes” sean identificables, les imponemos suma cero:\n",
    "delta_pre + delta_post = 0.\n",
    "Así, si delta_post > 0 ⇒ POST está por encima de la base; PRE, por debajo."
   ]
  },
  {
   "cell_type": "markdown",
   "id": "1f230d30",
   "metadata": {},
   "source": [
    "# Muestreo estratificado"
   ]
  },
  {
   "cell_type": "markdown",
   "id": "2d4c0c19",
   "metadata": {},
   "source": [
    "Tarda 12+ horas en correr, vamos a trabajar con una muestra hasta tener el modelo. \n",
    "Necesitamos hacer muestreo estratificado para no tener datos desbalanceados --> muestrear por estratos y proporcional al tamaño de los grupos"
   ]
  },
  {
   "cell_type": "code",
   "execution_count": 23,
   "id": "7c51fba6",
   "metadata": {},
   "outputs": [
    {
     "name": "stdout",
     "output_type": "stream",
     "text": [
      "Filas disponibles: 25355\n"
     ]
    }
   ],
   "source": [
    "# Asegura sexo binario 0/1\n",
    "if set(df_model[\"sexo\"].unique()) - {0,1}:\n",
    "    df_model = df_model.copy()\n",
    "    df_model[\"sexo\"] = df_model[\"sexo\"].map({2:0, 1:1})\n",
    "\n",
    "# Mantén solo columnas clave y sin NA\n",
    "cols_req = [\"talla_cm\", \"edad_anios_calc\", \"sexo\", \"municipio\"]\n",
    "df_base = df_model[cols_req].dropna().copy()\n",
    "\n",
    "print(\"Filas disponibles:\", len(df_base))\n",
    "assert set(df_base[\"sexo\"].unique()) <= {0,1}, \"Columna 'sexo' debe ser 0/1.\"\n"
   ]
  },
  {
   "cell_type": "code",
   "execution_count": 24,
   "id": "893fee4a",
   "metadata": {},
   "outputs": [
    {
     "name": "stdout",
     "output_type": "stream",
     "text": [
      "Distribución original por estrato (sexo x edad_bin):\n",
      "sexo         0     1\n",
      "edad_bin            \n",
      "(-inf,5]  4676  4788\n",
      "(5,7]     2310  2268\n",
      "(7,9]     2455  2468\n",
      "(9,11]    2183  2273\n",
      "(11,13]    961   973\n"
     ]
    }
   ],
   "source": [
    "# 1) Bins sin vacíos (hasta 13 años)\n",
    "age_bins   = [-np.inf, 5, 7, 9, 11, 13]\n",
    "age_labels = [f\"({age_bins[i]},{age_bins[i+1]}]\" for i in range(len(age_bins)-1)]\n",
    "\n",
    "df_b = df_model[[\"talla_cm\",\"edad_anios_calc\",\"sexo\",\"municipio\"]].dropna().copy()\n",
    "if set(df_b[\"sexo\"].unique()) - {0,1}:\n",
    "    df_b[\"sexo\"] = df_b[\"sexo\"].map({2:0, 1:1})\n",
    "\n",
    "df_b[\"edad_bin\"] = pd.cut(df_b[\"edad_anios_calc\"], bins=age_bins, labels=age_labels, include_lowest=True)\n",
    "\n",
    "# 2) Distribución original \n",
    "dist_orig = (df_b\n",
    "    .groupby([\"sexo\",\"edad_bin\"], observed=True)\n",
    "    .size().rename(\"n\").reset_index())\n",
    "\n",
    "print(\"Distribución original por estrato (sexo x edad_bin):\")\n",
    "print(dist_orig.pivot(index=\"edad_bin\", columns=\"sexo\", values=\"n\").fillna(0))\n"
   ]
  },
  {
   "cell_type": "code",
   "execution_count": 25,
   "id": "4d3d1acc",
   "metadata": {},
   "outputs": [
    {
     "name": "stdout",
     "output_type": "stream",
     "text": [
      "Submuestra final: (6000, 5)\n",
      "sexo  edad_bin\n",
      "0     (-inf,5]    1106\n",
      "      (5,7]        547\n",
      "      (7,9]        581\n",
      "      (9,11]       517\n",
      "      (11,13]      227\n",
      "1     (-inf,5]    1133\n",
      "      (5,7]        537\n",
      "      (7,9]        584\n",
      "      (9,11]       538\n",
      "      (11,13]      230\n",
      "dtype: int64\n"
     ]
    }
   ],
   "source": [
    "# === A. Muestreo estratificado exacto con scikit-learn === explicación de CHAT GPT\n",
    "# Idea: queremos una SUBMUESTRA de tamaño N_SUB que conserve, lo mejor posible,\n",
    "#       las proporciones originales de cada ESTRATO. Un \"estrato\" es una\n",
    "#       combinación de variables (aquí: SEXO × RANGO DE EDAD).\n",
    "\n",
    "from sklearn.model_selection import StratifiedShuffleSplit\n",
    "\n",
    "N_SUB = 6000  # Tamaño deseado de la submuestra (ajustable)\n",
    "\n",
    "# 1) Definimos la \"etiqueta de estrato\" para cada fila.\n",
    "#    • Unimos sexo y el bin de edad en un string, por ejemplo: \"0_(9,11]\" o \"1_(7,9]\"\n",
    "#    • Esto le dice al algoritmo en qué estrato está cada observación.\n",
    "estrato = df_b[\"sexo\"].astype(str) + \"_\" + df_b[\"edad_bin\"].astype(str)\n",
    "\n",
    "# 2) Creamos el \"divisor estratificado\".\n",
    "#    • n_splits=1: queremos una sola partición (no un k-fold).\n",
    "#    • test_size=N_SUB: el TAMAÑO del subconjunto que sacaremos (aquí \"test\" es la submuestra).\n",
    "#    • random_state=42: semilla para que el resultado sea reproducible.\n",
    "sss = StratifiedShuffleSplit(n_splits=1, test_size=N_SUB, random_state=42)\n",
    "\n",
    "# 3) Ejecutamos el split.\n",
    "#    • sss.split(X, y) recibe:\n",
    "#         - X: la tabla completa (no se usa su contenido, solo el tamaño).\n",
    "#         - y: las etiquetas de estrato (aquí 'estrato').\n",
    "#    • Devuelve dos arreglos de índices: (idx_train, idx_test).\n",
    "#      Usaremos idx_test como nuestra SUBMUESTRA, porque le dijimos que \"test_size = N_SUB\".\n",
    "_, idx_sub = next(sss.split(df_b, estrato))\n",
    "\n",
    "# 4) Extraemos la submuestra usando los índices calculados.\n",
    "#    • .iloc[idx_sub] selecciona esas filas.\n",
    "#    • .copy() para tener un DataFrame independiente (evita advertencias de pandas).\n",
    "df_sub = df_b.iloc[idx_sub].copy()\n",
    "\n",
    "# 5) Revisamos tamaño y distribución de la submuestra.\n",
    "#    • Debe salir (N_SUB, n_columnas).\n",
    "#    • La distribución por (sexo × edad_bin) debería ser MUY parecida a la original.\n",
    "print(\"Submuestra final:\", df_sub.shape)\n",
    "\n",
    "# observed=True: usa solo categorías que aparecen (evita warning de pandas).\n",
    "print(df_sub.groupby([\"sexo\",\"edad_bin\"], observed=True).size())\n"
   ]
  },
  {
   "cell_type": "code",
   "execution_count": 26,
   "id": "64af1c93",
   "metadata": {},
   "outputs": [
    {
     "name": "stdout",
     "output_type": "stream",
     "text": [
      "n_obs=6000 | n_muni_sub=177\n",
      "Arrays listos: y_sub, edad_sub, sexo_sub, edad_c_sub, edad_cs_sub, muni_sub\n"
     ]
    }
   ],
   "source": [
    "# ====== A) Reindexar municipios y preparar arrays ======\n",
    "\n",
    "# 1) Reindexar municipios (solo los que aparecen en la SUBMUESTRA)\n",
    "df_sub = df_sub.copy()\n",
    "df_sub[\"municipio_idx_sub\"] = pd.Categorical(df_sub[\"municipio\"]).codes\n",
    "\n",
    "# 2) Arreglos NumPy que usará PyMC\n",
    "y_sub     = df_sub[\"talla_cm\"].to_numpy().astype(float)          # variable objetivo (cm)\n",
    "edad_sub  = df_sub[\"edad_anios_calc\"].to_numpy().astype(float)   # edad (años)\n",
    "sexo_sub  = df_sub[\"sexo\"].to_numpy().astype(int)                # 0 = mujer, 1 = hombre\n",
    "muni_sub  = df_sub[\"municipio_idx_sub\"].to_numpy().astype(int)   # índice municipal 0..J-1\n",
    "\n",
    "# 3) Versiones centrada y estandarizada de la edad\n",
    "#    - edad_c_sub: centrada => intercepto ~ talla a la edad media\n",
    "#    - edad_cs_sub: centrada + estandarizada => estable numéricamente para la compuerta (logística)\n",
    "edad_c_sub  = edad_sub - edad_sub.mean()\n",
    "edad_cs_sub = (edad_c_sub - edad_c_sub.mean()) / edad_c_sub.std()\n",
    "\n",
    "# 4) Chequeos rápidos (defensivos)\n",
    "assert set(np.unique(sexo_sub)).issubset({0,1}), \"Sexo debe ser 0/1.\"\n",
    "n_muni_sub = df_sub[\"municipio_idx_sub\"].nunique()\n",
    "assert muni_sub.min() >= 0 and muni_sub.max() < n_muni_sub, \"municipio_idx_sub fuera de rango.\"\n",
    "\n",
    "print(f\"n_obs={len(y_sub)} | n_muni_sub={n_muni_sub}\")\n",
    "print(\"Arrays listos: y_sub, edad_sub, sexo_sub, edad_c_sub, edad_cs_sub, muni_sub\")\n"
   ]
  },
  {
   "cell_type": "code",
   "execution_count": 27,
   "id": "0cb18e44",
   "metadata": {},
   "outputs": [
    {
     "name": "stdout",
     "output_type": "stream",
     "text": [
      "X_s_sub shape = (6000, 5)\n"
     ]
    }
   ],
   "source": [
    "# ====== B) B-splines cúbicos para edad ======\n",
    "\n",
    "# Grados de libertad (ajústalo: 5 suele ir bien para modo rápido)\n",
    "df_spline = 5\n",
    "\n",
    "# Construcción de la matriz de bases spline sobre la edad OBSERVADA en la submuestra\n",
    "X_spline_sub = dmatrix(\n",
    "    f\"bs(edad, df={df_spline}, degree=3, include_intercept=False) - 1\",\n",
    "    {\"edad\": edad_sub},\n",
    "    return_type=\"dataframe\"\n",
    ")\n",
    "\n",
    "# A NumPy (PyMC espera arrays)\n",
    "X_s_sub = X_spline_sub.to_numpy()\n",
    "\n",
    "# Tamaños para control\n",
    "n_obs_sub, n_s_sub = X_s_sub.shape\n",
    "print(\"X_s_sub shape =\", X_s_sub.shape)    # (n_obs_sub, n_bases)\n",
    "\n",
    "# Chequeo: debe haber una FILA por observación\n",
    "assert n_obs_sub == len(y_sub), \"X_s_sub debe tener n_obs_sub filas (una por observación).\"\n"
   ]
  },
  {
   "cell_type": "markdown",
   "id": "c9358ca4",
   "metadata": {},
   "source": [
    "---"
   ]
  },
  {
   "cell_type": "markdown",
   "id": "88a2636c",
   "metadata": {},
   "source": [
    "## Sandbox"
   ]
  },
  {
   "cell_type": "markdown",
   "id": "34f764c4",
   "metadata": {},
   "source": [
    "---"
   ]
  }
 ],
 "metadata": {
  "kernelspec": {
   "display_name": "pymc_env",
   "language": "python",
   "name": "python3"
  },
  "language_info": {
   "codemirror_mode": {
    "name": "ipython",
    "version": 3
   },
   "file_extension": ".py",
   "mimetype": "text/x-python",
   "name": "python",
   "nbconvert_exporter": "python",
   "pygments_lexer": "ipython3",
   "version": "3.10.18"
  }
 },
 "nbformat": 4,
 "nbformat_minor": 5
}
