{
 "cells": [
  {
   "cell_type": "markdown",
   "id": "18038009",
   "metadata": {},
   "source": [
    "## Preprocessing for ENSANUT 2012 - Componente de NUTRICION (Bases trabajadas)\n",
    "\n",
    "https://ensanut.insp.mx/encuestas/ensanut2012/descargas.php"
   ]
  },
  {
   "cell_type": "code",
   "execution_count": 2,
   "id": "8bb8f007",
   "metadata": {},
   "outputs": [],
   "source": [
    "import pandas as pd\n",
    "import numpy as np\n",
    "import matplotlib.pyplot as plt\n",
    "import seaborn as sns\n",
    "\n",
    "import sys\n",
    "import os\n"
   ]
  }
 ],
 "metadata": {
  "kernelspec": {
   "display_name": "sandbox",
   "language": "python",
   "name": "python3"
  },
  "language_info": {
   "codemirror_mode": {
    "name": "ipython",
    "version": 3
   },
   "file_extension": ".py",
   "mimetype": "text/x-python",
   "name": "python",
   "nbconvert_exporter": "python",
   "pygments_lexer": "ipython3",
   "version": "3.11.11"
  }
 },
 "nbformat": 4,
 "nbformat_minor": 5
}
